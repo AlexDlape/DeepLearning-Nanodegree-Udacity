{
 "cells": [
  {
   "cell_type": "markdown",
   "metadata": {},
   "source": [
    "# Creating a Sentiment Analysis Web App\n",
    "## Using PyTorch and SageMaker\n",
    "\n",
    "_Deep Learning Nanodegree Program | Deployment_\n",
    "\n",
    "---\n",
    "\n",
    "Now that we have a basic understanding of how SageMaker works we will try to use it to construct a complete project from end to end. Our goal will be to have a simple web page which a user can use to enter a movie review. The web page will then send the review off to our deployed model which will predict the sentiment of the entered review.\n",
    "\n",
    "## Instructions\n",
    "\n",
    "Some template code has already been provided for you, and you will need to implement additional functionality to successfully complete this notebook. You will not need to modify the included code beyond what is requested. Sections that begin with '**TODO**' in the header indicate that you need to complete or implement some portion within them. Instructions will be provided for each section and the specifics of the implementation are marked in the code block with a `# TODO: ...` comment. Please be sure to read the instructions carefully!\n",
    "\n",
    "In addition to implementing code, there will be questions for you to answer which relate to the task and your implementation. Each section where you will answer a question is preceded by a '**Question:**' header. Carefully read each question and provide your answer below the '**Answer:**' header by editing the Markdown cell.\n",
    "\n",
    "> **Note**: Code and Markdown cells can be executed using the **Shift+Enter** keyboard shortcut. In addition, a cell can be edited by typically clicking it (double-click for Markdown cells) or by pressing **Enter** while it is highlighted.\n",
    "\n",
    "## General Outline\n",
    "\n",
    "Recall the general outline for SageMaker projects using a notebook instance.\n",
    "\n",
    "1. Download or otherwise retrieve the data.\n",
    "2. Process / Prepare the data.\n",
    "3. Upload the processed data to S3.\n",
    "4. Train a chosen model.\n",
    "5. Test the trained model (typically using a batch transform job).\n",
    "6. Deploy the trained model.\n",
    "7. Use the deployed model.\n",
    "\n",
    "For this project, you will be following the steps in the general outline with some modifications. \n",
    "\n",
    "First, you will not be testing the model in its own step. You will still be testing the model, however, you will do it by deploying your model and then using the deployed model by sending the test data to it. One of the reasons for doing this is so that you can make sure that your deployed model is working correctly before moving forward.\n",
    "\n",
    "In addition, you will deploy and use your trained model a second time. In the second iteration you will customize the way that your trained model is deployed by including some of your own code. In addition, your newly deployed model will be used in the sentiment analysis web app."
   ]
  },
  {
   "cell_type": "markdown",
   "metadata": {},
   "source": [
    "## Step 1: Downloading the data\n",
    "\n",
    "As in the XGBoost in SageMaker notebook, we will be using the [IMDb dataset](http://ai.stanford.edu/~amaas/data/sentiment/)\n",
    "\n",
    "> Maas, Andrew L., et al. [Learning Word Vectors for Sentiment Analysis](http://ai.stanford.edu/~amaas/data/sentiment/). In _Proceedings of the 49th Annual Meeting of the Association for Computational Linguistics: Human Language Technologies_. Association for Computational Linguistics, 2011."
   ]
  },
  {
   "cell_type": "code",
   "execution_count": 1,
   "metadata": {},
   "outputs": [
    {
     "name": "stdout",
     "output_type": "stream",
     "text": [
      "mkdir: cannot create directory ‘../data’: File exists\n",
      "--2019-06-18 21:11:32--  http://ai.stanford.edu/~amaas/data/sentiment/aclImdb_v1.tar.gz\n",
      "Resolving ai.stanford.edu (ai.stanford.edu)... 171.64.68.10\n",
      "Connecting to ai.stanford.edu (ai.stanford.edu)|171.64.68.10|:80... connected.\n",
      "HTTP request sent, awaiting response... 200 OK\n",
      "Length: 84125825 (80M) [application/x-gzip]\n",
      "Saving to: ‘../data/aclImdb_v1.tar.gz’\n",
      "\n",
      "../data/aclImdb_v1. 100%[===================>]  80.23M  24.7MB/s    in 3.8s    \n",
      "\n",
      "2019-06-18 21:11:36 (21.0 MB/s) - ‘../data/aclImdb_v1.tar.gz’ saved [84125825/84125825]\n",
      "\n"
     ]
    }
   ],
   "source": [
    "%mkdir ../data\n",
    "!wget -O ../data/aclImdb_v1.tar.gz http://ai.stanford.edu/~amaas/data/sentiment/aclImdb_v1.tar.gz\n",
    "!tar -zxf ../data/aclImdb_v1.tar.gz -C ../data"
   ]
  },
  {
   "cell_type": "markdown",
   "metadata": {},
   "source": [
    "## Step 2: Preparing and Processing the data\n",
    "\n",
    "Also, as in the XGBoost notebook, we will be doing some initial data processing. The first few steps are the same as in the XGBoost example. To begin with, we will read in each of the reviews and combine them into a single input structure. Then, we will split the dataset into a training set and a testing set."
   ]
  },
  {
   "cell_type": "code",
   "execution_count": 2,
   "metadata": {},
   "outputs": [],
   "source": [
    "import os\n",
    "import glob\n",
    "\n",
    "def read_imdb_data(data_dir='../data/aclImdb'):\n",
    "    data = {}\n",
    "    labels = {}\n",
    "    \n",
    "    for data_type in ['train', 'test']:\n",
    "        data[data_type] = {}\n",
    "        labels[data_type] = {}\n",
    "        \n",
    "        for sentiment in ['pos', 'neg']:\n",
    "            data[data_type][sentiment] = []\n",
    "            labels[data_type][sentiment] = []\n",
    "            \n",
    "            path = os.path.join(data_dir, data_type, sentiment, '*.txt')\n",
    "            files = glob.glob(path)\n",
    "            \n",
    "            for f in files:\n",
    "                with open(f) as review:\n",
    "                    data[data_type][sentiment].append(review.read())\n",
    "                    # Here we represent a positive review by '1' and a negative review by '0'\n",
    "                    labels[data_type][sentiment].append(1 if sentiment == 'pos' else 0)\n",
    "                    \n",
    "            assert len(data[data_type][sentiment]) == len(labels[data_type][sentiment]), \\\n",
    "                    \"{}/{} data size does not match labels size\".format(data_type, sentiment)\n",
    "                \n",
    "    return data, labels"
   ]
  },
  {
   "cell_type": "code",
   "execution_count": 3,
   "metadata": {},
   "outputs": [
    {
     "name": "stdout",
     "output_type": "stream",
     "text": [
      "IMDB reviews: train = 12500 pos / 12500 neg, test = 12500 pos / 12500 neg\n"
     ]
    }
   ],
   "source": [
    "data, labels = read_imdb_data()\n",
    "print(\"IMDB reviews: train = {} pos / {} neg, test = {} pos / {} neg\".format(\n",
    "            len(data['train']['pos']), len(data['train']['neg']),\n",
    "            len(data['test']['pos']), len(data['test']['neg'])))"
   ]
  },
  {
   "cell_type": "markdown",
   "metadata": {},
   "source": [
    "Now that we've read the raw training and testing data from the downloaded dataset, we will combine the positive and negative reviews and shuffle the resulting records."
   ]
  },
  {
   "cell_type": "code",
   "execution_count": 4,
   "metadata": {},
   "outputs": [],
   "source": [
    "from sklearn.utils import shuffle\n",
    "\n",
    "def prepare_imdb_data(data, labels):\n",
    "    \"\"\"Prepare training and test sets from IMDb movie reviews.\"\"\"\n",
    "    \n",
    "    #Combine positive and negative reviews and labels\n",
    "    data_train = data['train']['pos'] + data['train']['neg']\n",
    "    data_test = data['test']['pos'] + data['test']['neg']\n",
    "    labels_train = labels['train']['pos'] + labels['train']['neg']\n",
    "    labels_test = labels['test']['pos'] + labels['test']['neg']\n",
    "    \n",
    "    #Shuffle reviews and corresponding labels within training and test sets\n",
    "    data_train, labels_train = shuffle(data_train, labels_train)\n",
    "    data_test, labels_test = shuffle(data_test, labels_test)\n",
    "    \n",
    "    # Return a unified training data, test data, training labels, test labets\n",
    "    return data_train, data_test, labels_train, labels_test"
   ]
  },
  {
   "cell_type": "code",
   "execution_count": 5,
   "metadata": {},
   "outputs": [
    {
     "name": "stdout",
     "output_type": "stream",
     "text": [
      "IMDb reviews (combined): train = 25000, test = 25000\n"
     ]
    }
   ],
   "source": [
    "train_X, test_X, train_y, test_y = prepare_imdb_data(data, labels)\n",
    "print(\"IMDb reviews (combined): train = {}, test = {}\".format(len(train_X), len(test_X)))"
   ]
  },
  {
   "cell_type": "markdown",
   "metadata": {},
   "source": [
    "Now that we have our training and testing sets unified and prepared, we should do a quick check and see an example of the data our model will be trained on. This is generally a good idea as it allows you to see how each of the further processing steps affects the reviews and it also ensures that the data has been loaded correctly."
   ]
  },
  {
   "cell_type": "code",
   "execution_count": 6,
   "metadata": {},
   "outputs": [
    {
     "name": "stdout",
     "output_type": "stream",
     "text": [
      "First off, the title character is not even the main character of the movie. He is the sidekick of the cult leader. The actor who portrays Igor believed that screaming loud, laughing hysterically, and having a crooked smile while bugging out your eyes would be an excellent way to scare people. Igor also had the annoying habit of yelling (because he never actually just spoke) in a high pitched voice. He would also say idiotic one-liners. For example when the cult leader murders one of his followers with a buzz saw, Igor upon seeing this, yells out \"Paul! No Paul! Why'd you do it? I could have cut her clean! So clean!\" In another scene Igor tells a victim that she would have to 'get her own tools for surgery because right now, it was his time to operate.' Aside from the bad acting, the ending did not make sense because while the story builds up what little steam it has towards the climax, which is Igor getting a crossbow arrow to the head and the rest of his lunatic buddies being killed, he shows up again two more times to kill the remaining 'good guys'. The movie offers no explanation of this, only telling the viewer that Igor escaped from the mental hospital. What??? Bottom line is do not waste your time watching this movie. I wish I could get back the moments I lost watching this.\n",
      "0\n"
     ]
    }
   ],
   "source": [
    "print(train_X[100])\n",
    "print(train_y[100])"
   ]
  },
  {
   "cell_type": "markdown",
   "metadata": {},
   "source": [
    "The first step in processing the reviews is to make sure that any html tags that appear should be removed. In addition we wish to tokenize our input, that way words such as *entertained* and *entertaining* are considered the same with regard to sentiment analysis."
   ]
  },
  {
   "cell_type": "code",
   "execution_count": 7,
   "metadata": {},
   "outputs": [],
   "source": [
    "import nltk\n",
    "from nltk.corpus import stopwords\n",
    "from nltk.stem.porter import *\n",
    "\n",
    "import re\n",
    "from bs4 import BeautifulSoup\n",
    "\n",
    "def review_to_words(review):\n",
    "    nltk.download(\"stopwords\", quiet=True)\n",
    "    stemmer = PorterStemmer()\n",
    "    \n",
    "    text = BeautifulSoup(review, \"html.parser\").get_text() # Remove HTML tags\n",
    "    text = re.sub(r\"[^a-zA-Z0-9]\", \" \", text.lower()) # Convert to lower case\n",
    "    words = text.split() # Split string into words\n",
    "    words = [w for w in words if w not in stopwords.words(\"english\")] # Remove stopwords\n",
    "    words = [PorterStemmer().stem(w) for w in words] # stem\n",
    "    \n",
    "    return words"
   ]
  },
  {
   "cell_type": "markdown",
   "metadata": {},
   "source": [
    "The `review_to_words` method defined above uses `BeautifulSoup` to remove any html tags that appear and uses the `nltk` package to tokenize the reviews. As a check to ensure we know how everything is working, try applying `review_to_words` to one of the reviews in the training set."
   ]
  },
  {
   "cell_type": "code",
   "execution_count": 8,
   "metadata": {},
   "outputs": [
    {
     "data": {
      "text/plain": [
       "['first',\n",
       " 'titl',\n",
       " 'charact',\n",
       " 'even',\n",
       " 'main',\n",
       " 'charact',\n",
       " 'movi',\n",
       " 'sidekick',\n",
       " 'cult',\n",
       " 'leader',\n",
       " 'actor',\n",
       " 'portray',\n",
       " 'igor',\n",
       " 'believ',\n",
       " 'scream',\n",
       " 'loud',\n",
       " 'laugh',\n",
       " 'hyster',\n",
       " 'crook',\n",
       " 'smile',\n",
       " 'bug',\n",
       " 'eye',\n",
       " 'would',\n",
       " 'excel',\n",
       " 'way',\n",
       " 'scare',\n",
       " 'peopl',\n",
       " 'igor',\n",
       " 'also',\n",
       " 'annoy',\n",
       " 'habit',\n",
       " 'yell',\n",
       " 'never',\n",
       " 'actual',\n",
       " 'spoke',\n",
       " 'high',\n",
       " 'pitch',\n",
       " 'voic',\n",
       " 'would',\n",
       " 'also',\n",
       " 'say',\n",
       " 'idiot',\n",
       " 'one',\n",
       " 'liner',\n",
       " 'exampl',\n",
       " 'cult',\n",
       " 'leader',\n",
       " 'murder',\n",
       " 'one',\n",
       " 'follow',\n",
       " 'buzz',\n",
       " 'saw',\n",
       " 'igor',\n",
       " 'upon',\n",
       " 'see',\n",
       " 'yell',\n",
       " 'paul',\n",
       " 'paul',\n",
       " 'could',\n",
       " 'cut',\n",
       " 'clean',\n",
       " 'clean',\n",
       " 'anoth',\n",
       " 'scene',\n",
       " 'igor',\n",
       " 'tell',\n",
       " 'victim',\n",
       " 'would',\n",
       " 'get',\n",
       " 'tool',\n",
       " 'surgeri',\n",
       " 'right',\n",
       " 'time',\n",
       " 'oper',\n",
       " 'asid',\n",
       " 'bad',\n",
       " 'act',\n",
       " 'end',\n",
       " 'make',\n",
       " 'sens',\n",
       " 'stori',\n",
       " 'build',\n",
       " 'littl',\n",
       " 'steam',\n",
       " 'toward',\n",
       " 'climax',\n",
       " 'igor',\n",
       " 'get',\n",
       " 'crossbow',\n",
       " 'arrow',\n",
       " 'head',\n",
       " 'rest',\n",
       " 'lunat',\n",
       " 'buddi',\n",
       " 'kill',\n",
       " 'show',\n",
       " 'two',\n",
       " 'time',\n",
       " 'kill',\n",
       " 'remain',\n",
       " 'good',\n",
       " 'guy',\n",
       " 'movi',\n",
       " 'offer',\n",
       " 'explan',\n",
       " 'tell',\n",
       " 'viewer',\n",
       " 'igor',\n",
       " 'escap',\n",
       " 'mental',\n",
       " 'hospit',\n",
       " 'bottom',\n",
       " 'line',\n",
       " 'wast',\n",
       " 'time',\n",
       " 'watch',\n",
       " 'movi',\n",
       " 'wish',\n",
       " 'could',\n",
       " 'get',\n",
       " 'back',\n",
       " 'moment',\n",
       " 'lost',\n",
       " 'watch']"
      ]
     },
     "execution_count": 8,
     "metadata": {},
     "output_type": "execute_result"
    }
   ],
   "source": [
    "# TODO: Apply review_to_words to a review (train_X[100] or any other review)\n",
    "review_to_words(train_X[100])"
   ]
  },
  {
   "cell_type": "markdown",
   "metadata": {},
   "source": [
    "**Question:** Above we mentioned that `review_to_words` method removes html formatting and allows us to tokenize the words found in a review, for example, converting *entertained* and *entertaining* into *entertain* so that they are treated as though they are the same word. What else, if anything, does this method do to the input?"
   ]
  },
  {
   "cell_type": "markdown",
   "metadata": {},
   "source": [
    "**Answer:**\n",
    "It removes punctuation marks.\n",
    "Furthermore, it removes stopwords, using the list of stopwords in the nltk library."
   ]
  },
  {
   "cell_type": "markdown",
   "metadata": {},
   "source": [
    "The method below applies the `review_to_words` method to each of the reviews in the training and testing datasets. In addition it caches the results. This is because performing this processing step can take a long time. This way if you are unable to complete the notebook in the current session, you can come back without needing to process the data a second time."
   ]
  },
  {
   "cell_type": "code",
   "execution_count": 9,
   "metadata": {},
   "outputs": [],
   "source": [
    "import pickle\n",
    "\n",
    "cache_dir = os.path.join(\"../cache\", \"sentiment_analysis\")  # where to store cache files\n",
    "os.makedirs(cache_dir, exist_ok=True)  # ensure cache directory exists\n",
    "\n",
    "def preprocess_data(data_train, data_test, labels_train, labels_test,\n",
    "                    cache_dir=cache_dir, cache_file=\"preprocessed_data.pkl\"):\n",
    "    \"\"\"Convert each review to words; read from cache if available.\"\"\"\n",
    "\n",
    "    # If cache_file is not None, try to read from it first\n",
    "    cache_data = None\n",
    "    if cache_file is not None:\n",
    "        try:\n",
    "            with open(os.path.join(cache_dir, cache_file), \"rb\") as f:\n",
    "                cache_data = pickle.load(f)\n",
    "            print(\"Read preprocessed data from cache file:\", cache_file)\n",
    "        except:\n",
    "            pass  # unable to read from cache, but that's okay\n",
    "    \n",
    "    # If cache is missing, then do the heavy lifting\n",
    "    if cache_data is None:\n",
    "        # Preprocess training and test data to obtain words for each review\n",
    "        #words_train = list(map(review_to_words, data_train))\n",
    "        #words_test = list(map(review_to_words, data_test))\n",
    "        words_train = [review_to_words(review) for review in data_train]\n",
    "        words_test = [review_to_words(review) for review in data_test]\n",
    "        \n",
    "        # Write to cache file for future runs\n",
    "        if cache_file is not None:\n",
    "            cache_data = dict(words_train=words_train, words_test=words_test,\n",
    "                              labels_train=labels_train, labels_test=labels_test)\n",
    "            with open(os.path.join(cache_dir, cache_file), \"wb\") as f:\n",
    "                pickle.dump(cache_data, f)\n",
    "            print(\"Wrote preprocessed data to cache file:\", cache_file)\n",
    "    else:\n",
    "        # Unpack data loaded from cache file\n",
    "        words_train, words_test, labels_train, labels_test = (cache_data['words_train'],\n",
    "                cache_data['words_test'], cache_data['labels_train'], cache_data['labels_test'])\n",
    "    \n",
    "    return words_train, words_test, labels_train, labels_test"
   ]
  },
  {
   "cell_type": "code",
   "execution_count": 10,
   "metadata": {},
   "outputs": [
    {
     "name": "stdout",
     "output_type": "stream",
     "text": [
      "Read preprocessed data from cache file: preprocessed_data.pkl\n"
     ]
    }
   ],
   "source": [
    "# Preprocess data\n",
    "train_X, test_X, train_y, test_y = preprocess_data(train_X, test_X, train_y, test_y)"
   ]
  },
  {
   "cell_type": "markdown",
   "metadata": {},
   "source": [
    "## Transform the data\n",
    "\n",
    "In the XGBoost notebook we transformed the data from its word representation to a bag-of-words feature representation. For the model we are going to construct in this notebook we will construct a feature representation which is very similar. To start, we will represent each word as an integer. Of course, some of the words that appear in the reviews occur very infrequently and so likely don't contain much information for the purposes of sentiment analysis. The way we will deal with this problem is that we will fix the size of our working vocabulary and we will only include the words that appear most frequently. We will then combine all of the infrequent words into a single category and, in our case, we will label it as `1`.\n",
    "\n",
    "Since we will be using a recurrent neural network, it will be convenient if the length of each review is the same. To do this, we will fix a size for our reviews and then pad short reviews with the category 'no word' (which we will label `0`) and truncate long reviews."
   ]
  },
  {
   "cell_type": "markdown",
   "metadata": {},
   "source": [
    "### (TODO) Create a word dictionary\n",
    "\n",
    "To begin with, we need to construct a way to map words that appear in the reviews to integers. Here we fix the size of our vocabulary (including the 'no word' and 'infrequent' categories) to be `5000` but you may wish to change this to see how it affects the model.\n",
    "\n",
    "> **TODO:** Complete the implementation for the `build_dict()` method below. Note that even though the vocab_size is set to `5000`, we only want to construct a mapping for the most frequently appearing `4998` words. This is because we want to reserve the special labels `0` for 'no word' and `1` for 'infrequent word'."
   ]
  },
  {
   "cell_type": "code",
   "execution_count": 11,
   "metadata": {},
   "outputs": [],
   "source": [
    "import numpy as np\n",
    "\n",
    "def build_dict(data, vocab_size = 5000):\n",
    "    \"\"\"Construct and return a dictionary mapping each of the most frequently appearing words to a unique integer.\"\"\"\n",
    "    \n",
    "    # TODO: Determine how often each word appears in `data`. Note that `data` is a list of sentences and that a\n",
    "    #       sentence is a list of words.\n",
    "    \n",
    "    word_count = {} # A dict storing the words that appear in the reviews along with how often they occur\n",
    "    \n",
    "    for review in data:\n",
    "        for word in review:\n",
    "            if word in word_count:\n",
    "                word_count[word] += 1\n",
    "            else:\n",
    "                word_count[word] = 1\n",
    "    \n",
    "    # TODO: Sort the words found in `data` so that sorted_words[0] is the most frequently appearing word and\n",
    "    #       sorted_words[-1] is the least frequently appearing word.\n",
    "    \n",
    "    sorted_words = [item[0] for item in sorted(word_count.items(), key=lambda x: x[1], reverse=True)]\n",
    "    \n",
    "    word_dict = {} # This is what we are building, a dictionary that translates words into integers\n",
    "    for idx, word in enumerate(sorted_words[:vocab_size - 2]): # The -2 is so that we save room for the 'no word'\n",
    "        word_dict[word] = idx + 2                              # 'infrequent' labels\n",
    "        \n",
    "    return word_dict"
   ]
  },
  {
   "cell_type": "code",
   "execution_count": 12,
   "metadata": {},
   "outputs": [],
   "source": [
    "word_dict = build_dict(train_X)"
   ]
  },
  {
   "cell_type": "code",
   "execution_count": 13,
   "metadata": {},
   "outputs": [
    {
     "name": "stdout",
     "output_type": "stream",
     "text": [
      "{'movi': 2, 'film': 3, 'one': 4, 'like': 5, 'time': 6, 'good': 7, 'make': 8, 'charact': 9, 'get': 10, 'see': 11, 'watch': 12, 'stori': 13, 'even': 14, 'would': 15, 'realli': 16, 'well': 17, 'scene': 18, 'look': 19, 'show': 20, 'much': 21, 'end': 22, 'peopl': 23, 'bad': 24, 'go': 25, 'great': 26, 'also': 27, 'first': 28, 'love': 29, 'think': 30, 'way': 31, 'act': 32, 'play': 33, 'made': 34, 'thing': 35, 'could': 36, 'know': 37, 'say': 38, 'seem': 39, 'work': 40, 'plot': 41, 'two': 42, 'actor': 43, 'year': 44, 'come': 45, 'mani': 46, 'seen': 47, 'take': 48, 'life': 49, 'want': 50, 'never': 51, 'littl': 52, 'best': 53, 'tri': 54, 'man': 55, 'ever': 56, 'give': 57, 'better': 58, 'still': 59, 'perform': 60, 'find': 61, 'feel': 62, 'part': 63, 'back': 64, 'use': 65, 'someth': 66, 'director': 67, 'actual': 68, 'interest': 69, 'lot': 70, 'real': 71, 'old': 72, 'cast': 73, 'though': 74, 'live': 75, 'star': 76, 'enjoy': 77, 'guy': 78, 'anoth': 79, 'new': 80, 'role': 81, 'noth': 82, '10': 83, 'funni': 84, 'music': 85, 'point': 86, 'start': 87, 'set': 88, 'girl': 89, 'origin': 90, 'day': 91, 'world': 92, 'everi': 93, 'believ': 94, 'turn': 95, 'quit': 96, 'direct': 97, 'us': 98, 'thought': 99, 'fact': 100, 'minut': 101, 'horror': 102, 'kill': 103, 'action': 104, 'comedi': 105, 'pretti': 106, 'young': 107, 'wonder': 108, 'happen': 109, 'around': 110, 'got': 111, 'effect': 112, 'right': 113, 'long': 114, 'howev': 115, 'big': 116, 'line': 117, 'famili': 118, 'enough': 119, 'seri': 120, 'may': 121, 'need': 122, 'fan': 123, 'bit': 124, 'script': 125, 'beauti': 126, 'person': 127, 'becom': 128, 'without': 129, 'must': 130, 'alway': 131, 'friend': 132, 'tell': 133, 'reason': 134, 'saw': 135, 'last': 136, 'final': 137, 'kid': 138, 'almost': 139, 'put': 140, 'least': 141, 'sure': 142, 'done': 143, 'whole': 144, 'place': 145, 'complet': 146, 'kind': 147, 'expect': 148, 'differ': 149, 'shot': 150, 'far': 151, 'mean': 152, 'anyth': 153, 'book': 154, 'laugh': 155, 'might': 156, 'name': 157, 'sinc': 158, 'begin': 159, '2': 160, 'probabl': 161, 'woman': 162, 'help': 163, 'entertain': 164, 'let': 165, 'screen': 166, 'call': 167, 'tv': 168, 'moment': 169, 'away': 170, 'read': 171, 'yet': 172, 'rather': 173, 'worst': 174, 'run': 175, 'fun': 176, 'lead': 177, 'hard': 178, 'audienc': 179, 'idea': 180, 'anyon': 181, 'episod': 182, 'american': 183, 'found': 184, 'appear': 185, 'bore': 186, 'especi': 187, 'although': 188, 'hope': 189, 'cours': 190, 'keep': 191, 'anim': 192, 'job': 193, 'goe': 194, 'move': 195, 'sens': 196, 'version': 197, 'dvd': 198, 'war': 199, 'money': 200, 'someon': 201, 'mind': 202, 'mayb': 203, 'problem': 204, 'true': 205, 'hous': 206, 'everyth': 207, 'nice': 208, 'second': 209, 'rate': 210, 'three': 211, 'night': 212, 'follow': 213, 'face': 214, 'recommend': 215, 'product': 216, 'main': 217, 'worth': 218, 'leav': 219, 'human': 220, 'special': 221, 'excel': 222, 'togeth': 223, 'wast': 224, 'everyon': 225, 'sound': 226, 'john': 227, 'hand': 228, '1': 229, 'father': 230, 'later': 231, 'eye': 232, 'said': 233, 'view': 234, 'instead': 235, 'review': 236, 'boy': 237, 'high': 238, 'hour': 239, 'miss': 240, 'classic': 241, 'talk': 242, 'wife': 243, 'understand': 244, 'left': 245, 'care': 246, 'black': 247, 'death': 248, 'open': 249, 'murder': 250, 'write': 251, 'half': 252, 'head': 253, 'rememb': 254, 'chang': 255, 'viewer': 256, 'fight': 257, 'gener': 258, 'surpris': 259, 'includ': 260, 'short': 261, 'die': 262, 'fall': 263, 'less': 264, 'els': 265, 'entir': 266, 'piec': 267, 'involv': 268, 'pictur': 269, 'simpli': 270, 'power': 271, 'top': 272, 'home': 273, 'total': 274, 'usual': 275, 'budget': 276, 'attempt': 277, 'suppos': 278, 'releas': 279, 'hollywood': 280, 'terribl': 281, 'song': 282, 'men': 283, 'possibl': 284, 'featur': 285, 'portray': 286, 'disappoint': 287, 'poor': 288, '3': 289, 'coupl': 290, 'stupid': 291, 'camera': 292, 'dead': 293, 'wrong': 294, 'produc': 295, 'low': 296, 'video': 297, 'either': 298, 'aw': 299, 'definit': 300, 'except': 301, 'rest': 302, 'given': 303, 'absolut': 304, 'women': 305, 'lack': 306, 'word': 307, 'writer': 308, 'titl': 309, 'talent': 310, 'decid': 311, 'full': 312, 'perfect': 313, 'along': 314, 'style': 315, 'close': 316, 'truli': 317, 'school': 318, 'emot': 319, 'save': 320, 'sex': 321, 'age': 322, 'next': 323, 'bring': 324, 'mr': 325, 'case': 326, 'killer': 327, 'heart': 328, 'comment': 329, 'sort': 330, 'creat': 331, 'perhap': 332, 'came': 333, 'brother': 334, 'sever': 335, 'joke': 336, 'art': 337, 'dialogu': 338, 'game': 339, 'small': 340, 'base': 341, 'flick': 342, 'written': 343, 'sequenc': 344, 'meet': 345, 'earli': 346, 'often': 347, 'other': 348, 'mother': 349, 'develop': 350, 'humor': 351, 'actress': 352, 'consid': 353, 'dark': 354, 'guess': 355, 'amaz': 356, 'unfortun': 357, 'lost': 358, 'light': 359, 'exampl': 360, 'cinema': 361, 'drama': 362, 'white': 363, 'ye': 364, 'experi': 365, 'imagin': 366, 'mention': 367, 'stop': 368, 'natur': 369, 'forc': 370, 'manag': 371, 'felt': 372, 'cut': 373, 'present': 374, 'children': 375, 'fail': 376, 'son': 377, 'qualiti': 378, 'support': 379, 'car': 380, 'ask': 381, 'hit': 382, 'side': 383, 'voic': 384, 'extrem': 385, 'impress': 386, 'evil': 387, 'wors': 388, 'stand': 389, 'went': 390, 'certainli': 391, 'basic': 392, 'oh': 393, 'overal': 394, 'favorit': 395, 'horribl': 396, 'mysteri': 397, 'number': 398, 'type': 399, 'danc': 400, 'wait': 401, 'hero': 402, 'alreadi': 403, '5': 404, 'learn': 405, 'matter': 406, '4': 407, 'michael': 408, 'genr': 409, 'fine': 410, 'despit': 411, 'throughout': 412, 'walk': 413, 'success': 414, 'histori': 415, 'question': 416, 'zombi': 417, 'town': 418, 'realiz': 419, 'relationship': 420, 'child': 421, 'past': 422, 'daughter': 423, 'late': 424, 'b': 425, 'wish': 426, 'hate': 427, 'credit': 428, 'event': 429, 'theme': 430, 'touch': 431, 'citi': 432, 'today': 433, 'sometim': 434, 'behind': 435, 'god': 436, 'twist': 437, 'sit': 438, 'annoy': 439, 'deal': 440, 'stay': 441, 'abl': 442, 'rent': 443, 'pleas': 444, 'edit': 445, 'blood': 446, 'deserv': 447, 'anyway': 448, 'comic': 449, 'appar': 450, 'soon': 451, 'gave': 452, 'etc': 453, 'level': 454, 'slow': 455, 'chanc': 456, 'score': 457, 'bodi': 458, 'brilliant': 459, 'incred': 460, 'figur': 461, 'situat': 462, 'major': 463, 'self': 464, 'stuff': 465, 'decent': 466, 'element': 467, 'dream': 468, 'return': 469, 'obvious': 470, 'continu': 471, 'order': 472, 'pace': 473, 'ridicul': 474, 'happi': 475, 'group': 476, 'highli': 477, 'add': 478, 'thank': 479, 'ladi': 480, 'novel': 481, 'pain': 482, 'speak': 483, 'career': 484, 'shoot': 485, 'strang': 486, 'heard': 487, 'sad': 488, 'husband': 489, 'polic': 490, 'import': 491, 'break': 492, 'took': 493, 'strong': 494, 'cannot': 495, 'predict': 496, 'robert': 497, 'violenc': 498, 'hilari': 499, 'recent': 500, 'countri': 501, 'known': 502, 'particularli': 503, 'pick': 504, 'documentari': 505, 'season': 506, 'critic': 507, 'jame': 508, 'compar': 509, 'obviou': 510, 'alon': 511, 'told': 512, 'state': 513, 'visual': 514, 'rock': 515, 'exist': 516, 'theater': 517, 'offer': 518, 'opinion': 519, 'gore': 520, 'hold': 521, 'crap': 522, 'result': 523, 'hear': 524, 'realiti': 525, 'room': 526, 'effort': 527, 'clich': 528, 'thriller': 529, 'caus': 530, 'explain': 531, 'serious': 532, 'sequel': 533, 'king': 534, 'local': 535, 'ago': 536, 'hell': 537, 'none': 538, 'note': 539, 'allow': 540, 'sister': 541, 'david': 542, 'simpl': 543, 'femal': 544, 'deliv': 545, 'ok': 546, 'class': 547, 'convinc': 548, 'check': 549, 'suspens': 550, 'win': 551, 'buy': 552, 'oscar': 553, 'huge': 554, 'valu': 555, 'sexual': 556, 'scari': 557, 'cool': 558, 'excit': 559, 'similar': 560, 'apart': 561, 'exactli': 562, 'provid': 563, 'shown': 564, 'avoid': 565, 'seriou': 566, 'english': 567, 'taken': 568, 'whose': 569, 'cinematographi': 570, 'shock': 571, 'polit': 572, 'spoiler': 573, 'offic': 574, 'across': 575, 'middl': 576, 'pass': 577, 'street': 578, 'messag': 579, 'silli': 580, 'somewhat': 581, 'charm': 582, 'modern': 583, 'confus': 584, 'filmmak': 585, 'form': 586, 'tale': 587, 'singl': 588, 'jack': 589, 'mostli': 590, 'attent': 591, 'william': 592, 'carri': 593, 'sing': 594, 'five': 595, 'subject': 596, 'richard': 597, 'prove': 598, 'team': 599, 'stage': 600, 'cop': 601, 'unlik': 602, 'georg': 603, 'televis': 604, 'monster': 605, 'earth': 606, 'villain': 607, 'cover': 608, 'pay': 609, 'marri': 610, 'toward': 611, 'build': 612, 'pull': 613, 'parent': 614, 'due': 615, 'respect': 616, 'fill': 617, 'dialog': 618, 'four': 619, 'remind': 620, 'futur': 621, 'typic': 622, 'weak': 623, '7': 624, 'cheap': 625, 'intellig': 626, 'atmospher': 627, 'british': 628, 'clearli': 629, '80': 630, 'paul': 631, 'dog': 632, 'non': 633, '8': 634, 'artist': 635, 'knew': 636, 'fast': 637, 'crime': 638, 'easili': 639, 'escap': 640, 'doubt': 641, 'adult': 642, 'detail': 643, 'date': 644, 'fire': 645, 'member': 646, 'romant': 647, 'gun': 648, 'drive': 649, 'straight': 650, 'fit': 651, 'beyond': 652, 'attack': 653, 'imag': 654, 'upon': 655, 'posit': 656, 'whether': 657, 'fantast': 658, 'peter': 659, 'appreci': 660, 'aspect': 661, 'captur': 662, 'ten': 663, 'plan': 664, 'discov': 665, 'remain': 666, 'near': 667, 'period': 668, 'realist': 669, 'air': 670, 'mark': 671, 'red': 672, 'dull': 673, 'adapt': 674, 'within': 675, 'lose': 676, 'spend': 677, 'materi': 678, 'color': 679, 'chase': 680, 'mari': 681, 'storylin': 682, 'forget': 683, 'bunch': 684, 'clear': 685, 'lee': 686, 'victim': 687, 'nearli': 688, 'box': 689, 'york': 690, 'inspir': 691, 'match': 692, 'mess': 693, 'finish': 694, 'standard': 695, 'easi': 696, 'truth': 697, 'suffer': 698, 'busi': 699, 'bill': 700, 'dramat': 701, 'space': 702, 'western': 703, 'e': 704, 'list': 705, 'battl': 706, 'notic': 707, 'de': 708, 'french': 709, 'ad': 710, '9': 711, 'tom': 712, 'larg': 713, 'among': 714, 'eventu': 715, 'accept': 716, 'train': 717, 'agre': 718, 'spirit': 719, 'soundtrack': 720, 'third': 721, 'teenag': 722, 'soldier': 723, 'adventur': 724, 'sorri': 725, 'suggest': 726, 'drug': 727, 'famou': 728, 'cri': 729, 'normal': 730, 'babi': 731, 'ultim': 732, 'troubl': 733, 'contain': 734, 'certain': 735, 'cultur': 736, 'romanc': 737, 'rare': 738, 'lame': 739, 'somehow': 740, 'disney': 741, 'mix': 742, 'gone': 743, 'cartoon': 744, 'student': 745, 'reveal': 746, 'fear': 747, 'kept': 748, 'suck': 749, 'attract': 750, 'appeal': 751, 'premis': 752, 'design': 753, 'secret': 754, 'greatest': 755, 'shame': 756, 'throw': 757, 'copi': 758, 'scare': 759, 'wit': 760, 'america': 761, 'admit': 762, 'particular': 763, 'brought': 764, 'relat': 765, 'screenplay': 766, 'whatev': 767, 'pure': 768, '70': 769, 'averag': 770, 'harri': 771, 'master': 772, 'describ': 773, 'treat': 774, 'male': 775, '20': 776, 'issu': 777, 'fantasi': 778, 'warn': 779, 'inde': 780, 'forward': 781, 'background': 782, 'free': 783, 'project': 784, 'memor': 785, 'japanes': 786, 'poorli': 787, 'award': 788, 'locat': 789, 'potenti': 790, 'amus': 791, 'struggl': 792, 'weird': 793, 'magic': 794, 'societi': 795, 'okay': 796, 'imdb': 797, 'doctor': 798, 'accent': 799, 'hot': 800, 'water': 801, 'alien': 802, 'dr': 803, '30': 804, 'express': 805, 'odd': 806, 'choic': 807, 'crazi': 808, 'fiction': 809, 'studio': 810, 'becam': 811, 'control': 812, 'masterpiec': 813, 'fli': 814, 'difficult': 815, 'joe': 816, 'scream': 817, 'costum': 818, 'lover': 819, 'refer': 820, 'uniqu': 821, 'remak': 822, 'girlfriend': 823, 'vampir': 824, 'prison': 825, 'execut': 826, 'wear': 827, 'jump': 828, 'unless': 829, 'wood': 830, 'creepi': 831, 'cheesi': 832, 'superb': 833, 'otherwis': 834, 'parti': 835, 'roll': 836, 'ghost': 837, 'public': 838, 'mad': 839, 'depict': 840, 'earlier': 841, 'week': 842, 'badli': 843, 'moral': 844, 'jane': 845, 'dumb': 846, 'fi': 847, 'grow': 848, 'flaw': 849, 'deep': 850, 'sci': 851, 'maker': 852, 'cat': 853, 'footag': 854, 'older': 855, 'connect': 856, 'bother': 857, 'plenti': 858, 'outsid': 859, 'stick': 860, 'gay': 861, 'catch': 862, 'co': 863, 'plu': 864, 'popular': 865, 'equal': 866, 'social': 867, 'quickli': 868, 'disturb': 869, 'perfectli': 870, 'dress': 871, 'era': 872, '90': 873, 'mistak': 874, 'lie': 875, 'previou': 876, 'ride': 877, 'combin': 878, 'concept': 879, 'band': 880, 'rich': 881, 'surviv': 882, 'answer': 883, 'front': 884, 'sweet': 885, 'christma': 886, 'insid': 887, 'bare': 888, 'concern': 889, 'eat': 890, 'listen': 891, 'beat': 892, 'ben': 893, 'c': 894, 'serv': 895, 'term': 896, 'meant': 897, 'german': 898, 'la': 899, 'hardli': 900, 'stereotyp': 901, 'law': 902, 'innoc': 903, 'desper': 904, 'promis': 905, 'memori': 906, 'intent': 907, 'cute': 908, 'steal': 909, 'variou': 910, 'inform': 911, 'brain': 912, 'post': 913, 'tone': 914, 'island': 915, 'amount': 916, 'nuditi': 917, 'track': 918, 'compani': 919, 'claim': 920, 'store': 921, '50': 922, 'hair': 923, 'flat': 924, 'univers': 925, 'land': 926, 'scott': 927, 'fairli': 928, 'kick': 929, 'danger': 930, 'player': 931, 'plain': 932, 'step': 933, 'crew': 934, 'toni': 935, 'share': 936, 'tast': 937, 'centuri': 938, 'achiev': 939, 'engag': 940, 'travel': 941, 'cold': 942, 'suit': 943, 'rip': 944, 'record': 945, 'sadli': 946, 'manner': 947, 'wrote': 948, 'spot': 949, 'tension': 950, 'intens': 951, 'fascin': 952, 'familiar': 953, 'remark': 954, 'burn': 955, 'depth': 956, 'destroy': 957, 'histor': 958, 'sleep': 959, 'purpos': 960, 'languag': 961, 'ruin': 962, 'ignor': 963, 'delight': 964, 'italian': 965, 'unbeliev': 966, 'abil': 967, 'collect': 968, 'soul': 969, 'clever': 970, 'detect': 971, 'violent': 972, 'rape': 973, 'reach': 974, 'door': 975, 'scienc': 976, 'liter': 977, 'trash': 978, 'reveng': 979, 'caught': 980, 'commun': 981, 'creatur': 982, 'trip': 983, 'approach': 984, 'intrigu': 985, 'fashion': 986, 'paint': 987, 'introduc': 988, 'skill': 989, 'channel': 990, 'complex': 991, 'camp': 992, 'christian': 993, 'extra': 994, 'hole': 995, 'immedi': 996, 'limit': 997, 'mental': 998, 'ann': 999, 'million': 1000, 'slightli': 1001, 'comput': 1002, '6': 1003, 'mere': 1004, 'slasher': 1005, 'conclus': 1006, 'suddenli': 1007, 'imposs': 1008, 'teen': 1009, 'neither': 1010, 'crimin': 1011, 'spent': 1012, 'physic': 1013, 'nation': 1014, 'respons': 1015, 'planet': 1016, 'fake': 1017, 'receiv': 1018, 'sick': 1019, 'blue': 1020, 'bizarr': 1021, 'embarrass': 1022, 'indian': 1023, 'ring': 1024, '15': 1025, 'pop': 1026, 'drop': 1027, 'drag': 1028, 'haunt': 1029, 'pointless': 1030, 'suspect': 1031, 'search': 1032, 'edg': 1033, 'handl': 1034, 'common': 1035, 'biggest': 1036, 'arriv': 1037, 'hurt': 1038, 'faith': 1039, 'technic': 1040, 'angel': 1041, 'genuin': 1042, 'dad': 1043, 'f': 1044, 'solid': 1045, 'awesom': 1046, 'focu': 1047, 'former': 1048, 'colleg': 1049, 'van': 1050, 'count': 1051, 'tear': 1052, 'heavi': 1053, 'wall': 1054, 'rais': 1055, 'laughabl': 1056, 'younger': 1057, 'visit': 1058, 'fair': 1059, 'excus': 1060, 'sign': 1061, 'cult': 1062, 'motion': 1063, 'tough': 1064, 'key': 1065, 'desir': 1066, 'super': 1067, 'stun': 1068, 'addit': 1069, 'exploit': 1070, 'cloth': 1071, 'tortur': 1072, 'smith': 1073, 'race': 1074, 'davi': 1075, 'author': 1076, 'cross': 1077, 'jim': 1078, 'consist': 1079, 'minor': 1080, 'focus': 1081, 'compel': 1082, 'chemistri': 1083, 'commit': 1084, 'pathet': 1085, 'park': 1086, 'tradit': 1087, 'frank': 1088, 'obsess': 1089, 'grade': 1090, 'asid': 1091, '60': 1092, 'brutal': 1093, 'somewher': 1094, 'steve': 1095, 'explor': 1096, 'u': 1097, 'rule': 1098, 'grant': 1099, 'opportun': 1100, 'depress': 1101, 'besid': 1102, 'honest': 1103, 'anti': 1104, 'dub': 1105, 'trailer': 1106, 'intend': 1107, 'bar': 1108, 'regard': 1109, 'scientist': 1110, 'longer': 1111, 'west': 1112, 'decad': 1113, 'judg': 1114, 'silent': 1115, 'armi': 1116, 'creativ': 1117, 'wild': 1118, 'g': 1119, 'stewart': 1120, 'south': 1121, 'draw': 1122, 'road': 1123, 'govern': 1124, 'boss': 1125, 'ex': 1126, 'practic': 1127, 'festiv': 1128, 'gang': 1129, 'motiv': 1130, 'club': 1131, 'surprisingli': 1132, 'redeem': 1133, 'page': 1134, 'london': 1135, 'green': 1136, 'militari': 1137, 'display': 1138, 'idiot': 1139, 'machin': 1140, 'aliv': 1141, 'repeat': 1142, 'thrill': 1143, 'folk': 1144, 'yeah': 1145, '100': 1146, 'nobodi': 1147, '40': 1148, 'garbag': 1149, 'journey': 1150, 'tire': 1151, 'ground': 1152, 'smile': 1153, 'bought': 1154, 'mood': 1155, 'stone': 1156, 'cost': 1157, 'sam': 1158, 'mouth': 1159, 'noir': 1160, 'agent': 1161, 'terrif': 1162, 'utterli': 1163, 'requir': 1164, 'sexi': 1165, 'honestli': 1166, 'area': 1167, 'report': 1168, 'geniu': 1169, 'humour': 1170, 'glad': 1171, 'investig': 1172, 'enter': 1173, 'serial': 1174, 'occasion': 1175, 'passion': 1176, 'narr': 1177, 'climax': 1178, 'marriag': 1179, 'industri': 1180, 'studi': 1181, 'center': 1182, 'charli': 1183, 'nowher': 1184, 'demon': 1185, 'ship': 1186, 'loos': 1187, 'bear': 1188, 'hors': 1189, 'wow': 1190, 'hang': 1191, 'graphic': 1192, 'admir': 1193, 'giant': 1194, 'send': 1195, 'loud': 1196, 'damn': 1197, 'subtl': 1198, 'profession': 1199, 'nake': 1200, 'rel': 1201, 'blow': 1202, 'bottom': 1203, 'insult': 1204, 'batman': 1205, 'r': 1206, 'doubl': 1207, 'boyfriend': 1208, 'kelli': 1209, 'initi': 1210, 'frame': 1211, 'gem': 1212, 'opera': 1213, 'drawn': 1214, 'affect': 1215, 'church': 1216, 'cinemat': 1217, 'challeng': 1218, 'nightmar': 1219, 'evid': 1220, 'j': 1221, 'seek': 1222, 'fulli': 1223, 'l': 1224, 'essenti': 1225, 'conflict': 1226, 'arm': 1227, 'christoph': 1228, 'wind': 1229, 'grace': 1230, 'henri': 1231, 'narrat': 1232, 'assum': 1233, 'witch': 1234, 'push': 1235, 'hunt': 1236, 'chri': 1237, 'wise': 1238, 'nomin': 1239, 'month': 1240, 'repres': 1241, 'avail': 1242, 'hide': 1243, 'affair': 1244, 'sceneri': 1245, 'thu': 1246, 'justic': 1247, 'smart': 1248, 'bond': 1249, 'interview': 1250, 'outstand': 1251, 'flashback': 1252, 'presenc': 1253, 'constantli': 1254, 'satisfi': 1255, 'bed': 1256, 'central': 1257, 'iron': 1258, 'sell': 1259, 'content': 1260, 'gag': 1261, 'everybodi': 1262, 'slowli': 1263, 'hotel': 1264, 'hire': 1265, 'system': 1266, 'thrown': 1267, 'hey': 1268, 'individu': 1269, 'charl': 1270, 'adam': 1271, 'mediocr': 1272, 'jone': 1273, 'allen': 1274, 'billi': 1275, 'lesson': 1276, 'ray': 1277, 'photographi': 1278, 'cameo': 1279, 'fellow': 1280, 'pari': 1281, 'strike': 1282, 'rise': 1283, 'brief': 1284, 'independ': 1285, 'absurd': 1286, 'neg': 1287, 'phone': 1288, 'impact': 1289, 'ill': 1290, 'model': 1291, 'born': 1292, 'spoil': 1293, 'fresh': 1294, 'angl': 1295, 'likabl': 1296, 'abus': 1297, 'hill': 1298, 'discuss': 1299, 'sight': 1300, 'ahead': 1301, 'sent': 1302, 'photograph': 1303, 'blame': 1304, 'shine': 1305, 'logic': 1306, 'occur': 1307, 'mainli': 1308, 'bruce': 1309, 'forev': 1310, 'commerci': 1311, 'skip': 1312, 'held': 1313, 'teacher': 1314, 'surround': 1315, 'segment': 1316, 'zero': 1317, 'blond': 1318, 'satir': 1319, 'summer': 1320, 'trap': 1321, 'resembl': 1322, 'six': 1323, 'queen': 1324, 'fool': 1325, 'ball': 1326, 'sub': 1327, 'twice': 1328, 'tragedi': 1329, 'pack': 1330, 'reaction': 1331, 'bomb': 1332, 'will': 1333, 'hospit': 1334, 'protagonist': 1335, 'mile': 1336, 'sport': 1337, 'trust': 1338, 'mom': 1339, 'vote': 1340, 'jerri': 1341, 'drink': 1342, 'encount': 1343, 'plane': 1344, 'current': 1345, 'al': 1346, 'program': 1347, 'station': 1348, 'celebr': 1349, 'choos': 1350, 'martin': 1351, 'join': 1352, 'tragic': 1353, 'lord': 1354, 'favourit': 1355, 'field': 1356, 'round': 1357, 'jean': 1358, 'vision': 1359, 'robot': 1360, 'arthur': 1361, 'tie': 1362, 'fortun': 1363, 'roger': 1364, 'random': 1365, 'psycholog': 1366, 'intern': 1367, 'dread': 1368, 'improv': 1369, 'prefer': 1370, 'epic': 1371, 'nonsens': 1372, 'pleasur': 1373, 'highlight': 1374, 'formula': 1375, 'legend': 1376, 'dollar': 1377, 'tape': 1378, '11': 1379, 'porn': 1380, 'thin': 1381, 'gorgeou': 1382, 'wide': 1383, 'fox': 1384, 'object': 1385, 'ugli': 1386, 'buddi': 1387, 'influenc': 1388, 'prepar': 1389, 'nasti': 1390, 'ii': 1391, 'reflect': 1392, 'warm': 1393, 'supposedli': 1394, 'progress': 1395, 'worthi': 1396, 'youth': 1397, 'length': 1398, 'unusu': 1399, 'latter': 1400, 'crash': 1401, 'superior': 1402, 'childhood': 1403, 'seven': 1404, 'shop': 1405, 'theatr': 1406, 'remot': 1407, 'paid': 1408, 'funniest': 1409, 'disgust': 1410, 'pilot': 1411, 'castl': 1412, 'trick': 1413, 'convers': 1414, 'fell': 1415, 'gangster': 1416, 'rob': 1417, 'establish': 1418, 'disast': 1419, 'ident': 1420, 'disappear': 1421, 'mine': 1422, 'suicid': 1423, 'heaven': 1424, 'heroin': 1425, 'mask': 1426, 'tend': 1427, 'singer': 1428, 'forgotten': 1429, 'decis': 1430, 'brian': 1431, 'partner': 1432, 'alan': 1433, 'recogn': 1434, 'desert': 1435, 'sky': 1436, 'thoroughli': 1437, 'stuck': 1438, 'ms': 1439, 'p': 1440, 'replac': 1441, 'accur': 1442, 'market': 1443, 'seemingli': 1444, 'commentari': 1445, 'eddi': 1446, 'uncl': 1447, 'danni': 1448, 'clue': 1449, 'andi': 1450, 'jackson': 1451, 'devil': 1452, 'refus': 1453, 'pair': 1454, 'that': 1455, 'therefor': 1456, 'fault': 1457, 'ed': 1458, 'unit': 1459, 'fate': 1460, 'accid': 1461, 'river': 1462, 'tune': 1463, 'afraid': 1464, 'stephen': 1465, 'hidden': 1466, 'clean': 1467, 'russian': 1468, 'quick': 1469, 'readi': 1470, 'convey': 1471, 'instanc': 1472, 'irrit': 1473, 'captain': 1474, 'test': 1475, 'european': 1476, 'frustrat': 1477, 'insan': 1478, 'daniel': 1479, 'chines': 1480, 'wed': 1481, '1950': 1482, 'rescu': 1483, 'food': 1484, 'dirti': 1485, 'angri': 1486, 'lock': 1487, 'joy': 1488, 'price': 1489, 'steven': 1490, 'bland': 1491, 'cage': 1492, 'rang': 1493, 'anymor': 1494, 'wooden': 1495, 'rush': 1496, 'n': 1497, 'jason': 1498, 'news': 1499, 'board': 1500, 'twenti': 1501, 'worri': 1502, 'martial': 1503, '12': 1504, 'led': 1505, 'symbol': 1506, 'hunter': 1507, 'transform': 1508, 'cgi': 1509, 'piti': 1510, 'onto': 1511, 'sentiment': 1512, 'johnni': 1513, 'invent': 1514, 'x': 1515, 'explan': 1516, 'process': 1517, 'attitud': 1518, 'awar': 1519, 'owner': 1520, 'aim': 1521, 'floor': 1522, 'target': 1523, 'favor': 1524, 'necessari': 1525, 'energi': 1526, 'opposit': 1527, 'religi': 1528, 'blind': 1529, 'insight': 1530, 'chick': 1531, 'window': 1532, 'movement': 1533, 'comparison': 1534, 'research': 1535, 'possess': 1536, 'mountain': 1537, 'deepli': 1538, 'comed': 1539, 'grand': 1540, 'whatsoev': 1541, 'rain': 1542, 'began': 1543, 'bank': 1544, 'mid': 1545, 'shadow': 1546, 'parodi': 1547, 'princ': 1548, 'weapon': 1549, 'pre': 1550, 'taylor': 1551, 'credibl': 1552, 'friendship': 1553, 'dougla': 1554, 'teach': 1555, 'flesh': 1556, 'bloodi': 1557, 'protect': 1558, 'terror': 1559, 'hint': 1560, 'marvel': 1561, 'anybodi': 1562, 'watchabl': 1563, 'accord': 1564, 'load': 1565, 'drunk': 1566, 'leader': 1567, 'superman': 1568, 'freddi': 1569, 'brown': 1570, 'jeff': 1571, 'hitler': 1572, 'tim': 1573, 'appropri': 1574, 'seat': 1575, 'villag': 1576, 'unknown': 1577, 'keaton': 1578, 'knock': 1579, 'charg': 1580, 'unnecessari': 1581, 'empti': 1582, 'england': 1583, 'enemi': 1584, 'media': 1585, 'perspect': 1586, 'strength': 1587, 'dare': 1588, 'wave': 1589, 'buck': 1590, 'craft': 1591, 'utter': 1592, 'kiss': 1593, 'correct': 1594, 'ford': 1595, 'nativ': 1596, 'contrast': 1597, 'magnific': 1598, 'nazi': 1599, 'chill': 1600, 'soap': 1601, 'anywher': 1602, 'speed': 1603, 'knowledg': 1604, 'distract': 1605, 'ice': 1606, 'mission': 1607, 'breath': 1608, 'fred': 1609, '1980': 1610, 'crowd': 1611, 'moon': 1612, 'joan': 1613, 'jr': 1614, '000': 1615, 'frighten': 1616, 'soft': 1617, 'kate': 1618, 'dick': 1619, 'nick': 1620, 'hundr': 1621, 'dan': 1622, 'radio': 1623, 'somebodi': 1624, 'simon': 1625, 'dozen': 1626, 'academi': 1627, 'thousand': 1628, 'loss': 1629, 'shakespear': 1630, 'andrew': 1631, 'sum': 1632, 'root': 1633, 'quot': 1634, 'account': 1635, 'vehicl': 1636, 'leg': 1637, '1970': 1638, 'convent': 1639, 'behavior': 1640, 'gold': 1641, 'regular': 1642, 'demand': 1643, 'pretenti': 1644, 'worker': 1645, 'compet': 1646, 'explos': 1647, 'candi': 1648, 'interpret': 1649, 'notabl': 1650, 'japan': 1651, 'lynch': 1652, 'privat': 1653, 'stretch': 1654, 'debut': 1655, 'tarzan': 1656, 'constant': 1657, 'prais': 1658, 'translat': 1659, 'revolv': 1660, 'spi': 1661, 'sea': 1662, 'ass': 1663, 'quiet': 1664, 'failur': 1665, 'technolog': 1666, 'sat': 1667, 'threaten': 1668, 'franc': 1669, 'jesu': 1670, 'met': 1671, 'higher': 1672, 'punch': 1673, 'toy': 1674, 'kevin': 1675, 'aid': 1676, 'mike': 1677, 'vh': 1678, 'abandon': 1679, 'interact': 1680, 'separ': 1681, 'confront': 1682, 'bet': 1683, 'command': 1684, 'servic': 1685, 'belong': 1686, 'recal': 1687, 'techniqu': 1688, 'stunt': 1689, 'site': 1690, 'gotten': 1691, 'freak': 1692, 'foot': 1693, 'cabl': 1694, 'bug': 1695, 'bright': 1696, 'jimmi': 1697, 'capabl': 1698, 'fu': 1699, 'african': 1700, 'fat': 1701, 'presid': 1702, 'boat': 1703, 'stock': 1704, 'succeed': 1705, 'clark': 1706, 'gene': 1707, 'structur': 1708, 'spanish': 1709, 'paper': 1710, 'kidnap': 1711, 'whilst': 1712, 'belief': 1713, 'factor': 1714, 'educ': 1715, 'witti': 1716, 'realis': 1717, 'tree': 1718, 'realism': 1719, 'bob': 1720, 'complic': 1721, 'attend': 1722, 'finest': 1723, 'santa': 1724, 'broken': 1725, 'assist': 1726, 'up': 1727, 'observ': 1728, 'determin': 1729, 'smoke': 1730, 'v': 1731, 'depart': 1732, 'fame': 1733, 'hat': 1734, 'routin': 1735, 'rubbish': 1736, 'oper': 1737, 'domin': 1738, 'lewi': 1739, 'foreign': 1740, 'advanc': 1741, 'morgan': 1742, 'kinda': 1743, 'safe': 1744, 'lone': 1745, 'hook': 1746, 'rank': 1747, 'numer': 1748, 'vs': 1749, 'shape': 1750, 'rose': 1751, 'shallow': 1752, 'washington': 1753, 'civil': 1754, 'werewolf': 1755, 'gari': 1756, 'morn': 1757, 'ordinari': 1758, 'winner': 1759, 'accomplish': 1760, 'kong': 1761, 'grab': 1762, 'whenev': 1763, 'peac': 1764, 'virtual': 1765, 'h': 1766, 'offens': 1767, 'luck': 1768, 'complain': 1769, 'activ': 1770, 'welcom': 1771, 'patient': 1772, 'contriv': 1773, 'unfunni': 1774, 'bigger': 1775, 'pretend': 1776, 'dimension': 1777, 'trek': 1778, 'con': 1779, 'lesbian': 1780, 'dri': 1781, 'wake': 1782, 'flash': 1783, 'eric': 1784, 'cain': 1785, 'code': 1786, 'manipul': 1787, 'corrupt': 1788, 'statu': 1789, 'dancer': 1790, 'albert': 1791, 'guard': 1792, 'gain': 1793, 'sourc': 1794, 'context': 1795, 'signific': 1796, 'awkward': 1797, 'speech': 1798, 'psycho': 1799, 'corni': 1800, 'clip': 1801, 'anthoni': 1802, 'sean': 1803, '13': 1804, 'w': 1805, 'reli': 1806, 'advic': 1807, 'curiou': 1808, 'religion': 1809, 'priest': 1810, 'theatric': 1811, 'addict': 1812, 'flow': 1813, 'asian': 1814, 'skin': 1815, 'secur': 1816, 'jennif': 1817, 'howard': 1818, 'specif': 1819, 'comfort': 1820, 'core': 1821, 'organ': 1822, 'golden': 1823, 'luke': 1824, 'promot': 1825, 'cash': 1826, 'cheat': 1827, 'lucki': 1828, 'lower': 1829, 'dislik': 1830, 'associ': 1831, 'frequent': 1832, 'balanc': 1833, 'degre': 1834, 'wing': 1835, 'spell': 1836, 'contribut': 1837, 'regret': 1838, 'devic': 1839, 'frankli': 1840, 'lake': 1841, 'print': 1842, 'sake': 1843, 'forgiv': 1844, 'thoma': 1845, 'mass': 1846, 'betti': 1847, 'crack': 1848, 'unexpect': 1849, 'gordon': 1850, 'categori': 1851, 'unfold': 1852, 'grown': 1853, 'construct': 1854, 'amateur': 1855, 'depend': 1856, 'invit': 1857, 'intellectu': 1858, 'condit': 1859, 'grew': 1860, 'honor': 1861, 'matur': 1862, 'anna': 1863, 'walter': 1864, 'veteran': 1865, 'spectacular': 1866, 'sudden': 1867, 'mirror': 1868, 'sole': 1869, 'grip': 1870, 'freedom': 1871, 'experienc': 1872, 'demonstr': 1873, 'liner': 1874, 'gift': 1875, 'overli': 1876, 'robin': 1877, 'meanwhil': 1878, 'card': 1879, 'oliv': 1880, 'colour': 1881, 'section': 1882, 'drew': 1883, 'subtitl': 1884, 'crappi': 1885, 'circumst': 1886, 'theori': 1887, 'brilliantli': 1888, 'unabl': 1889, 'sheriff': 1890, 'altern': 1891, 'cook': 1892, 'sheer': 1893, 'laughter': 1894, 'path': 1895, 'parker': 1896, 'pile': 1897, 'matt': 1898, 'hall': 1899, 'defin': 1900, 'wander': 1901, 'sinatra': 1902, 'treatment': 1903, 'accident': 1904, 'lawyer': 1905, 'relief': 1906, 'captiv': 1907, 'dragon': 1908, 'hank': 1909, 'moor': 1910, 'halloween': 1911, 'gratuit': 1912, 'wound': 1913, 'unintent': 1914, 'broadway': 1915, 'kung': 1916, 'cowboy': 1917, 'k': 1918, 'jacki': 1919, 'barbara': 1920, 'wayn': 1921, 'canadian': 1922, 'surreal': 1923, 'statement': 1924, 'spoof': 1925, 'winter': 1926, 'fare': 1927, 'compos': 1928, 'cheer': 1929, 'gonna': 1930, 'fish': 1931, 'treasur': 1932, 'victor': 1933, 'unrealist': 1934, 'sensit': 1935, 'emerg': 1936, 'woodi': 1937, 'ran': 1938, 'sympathet': 1939, 'neighbor': 1940, 'driven': 1941, 'topic': 1942, 'overlook': 1943, 'menac': 1944, 'glass': 1945, 'expos': 1946, 'authent': 1947, 'handsom': 1948, 'ancient': 1949, 'michel': 1950, 'chief': 1951, 'gross': 1952, 'pleasant': 1953, 'feet': 1954, 'nevertheless': 1955, 'stranger': 1956, 'built': 1957, 'cinderella': 1958, 'contemporari': 1959, 'network': 1960, 'comedian': 1961, 'russel': 1962, 'gori': 1963, 'endless': 1964, 'blockbust': 1965, 'consider': 1966, 'miser': 1967, 'earn': 1968, 'letter': 1969, 'underr': 1970, 'brook': 1971, 'solv': 1972, 'switch': 1973, 'bullet': 1974, 'convict': 1975, 'victoria': 1976, 'virgin': 1977, 'joseph': 1978, 'edward': 1979, 'scale': 1980, '0': 1981, 'chosen': 1982, 'cynic': 1983, 'scenario': 1984, 'alex': 1985, 'outrag': 1986, 'com': 1987, 'sword': 1988, 'gut': 1989, 'curs': 1990, 'screenwrit': 1991, 'juli': 1992, 'substanc': 1993, 'driver': 1994, 'uk': 1995, 'wrap': 1996, 'monkey': 1997, 'proper': 1998, 'indic': 1999, 'court': 2000, 'remov': 2001, 'bird': 2002, 'par': 2003, 'naiv': 2004, 'advertis': 2005, 'loser': 2006, 'consequ': 2007, 'grave': 2008, 'roy': 2009, 'rental': 2010, 'inevit': 2011, 'nanci': 2012, 'bridg': 2013, 'germani': 2014, 'fatal': 2015, 'slap': 2016, 'le': 2017, 'brave': 2018, 'invis': 2019, 'provok': 2020, 'footbal': 2021, 'ador': 2022, 'anger': 2023, 'loui': 2024, 'anderson': 2025, 'chan': 2026, 'alcohol': 2027, 'ryan': 2028, 'professor': 2029, 'willi': 2030, 'stumbl': 2031, 'patrick': 2032, '1930': 2033, 'sharp': 2034, 'australian': 2035, 'bat': 2036, 'assassin': 2037, 'refresh': 2038, 'amateurish': 2039, 'eight': 2040, 'ape': 2041, 'liber': 2042, 'strongli': 2043, 'trilog': 2044, 'deni': 2045, 'heck': 2046, 'saturday': 2047, 'lousi': 2048, 'cell': 2049, 'sin': 2050, 'resid': 2051, 'vagu': 2052, 'justifi': 2053, 'san': 2054, 'mini': 2055, 'reput': 2056, 'indi': 2057, 'sympathi': 2058, 'creator': 2059, 'defeat': 2060, 'terrifi': 2061, 'tediou': 2062, 'endur': 2063, 'tabl': 2064, 'prevent': 2065, 'expert': 2066, 'task': 2067, 'offend': 2068, 'che': 2069, 'trial': 2070, 'imit': 2071, 'basebal': 2072, 'employ': 2073, 'rival': 2074, 'max': 2075, 'pitch': 2076, 'fairi': 2077, 'europ': 2078, 'complaint': 2079, 'dig': 2080, 'beach': 2081, 'weekend': 2082, 'purchas': 2083, 'risk': 2084, 'murphi': 2085, 'format': 2086, 'hype': 2087, 'bite': 2088, 'nois': 2089, 'tini': 2090, 'powel': 2091, 'reminisc': 2092, 'harsh': 2093, 'titan': 2094, 'glimps': 2095, 'north': 2096, 'till': 2097, 'asleep': 2098, 'strip': 2099, 'prime': 2100, 'fals': 2101, '14': 2102, 'descript': 2103, 'revel': 2104, 'texa': 2105, 'africa': 2106, 'destruct': 2107, 'excess': 2108, 'uninterest': 2109, 'inner': 2110, 'spin': 2111, 'sitcom': 2112, 'surfac': 2113, 'semi': 2114, 'arrest': 2115, 'controversi': 2116, 'argu': 2117, 'twin': 2118, 'hitchcock': 2119, 'maintain': 2120, 'massiv': 2121, 'makeup': 2122, 'dinosaur': 2123, 'reject': 2124, 'ludicr': 2125, 'insist': 2126, 'kim': 2127, 'stare': 2128, 'expens': 2129, 'ideal': 2130, 'melodrama': 2131, 'atroci': 2132, 'press': 2133, 'erot': 2134, 'supernatur': 2135, 'forest': 2136, 'host': 2137, 'nail': 2138, 'subplot': 2139, 'ala': 2140, 'ga': 2141, 'columbo': 2142, 'identifi': 2143, 'presum': 2144, 'cant': 2145, 'dude': 2146, 'notch': 2147, 'method': 2148, 'character': 2149, 'plagu': 2150, 'closer': 2151, 'guest': 2152, 'forgett': 2153, 'crude': 2154, 'lion': 2155, 'ear': 2156, 'princess': 2157, 'landscap': 2158, 'beast': 2159, 'border': 2160, 'foster': 2161, 'pacino': 2162, 'previous': 2163, 'aunt': 2164, 'jungl': 2165, 'bound': 2166, 'accus': 2167, 'urban': 2168, 'birth': 2169, 'damag': 2170, 'storytel': 2171, 'propaganda': 2172, 'guid': 2173, 'jess': 2174, 'doll': 2175, 'thirti': 2176, 'emma': 2177, 'chose': 2178, 'nude': 2179, '25': 2180, 'mainstream': 2181, 'warrior': 2182, 'pet': 2183, 'mate': 2184, 'whoever': 2185, 'cooper': 2186, 'deadli': 2187, 'exact': 2188, 'size': 2189, 'latest': 2190, 'poster': 2191, 'gritti': 2192, 'friday': 2193, 'merit': 2194, 'upset': 2195, 'buff': 2196, 'popul': 2197, '1990': 2198, 'blend': 2199, 'ton': 2200, 'wilson': 2201, 'warner': 2202, 'contest': 2203, 'sun': 2204, 'corps': 2205, 'citizen': 2206, 'settl': 2207, 'contact': 2208, 'rough': 2209, 'widow': 2210, 'bu': 2211, 'alic': 2212, 'select': 2213, 'overcom': 2214, 'pitt': 2215, 'mgm': 2216, 'metal': 2217, 'environ': 2218, 'rat': 2219, 'guilti': 2220, 'link': 2221, 'revolut': 2222, 'particip': 2223, 'ted': 2224, 'lift': 2225, 'moron': 2226, 'matrix': 2227, 'afternoon': 2228, 'prostitut': 2229, 'corpor': 2230, '1960': 2231, 'exagger': 2232, 'johnson': 2233, 'accompani': 2234, 'corner': 2235, 'friendli': 2236, 'instal': 2237, 'sincer': 2238, 'hood': 2239, 'clair': 2240, 'doom': 2241, 'multipl': 2242, 'holm': 2243, 'leagu': 2244, 'junk': 2245, 'examin': 2246, 'advis': 2247, 'blah': 2248, 'irish': 2249, 'sunday': 2250, 'campi': 2251, 'string': 2252, 'aka': 2253, 'hip': 2254, 'grim': 2255, 'defend': 2256, 'lugosi': 2257, 'pro': 2258, 'confid': 2259, 'icon': 2260, 'varieti': 2261, 'shut': 2262, 'shake': 2263, 'rachel': 2264, 'tight': 2265, 'medic': 2266, 'attach': 2267, 'jaw': 2268, 'mexican': 2269, 'directli': 2270, 'denni': 2271, 'goal': 2272, 'sullivan': 2273, 'sarah': 2274, 'vietnam': 2275, 'dean': 2276, 'terrorist': 2277, 'truck': 2278, 'prior': 2279, 'sentenc': 2280, 'legendari': 2281, 'courag': 2282, 'breast': 2283, 'duke': 2284, 'bourn': 2285, 'split': 2286, 'behav': 2287, 'proceed': 2288, 'hong': 2289, 'donald': 2290, 'nose': 2291, 'yell': 2292, 'un': 2293, 'entri': 2294, 'unconvinc': 2295, 'crush': 2296, 'swim': 2297, 'concentr': 2298, 'everywher': 2299, 'forth': 2300, 'stolen': 2301, 'jerk': 2302, 'borrow': 2303, 'buri': 2304, 'gather': 2305, 'lifetim': 2306, 'confess': 2307, 'deliveri': 2308, 'spite': 2309, 'turkey': 2310, 'julia': 2311, 'pan': 2312, 'lip': 2313, 'california': 2314, 'china': 2315, 'proud': 2316, 'quest': 2317, 'freeman': 2318, 'downright': 2319, 'flight': 2320, 'reward': 2321, 'offici': 2322, 'hoffman': 2323, 'jon': 2324, 'sink': 2325, 'sir': 2326, 'fabul': 2327, 'encourag': 2328, 'worthwhil': 2329, 'lazi': 2330, 'fade': 2331, 'betray': 2332, 'inept': 2333, 'notori': 2334, 'jail': 2335, 'branagh': 2336, 'survivor': 2337, 'lisa': 2338, 'relev': 2339, 'cousin': 2340, 'bell': 2341, 'shower': 2342, 'storm': 2343, 'susan': 2344, 'imageri': 2345, 'bag': 2346, 'retard': 2347, 'teeth': 2348, 'toler': 2349, 'summari': 2350, 'finger': 2351, 'alright': 2352, 'stab': 2353, 'mexico': 2354, 'hugh': 2355, 'quirki': 2356, 'bride': 2357, 'tremend': 2358, 'trade': 2359, 'facial': 2360, 'shark': 2361, 'hyster': 2362, 'bitter': 2363, 'ha': 2364, 'pose': 2365, 'blown': 2366, 'von': 2367, 'scheme': 2368, 'afterward': 2369, 'ron': 2370, 'bone': 2371, 'larri': 2372, 'address': 2373, 'ned': 2374, 'christ': 2375, 'cruel': 2376, 'feed': 2377, 'beg': 2378, 'thumb': 2379, 'swear': 2380, 'tour': 2381, 'screw': 2382, 'pursu': 2383, 'distinct': 2384, 'snake': 2385, 'traci': 2386, 'occas': 2387, 'chair': 2388, 'stomach': 2389, 'obscur': 2390, 'raw': 2391, 'mechan': 2392, 'photo': 2393, 'heavili': 2394, 'southern': 2395, 'resist': 2396, 'argument': 2397, 'cabin': 2398, 'gruesom': 2399, 'chain': 2400, 'hardi': 2401, 'holiday': 2402, 'render': 2403, 'necessarili': 2404, 'sidney': 2405, 'indulg': 2406, 'india': 2407, 'philip': 2408, 'understood': 2409, 'satan': 2410, 'racist': 2411, 'forgot': 2412, 'lay': 2413, 'pregnant': 2414, 'midnight': 2415, 'tongu': 2416, 'obnoxi': 2417, 'integr': 2418, 'stalk': 2419, 'fourth': 2420, 'belov': 2421, 'outfit': 2422, 'ticket': 2423, 'magazin': 2424, 'deeper': 2425, 'restor': 2426, 'inhabit': 2427, 'slapstick': 2428, 'garden': 2429, '17': 2430, 'carol': 2431, 'shoe': 2432, 'devot': 2433, 'brad': 2434, 'lincoln': 2435, 'incid': 2436, 'benefit': 2437, 'maria': 2438, 'underground': 2439, 'elizabeth': 2440, 'lili': 2441, 'disbelief': 2442, 'guarante': 2443, 'sandler': 2444, 'anticip': 2445, 'divorc': 2446, 'capit': 2447, 'greater': 2448, 'cring': 2449, 'creation': 2450, 'princip': 2451, 'amazingli': 2452, 'explod': 2453, 'slave': 2454, 'bbc': 2455, 'mildli': 2456, 'funnier': 2457, 'introduct': 2458, 'halfway': 2459, 'extraordinari': 2460, 'lesli': 2461, 'tap': 2462, 'advantag': 2463, 'transfer': 2464, 'extent': 2465, 'enhanc': 2466, 'punish': 2467, 'wreck': 2468, 'text': 2469, 'overwhelm': 2470, 'east': 2471, 'horrif': 2472, 'deliber': 2473, 'lo': 2474, 'lane': 2475, 'dynam': 2476, 'plant': 2477, 'error': 2478, 'jessica': 2479, 'preview': 2480, 'vacat': 2481, 'ensu': 2482, 'sophist': 2483, '2000': 2484, 'miller': 2485, 'vincent': 2486, 'basi': 2487, 'miscast': 2488, 'homosexu': 2489, 'appli': 2490, 'uncomfort': 2491, 'sleazi': 2492, 'mansion': 2493, 'bollywood': 2494, 'via': 2495, 'extend': 2496, 'elev': 2497, 'measur': 2498, 'steel': 2499, 'spoken': 2500, 'reed': 2501, 'fix': 2502, 'hippi': 2503, 'mous': 2504, 'assign': 2505, 'daili': 2506, 'conceiv': 2507, 'overact': 2508, 'stanley': 2509, 'cathol': 2510, 'breathtak': 2511, 'alter': 2512, 'savag': 2513, 'goofi': 2514, 'melt': 2515, 'beer': 2516, 'dentist': 2517, 'blair': 2518, 'properli': 2519, 'nowaday': 2520, 'subsequ': 2521, 'succe': 2522, 'inspector': 2523, 'oppos': 2524, 'carpent': 2525, 'sacrific': 2526, 'everyday': 2527, 'burt': 2528, 'laura': 2529, 'massacr': 2530, 'circl': 2531, 'neck': 2532, 'block': 2533, 'access': 2534, 'concert': 2535, 'lesser': 2536, 'pool': 2537, 'portrait': 2538, 'christi': 2539, 'fallen': 2540, 'fay': 2541, 'seagal': 2542, 'mob': 2543, 'grey': 2544, 'relax': 2545, 'chees': 2546, 'sinist': 2547, 'competit': 2548, 'usa': 2549, 'jewish': 2550, 'isol': 2551, 'react': 2552, 'jake': 2553, 'spiritu': 2554, 'lyric': 2555, '2006': 2556, 'nine': 2557, 'stink': 2558, 'ironi': 2559, 'nonetheless': 2560, 'appal': 2561, 'chop': 2562, 'suitabl': 2563, 'immens': 2564, 'creep': 2565, 'reduc': 2566, 'franchis': 2567, 'retir': 2568, 'rage': 2569, 'needless': 2570, 'sold': 2571, 'showcas': 2572, 'spring': 2573, 'nut': 2574, 'navi': 2575, 'shirt': 2576, 'luci': 2577, 'adopt': 2578, 'user': 2579, 'bath': 2580, 'zone': 2581, 'digit': 2582, 'jay': 2583, 'uninspir': 2584, 'bulli': 2585, 'nurs': 2586, 'asham': 2587, 'stanwyck': 2588, 'per': 2589, 'laid': 2590, 'illustr': 2591, 'upper': 2592, 'amongst': 2593, 'oddli': 2594, 'sutherland': 2595, '2001': 2596, '1940': 2597, 'broadcast': 2598, 'aspir': 2599, 'brando': 2600, 'stylish': 2601, 'throat': 2602, 'baker': 2603, 'fulfil': 2604, 'disguis': 2605, 'pride': 2606, 'pound': 2607, 'wanna': 2608, 'endear': 2609, '18': 2610, 'impli': 2611, 'wwii': 2612, 'neighborhood': 2613, 'nobl': 2614, 'thief': 2615, 'em': 2616, 'coher': 2617, 'dinner': 2618, 'distribut': 2619, 'dawn': 2620, 'diseas': 2621, '16': 2622, 'shoulder': 2623, 'prop': 2624, 'cinematograph': 2625, 'shift': 2626, 'bo': 2627, 'tens': 2628, 'bett': 2629, 'albeit': 2630, 'rochest': 2631, 'shout': 2632, 'rebel': 2633, 'function': 2634, 'silenc': 2635, 'contract': 2636, 'knife': 2637, 'poignant': 2638, 'wash': 2639, 'forti': 2640, 'surf': 2641, 'snow': 2642, 'matthau': 2643, 'henc': 2644, 'duti': 2645, 'mindless': 2646, 'eeri': 2647, 'instinct': 2648, 'heat': 2649, 'internet': 2650, 'horrend': 2651, 'height': 2652, 'proof': 2653, 'silver': 2654, 'chuck': 2655, 'reunion': 2656, 'cancel': 2657, 'cannib': 2658, 'widmark': 2659, 'derek': 2660, 'elvira': 2661, 'musician': 2662, 'etern': 2663, 'neat': 2664, 'greatli': 2665, 'glori': 2666, 'elvi': 2667, 'torn': 2668, 'alik': 2669, 'premier': 2670, 'mill': 2671, 'repetit': 2672, 'absorb': 2673, 'spielberg': 2674, 'pie': 2675, 'incoher': 2676, 'innov': 2677, 'crisi': 2678, 'nelson': 2679, 'horrifi': 2680, 'fbi': 2681, 'trite': 2682, 'burton': 2683, 'bang': 2684, 'infam': 2685, 'wealthi': 2686, 'britain': 2687, 'precis': 2688, 'homag': 2689, 'lovabl': 2690, 'racism': 2691, 'blank': 2692, 'diamond': 2693, 'announc': 2694, 'itali': 2695, 'redempt': 2696, 'resolut': 2697, 'parallel': 2698, 'ensembl': 2699, 'chaplin': 2700, 'happili': 2701, 'pat': 2702, 'helen': 2703, 'wilder': 2704, 'hammer': 2705, 'dedic': 2706, 'flop': 2707, 'streisand': 2708, 'carter': 2709, 'mar': 2710, 'cube': 2711, 'conclud': 2712, 'plastic': 2713, 'oil': 2714, 'st': 2715, 'disagre': 2716, 'broke': 2717, 'triumph': 2718, 'factori': 2719, 'rocket': 2720, 'row': 2721, 'fighter': 2722, 'chuckl': 2723, 'bush': 2724, 'march': 2725, 'weight': 2726, 'climb': 2727, 'vega': 2728, 'own': 2729, 'boot': 2730, 'wherea': 2731, 'dump': 2732, 'unforgett': 2733, 'lust': 2734, 'mst3k': 2735, 'enorm': 2736, 'sensibl': 2737, 'dane': 2738, 'kurt': 2739, 'thug': 2740, 'meaning': 2741, 'luca': 2742, 'spare': 2743, 'fifti': 2744, 'rap': 2745, 'difficulti': 2746, 'engin': 2747, 'adequ': 2748, 'bobbi': 2749, 'stress': 2750, 'caricatur': 2751, 'threat': 2752, 'karloff': 2753, 'brand': 2754, 'dear': 2755, 'butt': 2756, 'arnold': 2757, 'elabor': 2758, 'polish': 2759, 'journalist': 2760, 'flynn': 2761, 'ego': 2762, 'fest': 2763, 'swing': 2764, 'secretari': 2765, 'arrog': 2766, 'barri': 2767, 'homeless': 2768, 'ralph': 2769, 'hamlet': 2770, 'spike': 2771, 'conspiraci': 2772, 'simpson': 2773, 'induc': 2774, 'grate': 2775, 'tool': 2776, 'resort': 2777, 'puppet': 2778, 'unbear': 2779, 'fanci': 2780, 'float': 2781, 'arrang': 2782, 'guilt': 2783, 'tribut': 2784, 'pig': 2785, 'basement': 2786, 'choreograph': 2787, 'cruis': 2788, 'phillip': 2789, 'exercis': 2790, 'muppet': 2791, 'boll': 2792, 'layer': 2793, '24': 2794, 'document': 2795, 'puzzl': 2796, 'medium': 2797, 'fianc': 2798, 'item': 2799, 'ward': 2800, 'ham': 2801, 'stan': 2802, 'editor': 2803, 'toilet': 2804, 'korean': 2805, 'tower': 2806, 'file': 2807, 'babe': 2808, 'slip': 2809, 'scarecrow': 2810, 'superfici': 2811, 'slaughter': 2812, 'philosoph': 2813, 'territori': 2814, 'larger': 2815, 'doc': 2816, 'transit': 2817, 'denzel': 2818, 'portion': 2819, 'persona': 2820, 'spark': 2821, 'glover': 2822, 'librari': 2823, 'minim': 2824, 'catherin': 2825, 'assur': 2826, 'inexplic': 2827, 'orient': 2828, 'shi': 2829, 'jet': 2830, 'walken': 2831, 'financi': 2832, 'jeremi': 2833, 'curti': 2834, 'sneak': 2835, 'owe': 2836, 'pg': 2837, 'wolf': 2838, 'boredom': 2839, 'dorothi': 2840, 'ban': 2841, 'ambigu': 2842, 'backdrop': 2843, 'metaphor': 2844, 'whale': 2845, 'multi': 2846, 'profound': 2847, 'hudson': 2848, 'eleph': 2849, 'cusack': 2850, '2005': 2851, 'hack': 2852, 'union': 2853, 'viru': 2854, 'birthday': 2855, 'notion': 2856, 'stiff': 2857, 'rave': 2858, 'implaus': 2859, 'ultra': 2860, 'gadget': 2861, 'elsewher': 2862, 'canada': 2863, 'urg': 2864, 'eva': 2865, 'distanc': 2866, 'newspap': 2867, 'lloyd': 2868, 'deriv': 2869, 'afford': 2870, 'reader': 2871, 'bibl': 2872, 'superhero': 2873, 'disc': 2874, 'poison': 2875, '1st': 2876, 'eastwood': 2877, 'pad': 2878, 'squar': 2879, 'hawk': 2880, 'slight': 2881, 'restaur': 2882, 'cure': 2883, 'huh': 2884, 'charisma': 2885, 'essenc': 2886, 'health': 2887, 'drown': 2888, 'spread': 2889, 'montag': 2890, 'button': 2891, 'sadist': 2892, 'skit': 2893, 'heston': 2894, 'fetch': 2895, 'godfath': 2896, 'invest': 2897, 'estat': 2898, 'companion': 2899, 'muslim': 2900, 'maniac': 2901, 'dealt': 2902, 'lab': 2903, 'peak': 2904, 'gradual': 2905, 'scoobi': 2906, 'gothic': 2907, 'countless': 2908, 'servant': 2909, 'alli': 2910, 'miik': 2911, 'subtleti': 2912, 'tea': 2913, 'ritter': 2914, 'cup': 2915, 'kane': 2916, 'salli': 2917, 'briefli': 2918, 'electr': 2919, 'charismat': 2920, 'elect': 2921, 'heroic': 2922, 'iii': 2923, 'nuanc': 2924, 'wannab': 2925, 'toss': 2926, 'cole': 2927, 'tender': 2928, 'neil': 2929, 'bud': 2930, 'grandmoth': 2931, 'ingredi': 2932, 'admittedli': 2933, 'resourc': 2934, 'reel': 2935, 'stood': 2936, 'pit': 2937, 'mild': 2938, 'label': 2939, 'dawson': 2940, 'punk': 2941, 'gate': 2942, 'shall': 2943, 'kubrick': 2944, 'mafia': 2945, 'reev': 2946, 'poverti': 2947, 'carrey': 2948, 'stronger': 2949, 'pauli': 2950, 'tag': 2951, 'assault': 2952, 'easier': 2953, 'updat': 2954, 'ian': 2955, 'burst': 2956, 'fond': 2957, 'outcom': 2958, 'astair': 2959, 'cardboard': 2960, 'cox': 2961, 'terri': 2962, 'useless': 2963, 'smash': 2964, 'smooth': 2965, 'bakshi': 2966, 'rex': 2967, 'coincid': 2968, 'vulner': 2969, 'exchang': 2970, 'vari': 2971, 'melodramat': 2972, 'qualifi': 2973, 'resolv': 2974, 'fist': 2975, 'sketch': 2976, 'divers': 2977, '2002': 2978, 'increasingli': 2979, 'samurai': 2980, 'luckili': 2981, 'insert': 2982, 'conveni': 2983, 'suspend': 2984, 'scratch': 2985, 'brillianc': 2986, 'templ': 2987, 'blast': 2988, 'tame': 2989, 'be': 2990, 'reynold': 2991, 'meat': 2992, 'hamilton': 2993, 'seventi': 2994, 'jami': 2995, 'pin': 2996, 'coach': 2997, 'matthew': 2998, 'gotta': 2999, 'ambiti': 3000, 'soprano': 3001, 'walker': 3002, 'farm': 3003, 'fisher': 3004, 'nuclear': 3005, 'strictli': 3006, 'ninja': 3007, 'clock': 3008, 'kudo': 3009, 'discoveri': 3010, 'empir': 3011, 'struck': 3012, 'cave': 3013, 'recreat': 3014, 'worthless': 3015, 'monk': 3016, 'closet': 3017, 'eccentr': 3018, 'revers': 3019, 'instantli': 3020, 'grasp': 3021, 'timeless': 3022, 'convolut': 3023, 'butcher': 3024, 'spooki': 3025, 'brosnan': 3026, 'joey': 3027, 'sloppi': 3028, 'eighti': 3029, 'partli': 3030, 'inconsist': 3031, 'clown': 3032, 'communist': 3033, 'gray': 3034, 'selfish': 3035, 'bleak': 3036, 'importantli': 3037, 'wipe': 3038, 'cliff': 3039, 'declar': 3040, 'fifteen': 3041, 'pal': 3042, 'miracl': 3043, 'mitchel': 3044, 'evok': 3045, 'seller': 3046, 'sidekick': 3047, 'norman': 3048, 'lifestyl': 3049, 'flawless': 3050, '45': 3051, 'enthusiast': 3052, 'chew': 3053, 'cheek': 3054, 'australia': 3055, 'farc': 3056, 'aforement': 3057, 'piano': 3058, 'websit': 3059, 'superbl': 3060, 'stoog': 3061, 'psychiatrist': 3062, 'destin': 3063, 'debat': 3064, 'seed': 3065, 'ho': 3066, 'directori': 3067, 'emili': 3068, 'kitchen': 3069, 'incompet': 3070, 'splatter': 3071, 'wrestl': 3072, 'dash': 3073, 'dire': 3074, 'pressur': 3075, 'drivel': 3076, 'wick': 3077, 'soviet': 3078, 'bash': 3079, 'slice': 3080, 'regardless': 3081, 'anni': 3082, 'abc': 3083, 'akshay': 3084, 'judi': 3085, 'increas': 3086, 'flower': 3087, 'ken': 3088, 'prize': 3089, 'seduc': 3090, 'recov': 3091, 'curios': 3092, 'glow': 3093, 'boil': 3094, 'beaten': 3095, 'mann': 3096, 'distant': 3097, 'pleasantli': 3098, 'artifici': 3099, 'doo': 3100, 'lou': 3101, 'blob': 3102, 'cia': 3103, 'suppli': 3104, 'helicopt': 3105, 'chapter': 3106, 'dave': 3107, 'cameron': 3108, 'duo': 3109, 'jar': 3110, 'cagney': 3111, 'goldberg': 3112, 'craven': 3113, 'drunken': 3114, 'ranger': 3115, 'glenn': 3116, 'splendid': 3117, 'favour': 3118, 'panic': 3119, 'laurel': 3120, 'craig': 3121, 'ellen': 3122, 'hop': 3123, 'psychot': 3124, 'turner': 3125, 'combat': 3126, 'perri': 3127, 'eleg': 3128, 'web': 3129, 'francisco': 3130, 'philosophi': 3131, 'plausibl': 3132, 'shortli': 3133, '20th': 3134, 'rid': 3135, 'alexand': 3136, 'hatr': 3137, 'flip': 3138, 'wizard': 3139, 'modesti': 3140, 'graduat': 3141, 'ruth': 3142, 'greek': 3143, 'gentl': 3144, 'falk': 3145, 'fx': 3146, 'slightest': 3147, 'min': 3148, 'gandhi': 3149, 'legal': 3150, 'fund': 3151, 'lend': 3152, 'knight': 3153, 'harm': 3154, 'tall': 3155, 'preciou': 3156, 'holi': 3157, 'dracula': 3158, 'unpleas': 3159, 'manhattan': 3160, 'ocean': 3161, 'futurist': 3162, 'we': 3163, 'felix': 3164, 'jealou': 3165, 'ami': 3166, 'reviv': 3167, 'forbidden': 3168, 'giallo': 3169, 'nod': 3170, 'overdon': 3171, 'thread': 3172, 'childish': 3173, 'explicit': 3174, 'scientif': 3175, 'digniti': 3176, 'tank': 3177, 'mock': 3178, 'bless': 3179, 'mel': 3180, 'awaken': 3181, 'repeatedli': 3182, 'nerv': 3183, '2004': 3184, 'torment': 3185, 'thick': 3186, '99': 3187, 'unwatch': 3188, 'eve': 3189, 'margaret': 3190, 'yesterday': 3191, 'fever': 3192, 'elderli': 3193, 'broad': 3194, 'verhoeven': 3195, 'pirat': 3196, 'awe': 3197, 'automat': 3198, 'publish': 3199, 'romero': 3200, 'acclaim': 3201, 'ah': 3202, 'bin': 3203, 'uniform': 3204, 'absenc': 3205, 'kay': 3206, 'roman': 3207, 'rivet': 3208, 'lean': 3209, 'eas': 3210, 'custom': 3211, 'stiller': 3212, 'griffith': 3213, 'ambit': 3214, 'launch': 3215, 'timothi': 3216, 'politician': 3217, 'royal': 3218, 'darker': 3219, 'bathroom': 3220, 'pulp': 3221, 'termin': 3222, 'foul': 3223, 'tomato': 3224, 'wallac': 3225, 'transport': 3226, 'pierc': 3227, 'sunshin': 3228, 'gabriel': 3229, 'homicid': 3230, 'crook': 3231, 'antic': 3232, 'warren': 3233, 'purpl': 3234, 'phrase': 3235, 'stinker': 3236, 'kenneth': 3237, 'juvenil': 3238, 'album': 3239, 'saint': 3240, 'li': 3241, 'marin': 3242, 'hollow': 3243, 'viciou': 3244, 'contrari': 3245, 'packag': 3246, 'choreographi': 3247, 'horrid': 3248, 'prom': 3249, 'q': 3250, 'revolutionari': 3251, 'karen': 3252, 'evolv': 3253, 'sixti': 3254, 'awak': 3255, 'coloni': 3256, 'rambo': 3257, '2003': 3258, 'eyr': 3259, 'pray': 3260, 'brazil': 3261, 'ought': 3262, 'donna': 3263, 'mummi': 3264, 'kapoor': 3265, 'twelv': 3266, 'option': 3267, 'ireland': 3268, 'dose': 3269, 'overr': 3270, 'defi': 3271, 'ramon': 3272, 'nerd': 3273, 'boast': 3274, 'stole': 3275, 'candid': 3276, 'conserv': 3277, 'mildr': 3278, 'beatti': 3279, 'blade': 3280, 'fulci': 3281, 'kirk': 3282, 'protest': 3283, 'flame': 3284, 'detract': 3285, 'collabor': 3286, 'natali': 3287, 'trio': 3288, 'funer': 3289, 'confirm': 3290, 'altman': 3291, 'jazz': 3292, 'global': 3293, 'astonish': 3294, 'shade': 3295, 'nicholson': 3296, 'audio': 3297, 'spit': 3298, 'tommi': 3299, 'enterpris': 3300, 'bull': 3301, 'destini': 3302, 'leap': 3303, 'delici': 3304, 'bottl': 3305, 'blake': 3306, 'whip': 3307, 'yellow': 3308, 'racial': 3309, 'mystic': 3310, 'enchant': 3311, 'neo': 3312, 'bedroom': 3313, 'swedish': 3314, 'harder': 3315, 'staff': 3316, 'fonda': 3317, 'todd': 3318, 'inherit': 3319, 'popcorn': 3320, 'meaningless': 3321, 'visibl': 3322, 'vivid': 3323, 'adolesc': 3324, 'threw': 3325, 'altogeth': 3326, 'pseudo': 3327, 'merci': 3328, 'reunit': 3329, 'respond': 3330, 'lawrenc': 3331, 'tip': 3332, 'wire': 3333, 'kennedi': 3334, 'lemmon': 3335, 'moodi': 3336, 'befriend': 3337, 'roommat': 3338, 'atlanti': 3339, 'leonard': 3340, 'fanat': 3341, 'crocodil': 3342, 'uneven': 3343, 'suspici': 3344, 'reserv': 3345, 'synopsi': 3346, 'edi': 3347, 'decor': 3348, 'exhibit': 3349, 'bust': 3350, 'ruthless': 3351, 'jew': 3352, 'await': 3353, 'voight': 3354, 'madonna': 3355, 'holli': 3356, 'palma': 3357, 'abysm': 3358, '2007': 3359, 'dimens': 3360, 'bold': 3361, 'centr': 3362, 'incident': 3363, 'unsettl': 3364, 'bargain': 3365, 'garner': 3366, 'clint': 3367, 'audit': 3368, 'clumsi': 3369, 'rural': 3370, 'bradi': 3371, 'chao': 3372, 'voyag': 3373, 'carl': 3374, 'ventur': 3375, 'poetic': 3376, 'neglect': 3377, 'versu': 3378, 'cari': 3379, 'echo': 3380, 'cuba': 3381, 'lit': 3382, 'hart': 3383, '2nd': 3384, 'trail': 3385, 'tiger': 3386, 'nearbi': 3387, 'humili': 3388, 'mall': 3389, 'acknowledg': 3390, 'troop': 3391, 'immigr': 3392, 'daddi': 3393, 'ant': 3394, 'cd': 3395, 'characterist': 3396, 'imperson': 3397, 'wealth': 3398, 'elimin': 3399, 'timon': 3400, 'jeffrey': 3401, 'collaps': 3402, 'prejudic': 3403, 'mistaken': 3404, 'saga': 3405, 'marshal': 3406, 'homer': 3407, 'repuls': 3408, 'infect': 3409, 'mickey': 3410, 'celluloid': 3411, 'paus': 3412, 'pun': 3413, 'solo': 3414, 'domest': 3415, 'gear': 3416, 'milk': 3417, 'hbo': 3418, 'pant': 3419, 'equip': 3420, 'promin': 3421, '1996': 3422, 'ginger': 3423, 'coat': 3424, 'tribe': 3425, 'leon': 3426, 'inan': 3427, 'sore': 3428, 'coffe': 3429, 'olivi': 3430, 'harvey': 3431, 'inappropri': 3432, 'cake': 3433, 'apolog': 3434, 'assembl': 3435, 'chest': 3436, 'undoubtedli': 3437, 'interrupt': 3438, 'consum': 3439, 'furthermor': 3440, 'pen': 3441, 'institut': 3442, 'trace': 3443, 'embrac': 3444, 'solut': 3445, 'vulgar': 3446, 'colonel': 3447, 'highest': 3448, 'pot': 3449, 'brooklyn': 3450, 'maggi': 3451, 'devast': 3452, 'retain': 3453, 'jenni': 3454, 'colleagu': 3455, 'instant': 3456, 'exot': 3457, 'aveng': 3458, 'airplan': 3459, 'humbl': 3460, 'primari': 3461, 'polanski': 3462, 'florida': 3463, 'linda': 3464, 'rick': 3465, 'illog': 3466, 'bowl': 3467, 'gender': 3468, 'smaller': 3469, 'principl': 3470, 'outer': 3471, 'disabl': 3472, 'godzilla': 3473, 'sale': 3474, 'poke': 3475, 'seduct': 3476, 'ya': 3477, 'descend': 3478, 'cope': 3479, '1999': 3480, 'dutch': 3481, 'wive': 3482, '3rd': 3483, 'strain': 3484, 'dian': 3485, 'bubbl': 3486, 'primarili': 3487, 'beneath': 3488, 'yard': 3489, 'dud': 3490, 'cue': 3491, 'dive': 3492, 'vast': 3493, 'hal': 3494, 'lol': 3495, 'rabbit': 3496, 'devoid': 3497, 'glamor': 3498, 'inferior': 3499, 'predecessor': 3500, 'secondli': 3501, 'mixtur': 3502, 'blatant': 3503, 'gloriou': 3504, 'scope': 3505, 'gundam': 3506, 'shelf': 3507, 'hideou': 3508, 'disjoint': 3509, 'casual': 3510, 'z': 3511, 'museum': 3512, 'simplist': 3513, 'alfr': 3514, 'alert': 3515, 'invas': 3516, 'myer': 3517, 'arab': 3518, 'senseless': 3519, 'countrysid': 3520, 'talki': 3521, 'shirley': 3522, 'pearl': 3523, 'streep': 3524, 'breed': 3525, 'trademark': 3526, 'grinch': 3527, 'april': 3528, 'garbo': 3529, 'aggress': 3530, 'et': 3531, 'domino': 3532, 'unhappi': 3533, 'stellar': 3534, 'defens': 3535, 'khan': 3536, 'boom': 3537, 'slide': 3538, 'robinson': 3539, 'mail': 3540, 'oz': 3541, 'rendit': 3542, 'sh': 3543, 'stack': 3544, 'hardcor': 3545, 'illeg': 3546, 'applaud': 3547, 'obtain': 3548, 'hopeless': 3549, 'stir': 3550, 'acid': 3551, 'robberi': 3552, 'uwe': 3553, 'disgrac': 3554, 'maci': 3555, 'experiment': 3556, 'vanish': 3557, 'mayor': 3558, 'loyal': 3559, 'craze': 3560, 'span': 3561, 'wont': 3562, 'spider': 3563, 'amanda': 3564, 'emphasi': 3565, 'grandfath': 3566, 'fri': 3567, 'topless': 3568, 'dismiss': 3569, 'declin': 3570, 'blew': 3571, 'recruit': 3572, 'hartley': 3573, 'psychic': 3574, 'incomprehens': 3575, 'dicken': 3576, 'scroog': 3577, 'soccer': 3578, 'tenant': 3579, 'counter': 3580, 'rifl': 3581, 'tempt': 3582, 'diana': 3583, 'berlin': 3584, 'porno': 3585, 'woo': 3586, 'faster': 3587, 'riot': 3588, 'trashi': 3589, 'wet': 3590, 'justin': 3591, 'resurrect': 3592, 'shed': 3593, 'sibl': 3594, 'intim': 3595, 'goer': 3596, 'niro': 3597, 'sympath': 3598, 'ethnic': 3599, 'ration': 3600, 'bitch': 3601, 'parad': 3602, 'shaw': 3603, 'revolt': 3604, 'lumet': 3605, 'worm': 3606, 'unreal': 3607, 'ensur': 3608, 'dealer': 3609, 'partial': 3610, 'eager': 3611, 'andr': 3612, 'ballet': 3613, 'hesit': 3614, 'mario': 3615, 'gap': 3616, 'farmer': 3617, 'nephew': 3618, 'honesti': 3619, 'jonathan': 3620, 'biographi': 3621, 'commend': 3622, '00': 3623, 'immort': 3624, 'feminist': 3625, 'enlighten': 3626, 'region': 3627, 'rider': 3628, 'choru': 3629, 'hopper': 3630, 'wheel': 3631, 'slick': 3632, 'weakest': 3633, 'patriot': 3634, 'steam': 3635, 'wendi': 3636, 'lena': 3637, 'hung': 3638, 'blunt': 3639, 'skull': 3640, 'wore': 3641, 'vice': 3642, 'owen': 3643, 'psychopath': 3644, 'confin': 3645, 'mutant': 3646, 'composit': 3647, 'snap': 3648, 'sandra': 3649, 'macarthur': 3650, 'franco': 3651, 'prequel': 3652, 'charlott': 3653, 'repress': 3654, 'kingdom': 3655, 'properti': 3656, 'nostalg': 3657, 'similarli': 3658, 'leo': 3659, 'victori': 3660, 'util': 3661, 'safeti': 3662, 'morri': 3663, 'sappi': 3664, 'whoopi': 3665, 'despair': 3666, 'montana': 3667, 'acquir': 3668, '1972': 3669, 'compens': 3670, 'dalton': 3671, 'rocki': 3672, 'speci': 3673, 'tad': 3674, 'thru': 3675, 'drum': 3676, 'tail': 3677, 'heartbreak': 3678, 'drain': 3679, 'latin': 3680, 'cg': 3681, 'farrel': 3682, 'bow': 3683, 'bonu': 3684, 'strand': 3685, 'dust': 3686, 'campbel': 3687, 'compass': 3688, 'exit': 3689, 'kyle': 3690, 'del': 3691, 'bumbl': 3692, 'rambl': 3693, 'deed': 3694, 'emperor': 3695, 'miseri': 3696, 'recycl': 3697, 'snl': 3698, 'valuabl': 3699, 'repli': 3700, 'rope': 3701, 'pattern': 3702, 'bergman': 3703, 'hyde': 3704, 'nervou': 3705, 'oppress': 3706, 'radic': 3707, 'rapist': 3708, 'romp': 3709, 'olli': 3710, 'contempl': 3711, 'downhil': 3712, 'mistress': 3713, 'gal': 3714, 'tonight': 3715, 'bleed': 3716, 'rotten': 3717, 'airport': 3718, 'gimmick': 3719, 'chess': 3720, 'pour': 3721, '35': 3722, 'orson': 3723, 'roth': 3724, 'carradin': 3725, 'martian': 3726, 'percept': 3727, 'wacki': 3728, 'da': 3729, 'slug': 3730, 'tackl': 3731, 'melodi': 3732, 'taught': 3733, 'dazzl': 3734, 'mislead': 3735, 'arc': 3736, 'edgar': 3737, 'banal': 3738, 'slash': 3739, 'arguabl': 3740, 'tooth': 3741, 'champion': 3742, 'pervert': 3743, 'pursuit': 3744, 'pervers': 3745, 'stilt': 3746, 'preach': 3747, '1983': 3748, 'heal': 3749, 'programm': 3750, 'shelley': 3751, 'belt': 3752, 'unpredict': 3753, 'attorney': 3754, 'paltrow': 3755, 'tiresom': 3756, 'poem': 3757, 'gambl': 3758, 'maid': 3759, 'sensat': 3760, 'vocal': 3761, 'orang': 3762, 'employe': 3763, 'virginia': 3764, 'raymond': 3765, 'mesmer': 3766, 'vengeanc': 3767, 'bela': 3768, 'passeng': 3769, 'chicken': 3770, 'plight': 3771, 'cleverli': 3772, 'closest': 3773, 'graham': 3774, 'rubi': 3775, 'marti': 3776, 'uplift': 3777, 'duval': 3778, 'conneri': 3779, 'franki': 3780, 'dixon': 3781, 'habit': 3782, 'iran': 3783, 'bay': 3784, 'inject': 3785, 'clone': 3786, 'secretli': 3787, 'whine': 3788, 'suffic': 3789, 'scottish': 3790, 'yawn': 3791, 'giggl': 3792, 'sirk': 3793, 'crystal': 3794, 'gerard': 3795, 'quarter': 3796, '1968': 3797, 'tube': 3798, 'engross': 3799, 'convincingli': 3800, 'lundgren': 3801, 'mute': 3802, 'numb': 3803, 'profan': 3804, 'volum': 3805, 'extens': 3806, 'climact': 3807, 'outing': 3808, 'swallow': 3809, 'monologu': 3810, 'paranoia': 3811, 'calm': 3812, 'abraham': 3813, 'amitabh': 3814, 'pokemon': 3815, 'bend': 3816, 'meander': 3817, 'taxi': 3818, 'chicago': 3819, 'junior': 3820, 'poetri': 3821, 'spock': 3822, 'grotesqu': 3823, 'fed': 3824, 'richardson': 3825, 'surpass': 3826, 'austen': 3827, 'frankenstein': 3828, 'im': 3829, 'franci': 3830, 'septemb': 3831, 'abort': 3832, 'underst': 3833, 'linger': 3834, 'dispos': 3835, 'earl': 3836, 'profess': 3837, 'ethan': 3838, 'backward': 3839, 'plod': 3840, 'trend': 3841, 'nichola': 3842, 'lowest': 3843, 'expand': 3844, 'myth': 3845, 'muddl': 3846, 'mundan': 3847, 'literatur': 3848, 'greedi': 3849, 'cannon': 3850, 'tourist': 3851, 'waitress': 3852, 'compliment': 3853, 'hum': 3854, 'dysfunct': 3855, 'der': 3856, 'rubber': 3857, 'stallon': 3858, 'lure': 3859, 'rant': 3860, 'descent': 3861, 'nostalgia': 3862, 'econom': 3863, 'spoke': 3864, 'instrument': 3865, 'simplic': 3866, 'catchi': 3867, 'sue': 3868, 'household': 3869, 'eugen': 3870, 'dement': 3871, 'recognis': 3872, 'firstli': 3873, 'dictat': 3874, 'louis': 3875, 'alongsid': 3876, 'hello': 3877, 'randi': 3878, 'mortal': 3879, 'molli': 3880, 'duck': 3881, 'phoni': 3882, 'crucial': 3883, 'insur': 3884, 'sissi': 3885, 'irrelev': 3886, 'flee': 3887, 'equival': 3888, 'coast': 3889, 'recognit': 3890, 'deaf': 3891, 'phantom': 3892, 'map': 3893, 'mankind': 3894, 'bacal': 3895, 'stale': 3896, 'june': 3897, 'lang': 3898, 'omen': 3899, 'occupi': 3900, 'carel': 3901, 'furi': 3902, 'eaten': 3903, 'cent': 3904, 'damon': 3905, 'ashley': 3906, 'twilight': 3907, 'onlin': 3908, 'loyalti': 3909, 'grayson': 3910, 'wisdom': 3911, 'heel': 3912, '1973': 3913, 'bump': 3914, 'dreari': 3915, 'blackmail': 3916, 'bike': 3917, 'biko': 3918, 'likewis': 3919, 'reign': 3920, 'labor': 3921, 'lengthi': 3922, 'daisi': 3923, 'rude': 3924, 'rooney': 3925, 'buffalo': 3926, 'newli': 3927, 'freez': 3928, 'drake': 3929, 'distinguish': 3930, 'damm': 3931, 'antwon': 3932, 'cyborg': 3933, 'barrymor': 3934, 'analysi': 3935, 'exposur': 3936, 'proce': 3937, 'inher': 3938, 'prey': 3939, 'basketbal': 3940, 'butler': 3941, 'tunnel': 3942, 'boxer': 3943, 'provoc': 3944, 'baddi': 3945, 'approv': 3946, 'ridden': 3947, 'attribut': 3948, 'keith': 3949, 'interior': 3950, 'sailor': 3951, 'chronicl': 3952, 'nineti': 3953, 'unorigin': 3954, 'worn': 3955, 'vein': 3956, 'pink': 3957, 'emphas': 3958, 'incorpor': 3959, 'startl': 3960, 'elm': 3961, 'predat': 3962, 'mighti': 3963, 'simmon': 3964, 'hypnot': 3965, 'meg': 3966, 'fleet': 3967, 'stalker': 3968, 'degrad': 3969, 'mormon': 3970, 'substitut': 3971, 'condemn': 3972, 'drift': 3973, 'carla': 3974, 'indiffer': 3975, 'bunni': 3976, 'nicol': 3977, 'robbin': 3978, 'underli': 3979, 'undeni': 3980, 'belushi': 3981, 'unrel': 3982, 'millionair': 3983, 'er': 3984, 'barrel': 3985, 'improvis': 3986, 'walsh': 3987, 'julian': 3988, 'meyer': 3989, 'othello': 3990, 'greed': 3991, 'exquisit': 3992, 'watson': 3993, 'roof': 3994, 'vital': 3995, 'firm': 3996, 'reid': 3997, 'marion': 3998, 'disord': 3999, 'novak': 4000, 'edgi': 4001, 'shove': 4002, 'enthusiasm': 4003, 'alarm': 4004, 'hay': 4005, 'errol': 4006, 'mtv': 4007, 'priceless': 4008, 'alison': 4009, 'dolph': 4010, 'nyc': 4011, 'lampoon': 4012, 'palac': 4013, 'unawar': 4014, '3d': 4015, 'rukh': 4016, 'warmth': 4017, 'agenda': 4018, 'what': 4019, 'nun': 4020, 'ponder': 4021, 'profit': 4022, 'session': 4023, 'drip': 4024, 'israel': 4025, 'glanc': 4026, 'crown': 4027, '13th': 4028, 'testament': 4029, 'zizek': 4030, 'randomli': 4031, 'peril': 4032, 'sergeant': 4033, 'eastern': 4034, 'iraq': 4035, 'campaign': 4036, 'petti': 4037, 'peck': 4038, 'unleash': 4039, 'showdown': 4040, 'minimum': 4041, 'gestur': 4042, 'spain': 4043, 'thompson': 4044, 'valentin': 4045, 'cassidi': 4046, 'beatl': 4047, 'simultan': 4048, 'angela': 4049, 'coup': 4050, 'orlean': 4051, '1933': 4052, 'preserv': 4053, 'pamela': 4054, 'distort': 4055, 'championship': 4056, 'miyazaki': 4057, 'exposit': 4058, 'shootout': 4059, 'stroke': 4060, 'unimagin': 4061, 'realm': 4062, 'scotland': 4063, 'cooki': 4064, 'gentleman': 4065, 'stake': 4066, 'rout': 4067, 'regist': 4068, 'crawl': 4069, 'jan': 4070, 'calib': 4071, 'wig': 4072, 'restrain': 4073, 'empathi': 4074, 'cream': 4075, 'represent': 4076, '1984': 4077, 'contradict': 4078, 'perpetu': 4079, 'din': 4080, 'fido': 4081, 'bro': 4082, 'kurosawa': 4083, 'sabrina': 4084, 'climat': 4085, 'travesti': 4086, 'reson': 4087, 'valley': 4088, 'mon': 4089, 'han': 4090, 'quinn': 4091, 'buster': 4092, 'brenda': 4093, 'crow': 4094, 'darren': 4095, 'censor': 4096, 'absent': 4097, 'pole': 4098, 'unsatisfi': 4099, 'cloud': 4100, 'unseen': 4101, 'wax': 4102, '1997': 4103, 'spacey': 4104, 'warrant': 4105, 'shoddi': 4106, 'businessman': 4107, 'mclaglen': 4108, 'pretens': 4109, 'demis': 4110, 'passabl': 4111, 'josh': 4112, 'monoton': 4113, 'ross': 4114, 'delic': 4115, 'traumat': 4116, 'ustinov': 4117, 'femm': 4118, '1987': 4119, 'abomin': 4120, 'derang': 4121, 'distress': 4122, 'perceiv': 4123, 'sucker': 4124, 'stargat': 4125, 'compromis': 4126, 'geek': 4127, 'dana': 4128, 'shaki': 4129, 'fuller': 4130, 'sammi': 4131, 'tacki': 4132, 'greg': 4133, 'crawford': 4134, 'baldwin': 4135, 'meryl': 4136, 'painter': 4137, 'soderbergh': 4138, 'polici': 4139, 'kumar': 4140, 'anchor': 4141, 'wholli': 4142, 'antonioni': 4143, 'judgment': 4144, 'nathan': 4145, 'exclus': 4146, 'valid': 4147, 'unravel': 4148, 'jewel': 4149, 'expedit': 4150, 'sid': 4151, 'austin': 4152, 'correctli': 4153, 'fenc': 4154, 'seal': 4155, 'norm': 4156, 'fog': 4157, 'furiou': 4158, 'click': 4159, 'uncov': 4160, 'tech': 4161, 'clash': 4162, 'primit': 4163, 'dee': 4164, 'deniro': 4165, 'deceas': 4166, 'tarantino': 4167, 'reluct': 4168, 'verbal': 4169, 'accuraci': 4170, '1993': 4171, 'unfair': 4172, 'hallucin': 4173, 'wretch': 4174, 'fart': 4175, 'fought': 4176, 'bake': 4177, 'trait': 4178, 'murray': 4179, 'behold': 4180, 'logan': 4181, 'clerk': 4182, 'vanc': 4183, 'alec': 4184, 'fabric': 4185, 'slam': 4186, 'sustain': 4187, 'conduct': 4188, 'joel': 4189, 'temper': 4190, '2008': 4191, 'darn': 4192, 'nicola': 4193, 'ritual': 4194, 'malon': 4195, 'dreck': 4196, '1971': 4197, 'sheet': 4198, '3000': 4199, 'enforc': 4200, 'debt': 4201, 'roller': 4202, 'crippl': 4203, 'sand': 4204, 'pocket': 4205, 'tax': 4206, 'wang': 4207, 'mode': 4208, 'sunni': 4209, 'seldom': 4210, 'shanghai': 4211, '1995': 4212, 'patienc': 4213, 'fundament': 4214, 'penni': 4215, 'grief': 4216, 'soup': 4217, 'pete': 4218, 'phil': 4219, 'canyon': 4220, 'isabel': 4221, 'tactic': 4222, 'legaci': 4223, 'clau': 4224, 'bridget': 4225, 'stuart': 4226, 'critiqu': 4227, 'scriptwrit': 4228, 'sweep': 4229, 'preposter': 4230, 'technicolor': 4231, 'bias': 4232, 'despis': 4233, 'guitar': 4234, 'helpless': 4235, 'outlin': 4236, 'stark': 4237, 'divid': 4238, 'shell': 4239, 'squad': 4240, 'exhaust': 4241, 'robber': 4242, 'conscious': 4243, 'runner': 4244, 'rita': 4245, 'schedul': 4246, 'preston': 4247, 'unexpectedli': 4248, 'marc': 4249, 'palanc': 4250, 'culmin': 4251, 'jacket': 4252, 'sugar': 4253, 'boyl': 4254, 'propos': 4255, 'consciou': 4256, 'liberti': 4257, 'bloom': 4258, 'lacklust': 4259, 'rear': 4260, 'flair': 4261, 'gregori': 4262, 'cigarett': 4263, 'kansa': 4264, 'drove': 4265, 'inabl': 4266, 'delv': 4267, 'rehash': 4268, 'sniper': 4269, 'agenc': 4270, 'alicia': 4271, 'vomit': 4272, 'russia': 4273, 'implic': 4274, 'alley': 4275, 'passag': 4276, 'invad': 4277, 'restrict': 4278, 'downey': 4279, 'sentinel': 4280, 'newman': 4281, 'jodi': 4282, 'connor': 4283, 'yeti': 4284, 'vet': 4285, 'rampag': 4286, 'cap': 4287, 'mccoy': 4288, 'sharon': 4289, 'asylum': 4290, 'rod': 4291, 'delet': 4292, 'pale': 4293, 'arrow': 4294, 'rehears': 4295, 'feat': 4296, 'tripe': 4297, 'improb': 4298, 'aesthet': 4299, 'tendenc': 4300, 'horn': 4301, 'bacon': 4302, 'behaviour': 4303, 'awhil': 4304, '22': 4305, 'chainsaw': 4306, 'wrench': 4307, 'karl': 4308, 'ladder': 4309, 'foxx': 4310, 'kolchak': 4311, 'lush': 4312, '1936': 4313, 'lurk': 4314, 'weav': 4315, '19th': 4316, '1978': 4317, 'el': 4318, 'wildli': 4319, 'hungri': 4320, 'globe': 4321, 'sung': 4322, 'hackney': 4323, 'visitor': 4324, '1988': 4325, 'coaster': 4326, 'paramount': 4327, 'elit': 4328, 'newcom': 4329, 'suspicion': 4330, 'amazon': 4331, 'shortcom': 4332, 'loneli': 4333, 'scoop': 4334, 'filler': 4335, 'paradis': 4336, 'rhythm': 4337, 'tasteless': 4338, 'hulk': 4339, 'suffici': 4340, 'underneath': 4341, 'aristocrat': 4342, 'minu': 4343, 'basing': 4344, 'prank': 4345, 'stream': 4346, 'rumor': 4347, 'tomorrow': 4348, '1920': 4349, 'spice': 4350, 'financ': 4351, 'wagner': 4352, 'thunderbird': 4353, 'fright': 4354, 'conscienc': 4355, 'choppi': 4356, 'hopkin': 4357, 'bread': 4358, 'straightforward': 4359, 'ingeni': 4360, 'brit': 4361, 'naughti': 4362, 'cancer': 4363, 'smell': 4364, 'standout': 4365, 'abrupt': 4366, 'posey': 4367, 'impos': 4368, '1989': 4369, 'inmat': 4370, 'counterpart': 4371, 'grudg': 4372, 'iv': 4373, 'immers': 4374, 'literari': 4375, 'quietli': 4376, 'recogniz': 4377, 'paxton': 4378, 'chavez': 4379, 'secondari': 4380, 'rub': 4381, 'couch': 4382, 'en': 4383, 'ram': 4384, 'dirt': 4385, 'entranc': 4386, 'atroc': 4387, 'teas': 4388, 'beverli': 4389, '1939': 4390, 'minist': 4391, 'worship': 4392, '75': 4393, 'lectur': 4394, 'chamberlain': 4395, 'leigh': 4396, 'curli': 4397, 'wwe': 4398, 'penn': 4399, 'springer': 4400, 'heist': 4401, 'tierney': 4402, 'lindsay': 4403, 'ace': 4404, 'injuri': 4405, 'skeptic': 4406, 'transcend': 4407, 'yearn': 4408, 'morbid': 4409, 'quaid': 4410, 'nemesi': 4411, 'heartfelt': 4412, 'geni': 4413, 'bernard': 4414, 'variat': 4415, 'clan': 4416, 'policeman': 4417, 'net': 4418, 'sublim': 4419, 'watcher': 4420, 'nolan': 4421, 'duel': 4422, 'missil': 4423, 'cattl': 4424, 'misguid': 4425, 'convert': 4426, 'laurenc': 4427, 'enthral': 4428, 'entitl': 4429, 'moreov': 4430, 'sassi': 4431, 'ratso': 4432, 'attenborough': 4433, '1986': 4434, 'esther': 4435, 'uncut': 4436, 'setup': 4437, 'hk': 4438, 'carlito': 4439, 'egg': 4440, 'facil': 4441, 'reliabl': 4442, 'vader': 4443, 'unexplain': 4444, 'kitti': 4445, 'moder': 4446, 'bye': 4447, 'poe': 4448, 'obstacl': 4449, 'out': 4450, 'enabl': 4451, 'youngest': 4452, 'rosemari': 4453, 'artsi': 4454, 'spiral': 4455, '1979': 4456, 'bean': 4457, 'buzz': 4458, 'dont': 4459, 'graini': 4460, 'kidman': 4461, 'steadi': 4462, 'tyler': 4463, 'diari': 4464, 'puppi': 4465, 'brood': 4466, 'hopelessli': 4467, 'grin': 4468, 'cruelti': 4469, 'characteris': 4470, 'mytholog': 4471, 'clueless': 4472, 'fuel': 4473, 'patricia': 4474, 'martha': 4475, 'decept': 4476, 'hain': 4477, 'oblig': 4478, 'acquaint': 4479, 'gillian': 4480, 'gina': 4481, 'spontan': 4482, 'sweat': 4483, 'bewar': 4484, 'bounc': 4485, 'athlet': 4486, 'effici': 4487, 'heap': 4488, 'disastr': 4489, 'exterior': 4490, 'baffl': 4491, 'underworld': 4492, '1969': 4493, 'hammi': 4494, 'narrow': 4495, 'niec': 4496, 'christin': 4497, 'weather': 4498, 'brendan': 4499, 'preming': 4500, 'bronson': 4501, 'despic': 4502, 'kline': 4503, 'sleepwalk': 4504, 'hepburn': 4505, 'virtu': 4506, 'headach': 4507, 'mayhem': 4508, 'trigger': 4509, 'candl': 4510, 'uh': 4511, 'injur': 4512, 'insipid': 4513, 'dandi': 4514, 'shatter': 4515, 'analyz': 4516, 'harmless': 4517, 'enlist': 4518, 'angst': 4519, 'loath': 4520, 'scar': 4521, 'suprem': 4522, 'astound': 4523, 'preachi': 4524, 'dilemma': 4525, 'tick': 4526, 'mermaid': 4527, '19': 4528, 'taboo': 4529, 'lester': 4530, 'viewpoint': 4531, 'renaiss': 4532, 'biker': 4533, '73': 4534, 'housewif': 4535, 'loi': 4536, 'outlaw': 4537, 'goof': 4538, 'sooner': 4539, 'circu': 4540, 'rome': 4541, 'fontain': 4542, 'camcord': 4543, 'gere': 4544, 'ebert': 4545, 'hostag': 4546, 'overlong': 4547, 'intric': 4548, 'salt': 4549, 'stair': 4550, 'corbett': 4551, 'scorses': 4552, 'guin': 4553, 'zoom': 4554, 'foolish': 4555, 'whore': 4556, 'dish': 4557, 'glorifi': 4558, 'slimi': 4559, 'dismal': 4560, 'bent': 4561, 'idol': 4562, 'hokey': 4563, 'redund': 4564, 'spade': 4565, 'fluff': 4566, 'macho': 4567, 'surgeri': 4568, 'hooker': 4569, 'phenomenon': 4570, 'amor': 4571, 'contempt': 4572, 'ariel': 4573, 'claustrophob': 4574, 'filth': 4575, 'stimul': 4576, 'tripl': 4577, 'boston': 4578, 'cassavet': 4579, 'oldest': 4580, 'immatur': 4581, 'sox': 4582, 'steer': 4583, 'cohen': 4584, 'strongest': 4585, 'gasp': 4586, 'trivia': 4587, 'joker': 4588, 'beard': 4589, 'cush': 4590, 'preced': 4591, 'muscl': 4592, 'frantic': 4593, 'down': 4594, 'margin': 4595, 'rhyme': 4596, 'keen': 4597, 'messi': 4598, 'harold': 4599, 'shred': 4600, 'flashi': 4601, 'shield': 4602, 'obligatori': 4603, 'faint': 4604, 'antagonist': 4605, 'remad': 4606, 'nolt': 4607, 'dwarf': 4608, 'mutual': 4609, 'naschi': 4610, 'corman': 4611, 'spree': 4612, 'alvin': 4613, 'mount': 4614, 'assert': 4615, 'flirt': 4616, 'flag': 4617, 'gabl': 4618, '1981': 4619, 'fascist': 4620, 'spinal': 4621, 'transplant': 4622, 'astronaut': 4623, 'radiat': 4624, '1976': 4625, 'proport': 4626, 'conquer': 4627, 'cow': 4628, 'widescreen': 4629, 'perman': 4630, 'zane': 4631, 'schlock': 4632, 'sensual': 4633, 'raj': 4634, '28': 4635, 'instruct': 4636, 'deer': 4637, 'scandal': 4638, 'neurot': 4639, 'bachelor': 4640, 'triangl': 4641, 'divin': 4642, 'carey': 4643, 'inflict': 4644, 'wield': 4645, 'mobil': 4646, 'interestingli': 4647, '95': 4648, 'vaniti': 4649, 'boob': 4650, 'archiv': 4651, 'barn': 4652, 'off': 4653, 'someday': 4654, 'info': 4655, 'bitten': 4656, 'departur': 4657, 'mol': 4658, 'ritchi': 4659, 'discern': 4660, 'flock': 4661, 'danish': 4662, 'persuad': 4663, 'strive': 4664, 'www': 4665, 'repris': 4666, 'claud': 4667, 'hara': 4668, 'fishburn': 4669, 'brush': 4670, 'resum': 4671, 'aborigin': 4672, '1945': 4673, 'submit': 4674, 'recit': 4675, 'earnest': 4676, 'pickford': 4677, 'timberlak': 4678, 'dylan': 4679, 'mobster': 4680, 'anton': 4681, 'ish': 4682, 'cycl': 4683, 'axe': 4684, 'colin': 4685, 'dame': 4686, 'frontier': 4687, 'rot': 4688, 'parson': 4689, 'carlo': 4690, 'pacif': 4691, 'cliffhang': 4692, 'melissa': 4693, 'clad': 4694, 'harrison': 4695, 'undermin': 4696, 'fragil': 4697, 'traffic': 4698, 'jade': 4699, 'vibrant': 4700, 'pixar': 4701, 'hilar': 4702, 'cb': 4703, 'kathryn': 4704, 'biblic': 4705, 'helm': 4706, 'hapless': 4707, 'cher': 4708, 'senior': 4709, 'dim': 4710, 'prophet': 4711, 'miracul': 4712, 'artwork': 4713, 'casino': 4714, 'hug': 4715, 'heartwarm': 4716, 'banter': 4717, 'luka': 4718, 'wendigo': 4719, 'loretta': 4720, 'proclaim': 4721, 'neill': 4722, 'bate': 4723, 'europa': 4724, 'bondag': 4725, 'breakfast': 4726, 'cerebr': 4727, 'toronto': 4728, 'articl': 4729, 'token': 4730, 'lui': 4731, 'jordan': 4732, 'antholog': 4733, 'electron': 4734, 'foil': 4735, 'flavor': 4736, 'blatantli': 4737, 'northern': 4738, 'seedi': 4739, 'sicken': 4740, 'milo': 4741, 'shepherd': 4742, 'vanessa': 4743, 'akin': 4744, 'orphan': 4745, 'wardrob': 4746, 'bikini': 4747, 'misfortun': 4748, 'static': 4749, 'legitim': 4750, 'choke': 4751, 'estrang': 4752, 'uma': 4753, 'illus': 4754, 'pc': 4755, 'feast': 4756, 'holocaust': 4757, 'mason': 4758, 'aris': 4759, 'nope': 4760, 'eli': 4761, 'winchest': 4762, 'alexandr': 4763, 'http': 4764, 'razor': 4765, 'redneck': 4766, 'rooki': 4767, 'marlon': 4768, 'isra': 4769, 'lucil': 4770, 'trier': 4771, 'vile': 4772, 'jo': 4773, 'venom': 4774, 'mathieu': 4775, 'howl': 4776, 'shorter': 4777, 'audrey': 4778, 'peer': 4779, 'disregard': 4780, 'ceremoni': 4781, 'dudley': 4782, 'gilbert': 4783, 'deem': 4784, 'comprehend': 4785, 'psych': 4786, 'wrestler': 4787, 'highway': 4788, 'outdat': 4789, 'styliz': 4790, 'turd': 4791, 'affleck': 4792, 'cartoonish': 4793, 'retriev': 4794, 'feminin': 4795, 'tack': 4796, 'magician': 4797, 'knightley': 4798, 'smack': 4799, 'swept': 4800, 'clinic': 4801, 'linear': 4802, 'nightclub': 4803, 'charlton': 4804, 'oppon': 4805, 'abund': 4806, 'gunga': 4807, 'leather': 4808, 'frog': 4809, 'fifth': 4810, 'boyer': 4811, 'huston': 4812, 'glare': 4813, 'ideolog': 4814, 'evolut': 4815, 'salman': 4816, 'spine': 4817, 'chip': 4818, 'greet': 4819, 'cemeteri': 4820, 'corn': 4821, 'bastard': 4822, '1994': 4823, 'conrad': 4824, 'boo': 4825, 'uniformli': 4826, '4th': 4827, 'braveheart': 4828, 'lifeless': 4829, 'spawn': 4830, 'monument': 4831, 'potter': 4832, 'whack': 4833, 'toe': 4834, '1991': 4835, 'plate': 4836, 'phenomen': 4837, 'mitch': 4838, 'lighter': 4839, 'newer': 4840, 'compris': 4841, 'collector': 4842, 'energet': 4843, 'sleaz': 4844, 'bogu': 4845, 'durat': 4846, 'einstein': 4847, 'senat': 4848, 'btw': 4849, 'breakdown': 4850, 'lavish': 4851, 'tara': 4852, 'snatch': 4853, 'moe': 4854, 'deliver': 4855, 'goldsworthi': 4856, 'summar': 4857, 'client': 4858, 'cuban': 4859, 'judd': 4860, 'nina': 4861, 'ol': 4862, 'fluid': 4863, 'outright': 4864, 'bulk': 4865, 'signal': 4866, 'spectacl': 4867, 'appl': 4868, 'kent': 4869, 'trauma': 4870, 'luxuri': 4871, 'embark': 4872, 'jare': 4873, 'pronounc': 4874, 'alleg': 4875, 'belli': 4876, 'capot': 4877, 'neatli': 4878, 'lex': 4879, 'jule': 4880, '1974': 4881, 'eleven': 4882, 'cecil': 4883, 'clara': 4884, 'sorrow': 4885, 'mcqueen': 4886, 'replay': 4887, 'jam': 4888, 'ie': 4889, 'wtf': 4890, '1977': 4891, 'undertak': 4892, 'firmli': 4893, 'bori': 4894, 'healthi': 4895, 'creek': 4896, 'occup': 4897, 'undead': 4898, 'jedi': 4899, 'historian': 4900, 'constitut': 4901, 'randolph': 4902, 'inaccuraci': 4903, 'evelyn': 4904, 'liu': 4905, 'gilliam': 4906, 'armstrong': 4907, 'kazan': 4908, 'spray': 4909, 'inaccur': 4910, 'inclus': 4911, 'unattract': 4912, 'unsuspect': 4913, 'curtain': 4914, 'porter': 4915, 'vain': 4916, 'genet': 4917, 'pepper': 4918, 'meal': 4919, 'rosario': 4920, 'pioneer': 4921, 'paula': 4922, 'walt': 4923, 'id': 4924, 'relentless': 4925, '1985': 4926, 'mum': 4927, 'carmen': 4928, 'palm': 4929, 'knee': 4930, 'subtli': 4931, 'truman': 4932, 'abound': 4933, 'cape': 4934, 'blur': 4935, 'bait': 4936, 'lauren': 4937, 'miami': 4938, 'groan': 4939, 'forgiven': 4940, 'comprehens': 4941, 'aussi': 4942, 'propheci': 4943, 'kiddi': 4944, 'comb': 4945, 'poker': 4946, 'tokyo': 4947, 'roar': 4948, 'congratul': 4949, 'fruit': 4950, 'decapit': 4951, 'ash': 4952, 'miniseri': 4953, 'goldblum': 4954, 'bsg': 4955, 'basket': 4956, 'vignett': 4957, 'lanc': 4958, 'conan': 4959, 'antonio': 4960, 'sidewalk': 4961, 'galaxi': 4962, 'sacrif': 4963, 'scarfac': 4964, 'sparkl': 4965, 'vastli': 4966, 'dubiou': 4967, 'macabr': 4968, 'ingrid': 4969, 'masterson': 4970, 'motorcycl': 4971, 'hostil': 4972, 'turtl': 4973, 'asset': 4974, 'omin': 4975, 'detach': 4976, 'epitom': 4977, 'bravo': 4978, 'scariest': 4979, 'frontal': 4980, 'optimist': 4981, 'growth': 4982, 'incorrect': 4983, 'drone': 4984, 'substanti': 4985, 'modest': 4986, '21st': 4987, 'victorian': 4988, 'handicap': 4989, 'spill': 4990, 'rapidli': 4991, 'monti': 4992, 'sophi': 4993, 'hackman': 4994, 'weaker': 4995, 'reincarn': 4996, 'evan': 4997, 'verg': 4998, 'profil': 4999}\n"
     ]
    }
   ],
   "source": [
    "print(word_dict)"
   ]
  },
  {
   "cell_type": "markdown",
   "metadata": {},
   "source": [
    "**Question:** What are the five most frequently appearing (tokenized) words in the training set? Does it makes sense that these words appear frequently in the training set?"
   ]
  },
  {
   "cell_type": "markdown",
   "metadata": {},
   "source": [
    "**Answer:**"
   ]
  },
  {
   "cell_type": "code",
   "execution_count": 14,
   "metadata": {},
   "outputs": [],
   "source": [
    "# TODO: Use this space to determine the five most frequently appearing words in the training set.\n",
    "\n",
    "# The five most frequent words, as we can see in the cell above, are: movi, film, one, like and time.\n",
    "# Yes, it makes sense, as they are words that people tend to use when describing movies."
   ]
  },
  {
   "cell_type": "markdown",
   "metadata": {},
   "source": [
    "### Save `word_dict`\n",
    "\n",
    "Later on when we construct an endpoint which processes a submitted review we will need to make use of the `word_dict` which we have created. As such, we will save it to a file now for future use."
   ]
  },
  {
   "cell_type": "code",
   "execution_count": 15,
   "metadata": {},
   "outputs": [],
   "source": [
    "data_dir = '../data/pytorch' # The folder we will use for storing data\n",
    "if not os.path.exists(data_dir): # Make sure that the folder exists\n",
    "    os.makedirs(data_dir)"
   ]
  },
  {
   "cell_type": "code",
   "execution_count": 16,
   "metadata": {},
   "outputs": [],
   "source": [
    "with open(os.path.join(data_dir, 'word_dict.pkl'), \"wb\") as f:\n",
    "    pickle.dump(word_dict, f)"
   ]
  },
  {
   "cell_type": "markdown",
   "metadata": {},
   "source": [
    "### Transform the reviews\n",
    "\n",
    "Now that we have our word dictionary which allows us to transform the words appearing in the reviews into integers, it is time to make use of it and convert our reviews to their integer sequence representation, making sure to pad or truncate to a fixed length, which in our case is `500`."
   ]
  },
  {
   "cell_type": "code",
   "execution_count": 17,
   "metadata": {},
   "outputs": [],
   "source": [
    "def convert_and_pad(word_dict, sentence, pad=500):\n",
    "    NOWORD = 0 # We will use 0 to represent the 'no word' category\n",
    "    INFREQ = 1 # and we use 1 to represent the infrequent words, i.e., words not appearing in word_dict\n",
    "    \n",
    "    working_sentence = [NOWORD] * pad\n",
    "    \n",
    "    for word_index, word in enumerate(sentence[:pad]):\n",
    "        if word in word_dict:\n",
    "            working_sentence[word_index] = word_dict[word]\n",
    "        else:\n",
    "            working_sentence[word_index] = INFREQ\n",
    "            \n",
    "    return working_sentence, min(len(sentence), pad)\n",
    "\n",
    "def convert_and_pad_data(word_dict, data, pad=500):\n",
    "    result = []\n",
    "    lengths = []\n",
    "    \n",
    "    for sentence in data:\n",
    "        converted, leng = convert_and_pad(word_dict, sentence, pad)\n",
    "        result.append(converted)\n",
    "        lengths.append(leng)\n",
    "        \n",
    "    return np.array(result), np.array(lengths)"
   ]
  },
  {
   "cell_type": "code",
   "execution_count": 18,
   "metadata": {},
   "outputs": [],
   "source": [
    "train_X, train_X_len = convert_and_pad_data(word_dict, train_X)\n",
    "test_X, test_X_len = convert_and_pad_data(word_dict, test_X)"
   ]
  },
  {
   "cell_type": "markdown",
   "metadata": {},
   "source": [
    "As a quick check to make sure that things are working as intended, check to see what one of the reviews in the training set looks like after having been processeed. Does this look reasonable? What is the length of a review in the training set?"
   ]
  },
  {
   "cell_type": "code",
   "execution_count": 19,
   "metadata": {},
   "outputs": [
    {
     "data": {
      "text/plain": [
       "array([1667,    2,   14,  370,  860,   14,   74,   51,  246,    9,  109,\n",
       "         42,  177, 1119,    1,    1,    1, 2017, 1742,  463,    3,   76,\n",
       "        872,   50,   11,   66,  149,  391,  452,  410,   60,    1,    9,\n",
       "        780,  144,    2,    1,   52,  418, 2354, 2427,  139, 4826,    1,\n",
       "          9,  798,  190,  463,  301,    1, 2017, 1742,   56,   11,    1,\n",
       "        263,   29,   51,  531, 1394,  341,   40, 1358,  631,    1,   36,\n",
       "         30,    1,   40,  153,    5,    2,  130, 1272,  277, 2071,    1,\n",
       "        772,  481, 2150, 2902, 2150, 2096, 2106,   17,   32, 2109,    2,\n",
       "          0,    0,    0,    0,    0,    0,    0,    0,    0,    0,    0,\n",
       "          0,    0,    0,    0,    0,    0,    0,    0,    0,    0,    0,\n",
       "          0,    0,    0,    0,    0,    0,    0,    0,    0,    0,    0,\n",
       "          0,    0,    0,    0,    0,    0,    0,    0,    0,    0,    0,\n",
       "          0,    0,    0,    0,    0,    0,    0,    0,    0,    0,    0,\n",
       "          0,    0,    0,    0,    0,    0,    0,    0,    0,    0,    0,\n",
       "          0,    0,    0,    0,    0,    0,    0,    0,    0,    0,    0,\n",
       "          0,    0,    0,    0,    0,    0,    0,    0,    0,    0,    0,\n",
       "          0,    0,    0,    0,    0,    0,    0,    0,    0,    0,    0,\n",
       "          0,    0,    0,    0,    0,    0,    0,    0,    0,    0,    0,\n",
       "          0,    0,    0,    0,    0,    0,    0,    0,    0,    0,    0,\n",
       "          0,    0,    0,    0,    0,    0,    0,    0,    0,    0,    0,\n",
       "          0,    0,    0,    0,    0,    0,    0,    0,    0,    0,    0,\n",
       "          0,    0,    0,    0,    0,    0,    0,    0,    0,    0,    0,\n",
       "          0,    0,    0,    0,    0,    0,    0,    0,    0,    0,    0,\n",
       "          0,    0,    0,    0,    0,    0,    0,    0,    0,    0,    0,\n",
       "          0,    0,    0,    0,    0,    0,    0,    0,    0,    0,    0,\n",
       "          0,    0,    0,    0,    0,    0,    0,    0,    0,    0,    0,\n",
       "          0,    0,    0,    0,    0,    0,    0,    0,    0,    0,    0,\n",
       "          0,    0,    0,    0,    0,    0,    0,    0,    0,    0,    0,\n",
       "          0,    0,    0,    0,    0,    0,    0,    0,    0,    0,    0,\n",
       "          0,    0,    0,    0,    0,    0,    0,    0,    0,    0,    0,\n",
       "          0,    0,    0,    0,    0,    0,    0,    0,    0,    0,    0,\n",
       "          0,    0,    0,    0,    0,    0,    0,    0,    0,    0,    0,\n",
       "          0,    0,    0,    0,    0,    0,    0,    0,    0,    0,    0,\n",
       "          0,    0,    0,    0,    0,    0,    0,    0,    0,    0,    0,\n",
       "          0,    0,    0,    0,    0,    0,    0,    0,    0,    0,    0,\n",
       "          0,    0,    0,    0,    0,    0,    0,    0,    0,    0,    0,\n",
       "          0,    0,    0,    0,    0,    0,    0,    0,    0,    0,    0,\n",
       "          0,    0,    0,    0,    0,    0,    0,    0,    0,    0,    0,\n",
       "          0,    0,    0,    0,    0,    0,    0,    0,    0,    0,    0,\n",
       "          0,    0,    0,    0,    0,    0,    0,    0,    0,    0,    0,\n",
       "          0,    0,    0,    0,    0,    0,    0,    0,    0,    0,    0,\n",
       "          0,    0,    0,    0,    0,    0,    0,    0,    0,    0,    0,\n",
       "          0,    0,    0,    0,    0,    0,    0,    0,    0,    0,    0,\n",
       "          0,    0,    0,    0,    0,    0,    0,    0,    0,    0,    0,\n",
       "          0,    0,    0,    0,    0,    0,    0,    0,    0,    0,    0,\n",
       "          0,    0,    0,    0,    0])"
      ]
     },
     "execution_count": 19,
     "metadata": {},
     "output_type": "execute_result"
    }
   ],
   "source": [
    "# Use this cell to examine one of the processed reviews to make sure everything is working as intended.\n",
    "train_X[100]"
   ]
  },
  {
   "cell_type": "markdown",
   "metadata": {},
   "source": [
    "**Question:** In the cells above we use the `preprocess_data` and `convert_and_pad_data` methods to process both the training and testing set. Why or why not might this be a problem?"
   ]
  },
  {
   "cell_type": "markdown",
   "metadata": {},
   "source": [
    "**Answer:**\n",
    "It removes the words that do not appear in 'word_dict'. Also, all the input vectors will have the same size, no matter how long the reviews are. "
   ]
  },
  {
   "cell_type": "markdown",
   "metadata": {},
   "source": [
    "## Step 3: Upload the data to S3\n",
    "\n",
    "As in the XGBoost notebook, we will need to upload the training dataset to S3 in order for our training code to access it. For now we will save it locally and we will upload to S3 later on.\n",
    "\n",
    "### Save the processed training dataset locally\n",
    "\n",
    "It is important to note the format of the data that we are saving as we will need to know it when we write the training code. In our case, each row of the dataset has the form `label`, `length`, `review[500]` where `review[500]` is a sequence of `500` integers representing the words in the review."
   ]
  },
  {
   "cell_type": "code",
   "execution_count": 20,
   "metadata": {},
   "outputs": [],
   "source": [
    "import pandas as pd\n",
    "    \n",
    "pd.concat([pd.DataFrame(train_y), pd.DataFrame(train_X_len), pd.DataFrame(train_X)], axis=1) \\\n",
    "        .to_csv(os.path.join(data_dir, 'train.csv'), header=False, index=False)"
   ]
  },
  {
   "cell_type": "markdown",
   "metadata": {},
   "source": [
    "### Uploading the training data\n",
    "\n",
    "\n",
    "Next, we need to upload the training data to the SageMaker default S3 bucket so that we can provide access to it while training our model."
   ]
  },
  {
   "cell_type": "code",
   "execution_count": 21,
   "metadata": {},
   "outputs": [],
   "source": [
    "import sagemaker\n",
    "\n",
    "sagemaker_session = sagemaker.Session()\n",
    "\n",
    "bucket = sagemaker_session.default_bucket()\n",
    "prefix = 'sagemaker/sentiment_rnn'\n",
    "\n",
    "role = sagemaker.get_execution_role()"
   ]
  },
  {
   "cell_type": "code",
   "execution_count": 22,
   "metadata": {},
   "outputs": [],
   "source": [
    "input_data = sagemaker_session.upload_data(path=data_dir, bucket=bucket, key_prefix=prefix)"
   ]
  },
  {
   "cell_type": "markdown",
   "metadata": {},
   "source": [
    "**NOTE:** The cell above uploads the entire contents of our data directory. This includes the `word_dict.pkl` file. This is fortunate as we will need this later on when we create an endpoint that accepts an arbitrary review. For now, we will just take note of the fact that it resides in the data directory (and so also in the S3 training bucket) and that we will need to make sure it gets saved in the model directory."
   ]
  },
  {
   "cell_type": "markdown",
   "metadata": {},
   "source": [
    "## Step 4: Build and Train the PyTorch Model\n",
    "\n",
    "In the XGBoost notebook we discussed what a model is in the SageMaker framework. In particular, a model comprises three objects\n",
    "\n",
    " - Model Artifacts,\n",
    " - Training Code, and\n",
    " - Inference Code,\n",
    " \n",
    "each of which interact with one another. In the XGBoost example we used training and inference code that was provided by Amazon. Here we will still be using containers provided by Amazon with the added benefit of being able to include our own custom code.\n",
    "\n",
    "We will start by implementing our own neural network in PyTorch along with a training script. For the purposes of this project we have provided the necessary model object in the `model.py` file, inside of the `train` folder. You can see the provided implementation by running the cell below."
   ]
  },
  {
   "cell_type": "code",
   "execution_count": 24,
   "metadata": {},
   "outputs": [
    {
     "name": "stdout",
     "output_type": "stream",
     "text": [
      "\u001b[34mimport\u001b[39;49;00m \u001b[04m\u001b[36mtorch.nn\u001b[39;49;00m \u001b[34mas\u001b[39;49;00m \u001b[04m\u001b[36mnn\u001b[39;49;00m\r\n",
      "\r\n",
      "\u001b[34mclass\u001b[39;49;00m \u001b[04m\u001b[32mLSTMClassifier\u001b[39;49;00m(nn.Module):\r\n",
      "    \u001b[33m\"\"\"\u001b[39;49;00m\r\n",
      "\u001b[33m    This is the simple RNN model we will be using to perform Sentiment Analysis.\u001b[39;49;00m\r\n",
      "\u001b[33m    \"\"\"\u001b[39;49;00m\r\n",
      "\r\n",
      "    \u001b[34mdef\u001b[39;49;00m \u001b[32m__init__\u001b[39;49;00m(\u001b[36mself\u001b[39;49;00m, embedding_dim, hidden_dim, vocab_size):\r\n",
      "        \u001b[33m\"\"\"\u001b[39;49;00m\r\n",
      "\u001b[33m        Initialize the model by settingg up the various layers.\u001b[39;49;00m\r\n",
      "\u001b[33m        \"\"\"\u001b[39;49;00m\r\n",
      "        \u001b[36msuper\u001b[39;49;00m(LSTMClassifier, \u001b[36mself\u001b[39;49;00m).\u001b[32m__init__\u001b[39;49;00m()\r\n",
      "\r\n",
      "        \u001b[36mself\u001b[39;49;00m.embedding = nn.Embedding(vocab_size, embedding_dim, padding_idx=\u001b[34m0\u001b[39;49;00m)\r\n",
      "        \u001b[36mself\u001b[39;49;00m.lstm = nn.LSTM(embedding_dim, hidden_dim)\r\n",
      "        \u001b[36mself\u001b[39;49;00m.dense = nn.Linear(in_features=hidden_dim, out_features=\u001b[34m1\u001b[39;49;00m)\r\n",
      "        \u001b[36mself\u001b[39;49;00m.sig = nn.Sigmoid()\r\n",
      "        \r\n",
      "        \u001b[36mself\u001b[39;49;00m.word_dict = \u001b[36mNone\u001b[39;49;00m\r\n",
      "\r\n",
      "    \u001b[34mdef\u001b[39;49;00m \u001b[32mforward\u001b[39;49;00m(\u001b[36mself\u001b[39;49;00m, x):\r\n",
      "        \u001b[33m\"\"\"\u001b[39;49;00m\r\n",
      "\u001b[33m        Perform a forward pass of our model on some input.\u001b[39;49;00m\r\n",
      "\u001b[33m        \"\"\"\u001b[39;49;00m\r\n",
      "        x = x.t()\r\n",
      "        lengths = x[\u001b[34m0\u001b[39;49;00m,:]\r\n",
      "        reviews = x[\u001b[34m1\u001b[39;49;00m:,:]\r\n",
      "        embeds = \u001b[36mself\u001b[39;49;00m.embedding(reviews)\r\n",
      "        lstm_out, _ = \u001b[36mself\u001b[39;49;00m.lstm(embeds)\r\n",
      "        out = \u001b[36mself\u001b[39;49;00m.dense(lstm_out)\r\n",
      "        out = out[lengths - \u001b[34m1\u001b[39;49;00m, \u001b[36mrange\u001b[39;49;00m(\u001b[36mlen\u001b[39;49;00m(lengths))]\r\n",
      "        \u001b[34mreturn\u001b[39;49;00m \u001b[36mself\u001b[39;49;00m.sig(out.squeeze())\r\n"
     ]
    }
   ],
   "source": [
    "!pygmentize train/model.py"
   ]
  },
  {
   "cell_type": "markdown",
   "metadata": {},
   "source": [
    "The important takeaway from the implementation provided is that there are three parameters that we may wish to tweak to improve the performance of our model. These are the embedding dimension, the hidden dimension and the size of the vocabulary. We will likely want to make these parameters configurable in the training script so that if we wish to modify them we do not need to modify the script itself. We will see how to do this later on. To start we will write some of the training code in the notebook so that we can more easily diagnose any issues that arise.\n",
    "\n",
    "First we will load a small portion of the training data set to use as a sample. It would be very time consuming to try and train the model completely in the notebook as we do not have access to a gpu and the compute instance that we are using is not particularly powerful. However, we can work on a small bit of the data to get a feel for how our training script is behaving."
   ]
  },
  {
   "cell_type": "code",
   "execution_count": 25,
   "metadata": {},
   "outputs": [],
   "source": [
    "import torch\n",
    "import torch.utils.data\n",
    "\n",
    "# Read in only the first 250 rows\n",
    "train_sample = pd.read_csv(os.path.join(data_dir, 'train.csv'), header=None, names=None, nrows=250)\n",
    "\n",
    "# Turn the input pandas dataframe into tensors\n",
    "train_sample_y = torch.from_numpy(train_sample[[0]].values).float().squeeze()\n",
    "train_sample_X = torch.from_numpy(train_sample.drop([0], axis=1).values).long()\n",
    "\n",
    "# Build the dataset\n",
    "train_sample_ds = torch.utils.data.TensorDataset(train_sample_X, train_sample_y)\n",
    "# Build the dataloader\n",
    "train_sample_dl = torch.utils.data.DataLoader(train_sample_ds, batch_size=50)"
   ]
  },
  {
   "cell_type": "markdown",
   "metadata": {},
   "source": [
    "### (TODO) Writing the training method\n",
    "\n",
    "Next we need to write the training code itself. This should be very similar to training methods that you have written before to train PyTorch models. We will leave any difficult aspects such as model saving / loading and parameter loading until a little later."
   ]
  },
  {
   "cell_type": "code",
   "execution_count": 26,
   "metadata": {},
   "outputs": [],
   "source": [
    "def train(model, train_loader, epochs, optimizer, loss_fn, device):\n",
    "    for epoch in range(1, epochs + 1):\n",
    "        model.train()\n",
    "        total_loss = 0\n",
    "        for batch in train_loader:         \n",
    "            batch_X, batch_y = batch\n",
    "            \n",
    "            batch_X = batch_X.to(device)\n",
    "            batch_y = batch_y.to(device)\n",
    "            \n",
    "            # TODO: Complete this train method to train the model provided.\n",
    "            \n",
    "            optimizer.zero_grad()\n",
    "            out = model.forward(batch_X)\n",
    "            loss = loss_fn(out, batch_y)\n",
    "            loss.backward()\n",
    "            optimizer.step()\n",
    "            \n",
    "            total_loss += loss.data.item()\n",
    "        print(\"Epoch: {}, BCELoss: {}\".format(epoch, total_loss / len(train_loader)))"
   ]
  },
  {
   "cell_type": "markdown",
   "metadata": {},
   "source": [
    "Supposing we have the training method above, we will test that it is working by writing a bit of code in the notebook that executes our training method on the small sample training set that we loaded earlier. The reason for doing this in the notebook is so that we have an opportunity to fix any errors that arise early when they are easier to diagnose."
   ]
  },
  {
   "cell_type": "code",
   "execution_count": 30,
   "metadata": {},
   "outputs": [
    {
     "name": "stdout",
     "output_type": "stream",
     "text": [
      "Epoch: 1, BCELoss: 0.6946029782295227\n",
      "Epoch: 2, BCELoss: 0.685555350780487\n",
      "Epoch: 3, BCELoss: 0.6781454801559448\n",
      "Epoch: 4, BCELoss: 0.6703463673591614\n",
      "Epoch: 5, BCELoss: 0.6612461686134339\n"
     ]
    }
   ],
   "source": [
    "import torch.optim as optim\n",
    "from train.model import LSTMClassifier\n",
    "\n",
    "device = torch.device(\"cuda\" if torch.cuda.is_available() else \"cpu\")\n",
    "model = LSTMClassifier(32, 100, 5000).to(device)\n",
    "optimizer = optim.Adam(model.parameters())\n",
    "loss_fn = torch.nn.BCELoss()\n",
    "\n",
    "train(model, train_sample_dl, 5, optimizer, loss_fn, device)"
   ]
  },
  {
   "cell_type": "markdown",
   "metadata": {},
   "source": [
    "In order to construct a PyTorch model using SageMaker we must provide SageMaker with a training script. We may optionally include a directory which will be copied to the container and from which our training code will be run. When the training container is executed it will check the uploaded directory (if there is one) for a `requirements.txt` file and install any required Python libraries, after which the training script will be run."
   ]
  },
  {
   "cell_type": "markdown",
   "metadata": {},
   "source": [
    "### (TODO) Training the model\n",
    "\n",
    "When a PyTorch model is constructed in SageMaker, an entry point must be specified. This is the Python file which will be executed when the model is trained. Inside of the `train` directory is a file called `train.py` which has been provided and which contains most of the necessary code to train our model. The only thing that is missing is the implementation of the `train()` method which you wrote earlier in this notebook.\n",
    "\n",
    "**TODO**: Copy the `train()` method written above and paste it into the `train/train.py` file where required.\n",
    "\n",
    "The way that SageMaker passes hyperparameters to the training script is by way of arguments. These arguments can then be parsed and used in the training script. To see how this is done take a look at the provided `train/train.py` file."
   ]
  },
  {
   "cell_type": "code",
   "execution_count": 28,
   "metadata": {},
   "outputs": [],
   "source": [
    "from sagemaker.pytorch import PyTorch\n",
    "\n",
    "estimator = PyTorch(entry_point=\"train.py\",\n",
    "                    source_dir=\"train\",\n",
    "                    role=role,\n",
    "                    framework_version='0.4.0',\n",
    "                    train_instance_count=1,\n",
    "                    train_instance_type='ml.p2.xlarge',\n",
    "                    hyperparameters={\n",
    "                        'epochs': 10,\n",
    "                        'hidden_dim': 200,\n",
    "                    })"
   ]
  },
  {
   "cell_type": "code",
   "execution_count": 29,
   "metadata": {},
   "outputs": [
    {
     "name": "stdout",
     "output_type": "stream",
     "text": [
      "2019-06-18 21:20:37 Starting - Starting the training job...\n",
      "2019-06-18 21:20:40 Starting - Launching requested ML instances.........\n",
      "2019-06-18 21:22:15 Starting - Preparing the instances for training.........\n",
      "2019-06-18 21:24:08 Downloading - Downloading input data\n",
      "2019-06-18 21:24:08 Training - Downloading the training image.....\n",
      "\u001b[31mbash: cannot set terminal process group (-1): Inappropriate ioctl for device\u001b[0m\n",
      "\u001b[31mbash: no job control in this shell\u001b[0m\n",
      "\u001b[31m2019-06-18 21:24:43,238 sagemaker-containers INFO     Imported framework sagemaker_pytorch_container.training\u001b[0m\n",
      "\u001b[31m2019-06-18 21:24:43,262 sagemaker_pytorch_container.training INFO     Block until all host DNS lookups succeed.\u001b[0m\n",
      "\u001b[31m2019-06-18 21:24:46,282 sagemaker_pytorch_container.training INFO     Invoking user training script.\u001b[0m\n",
      "\u001b[31m2019-06-18 21:24:46,492 sagemaker-containers INFO     Module train does not provide a setup.py. \u001b[0m\n",
      "\u001b[31mGenerating setup.py\u001b[0m\n",
      "\u001b[31m2019-06-18 21:24:46,493 sagemaker-containers INFO     Generating setup.cfg\u001b[0m\n",
      "\u001b[31m2019-06-18 21:24:46,493 sagemaker-containers INFO     Generating MANIFEST.in\u001b[0m\n",
      "\u001b[31m2019-06-18 21:24:46,493 sagemaker-containers INFO     Installing module with the following command:\u001b[0m\n",
      "\u001b[31m/usr/bin/python -m pip install -U . -r requirements.txt\u001b[0m\n",
      "\u001b[31mProcessing /opt/ml/code\u001b[0m\n",
      "\u001b[31mCollecting pandas (from -r requirements.txt (line 1))\u001b[0m\n",
      "\u001b[31m  Downloading https://files.pythonhosted.org/packages/74/24/0cdbf8907e1e3bc5a8da03345c23cbed7044330bb8f73bb12e711a640a00/pandas-0.24.2-cp35-cp35m-manylinux1_x86_64.whl (10.0MB)\u001b[0m\n",
      "\u001b[31mCollecting numpy (from -r requirements.txt (line 2))\n",
      "  Downloading https://files.pythonhosted.org/packages/bb/ef/d5a21cbc094d3f4d5b5336494dbcc9550b70c766a8345513c7c24ed18418/numpy-1.16.4-cp35-cp35m-manylinux1_x86_64.whl (17.2MB)\u001b[0m\n",
      "\u001b[31mCollecting nltk (from -r requirements.txt (line 3))\n",
      "  Downloading https://files.pythonhosted.org/packages/8d/5d/825889810b85c303c8559a3fd74d451d80cf3585a851f2103e69576bf583/nltk-3.4.3.zip (1.4MB)\u001b[0m\n",
      "\u001b[31mCollecting beautifulsoup4 (from -r requirements.txt (line 4))\n",
      "  Downloading https://files.pythonhosted.org/packages/1d/5d/3260694a59df0ec52f8b4883f5d23b130bc237602a1411fa670eae12351e/beautifulsoup4-4.7.1-py3-none-any.whl (94kB)\u001b[0m\n",
      "\u001b[31mCollecting html5lib (from -r requirements.txt (line 5))\n",
      "  Downloading https://files.pythonhosted.org/packages/a5/62/bbd2be0e7943ec8504b517e62bab011b4946e1258842bc159e5dfde15b96/html5lib-1.0.1-py2.py3-none-any.whl (117kB)\u001b[0m\n",
      "\u001b[31mRequirement already satisfied, skipping upgrade: python-dateutil>=2.5.0 in /usr/local/lib/python3.5/dist-packages (from pandas->-r requirements.txt (line 1)) (2.7.5)\u001b[0m\n",
      "\u001b[31mCollecting pytz>=2011k (from pandas->-r requirements.txt (line 1))\u001b[0m\n",
      "\u001b[31m  Downloading https://files.pythonhosted.org/packages/3d/73/fe30c2daaaa0713420d0382b16fbb761409f532c56bdcc514bf7b6262bb6/pytz-2019.1-py2.py3-none-any.whl (510kB)\u001b[0m\n",
      "\u001b[31mRequirement already satisfied, skipping upgrade: six in /usr/local/lib/python3.5/dist-packages (from nltk->-r requirements.txt (line 3)) (1.11.0)\u001b[0m\n",
      "\u001b[31mCollecting soupsieve>=1.2 (from beautifulsoup4->-r requirements.txt (line 4))\n",
      "  Downloading https://files.pythonhosted.org/packages/b9/a5/7ea40d0f8676bde6e464a6435a48bc5db09b1a8f4f06d41dd997b8f3c616/soupsieve-1.9.1-py2.py3-none-any.whl\u001b[0m\n",
      "\u001b[31mCollecting webencodings (from html5lib->-r requirements.txt (line 5))\n",
      "  Downloading https://files.pythonhosted.org/packages/f4/24/2a3e3df732393fed8b3ebf2ec078f05546de641fe1b667ee316ec1dcf3b7/webencodings-0.5.1-py2.py3-none-any.whl\u001b[0m\n",
      "\u001b[31mBuilding wheels for collected packages: nltk, train\n",
      "  Running setup.py bdist_wheel for nltk: started\n",
      "  Running setup.py bdist_wheel for nltk: finished with status 'done'\n",
      "  Stored in directory: /root/.cache/pip/wheels/54/40/b7/c56ad418e6cd4d9e1e594b5e138d1ca6eec11a6ee3d464e5bb\u001b[0m\n",
      "\u001b[31m  Running setup.py bdist_wheel for train: started\n",
      "  Running setup.py bdist_wheel for train: finished with status 'done'\n",
      "  Stored in directory: /tmp/pip-ephem-wheel-cache-asgo4huw/wheels/35/24/16/37574d11bf9bde50616c67372a334f94fa8356bc7164af8ca3\u001b[0m\n",
      "\u001b[31mSuccessfully built nltk train\u001b[0m\n",
      "\u001b[31mInstalling collected packages: numpy, pytz, pandas, nltk, soupsieve, beautifulsoup4, webencodings, html5lib, train\n",
      "  Found existing installation: numpy 1.15.4\n",
      "    Uninstalling numpy-1.15.4:\u001b[0m\n",
      "\u001b[31m      Successfully uninstalled numpy-1.15.4\u001b[0m\n",
      "\n",
      "2019-06-18 21:24:47 Training - Training image download completed. Training in progress.\u001b[31mSuccessfully installed beautifulsoup4-4.7.1 html5lib-1.0.1 nltk-3.4.3 numpy-1.16.4 pandas-0.24.2 pytz-2019.1 soupsieve-1.9.1 train-1.0.0 webencodings-0.5.1\u001b[0m\n",
      "\u001b[31mYou are using pip version 18.1, however version 19.1.1 is available.\u001b[0m\n",
      "\u001b[31mYou should consider upgrading via the 'pip install --upgrade pip' command.\u001b[0m\n",
      "\u001b[31m2019-06-18 21:24:58,221 sagemaker-containers INFO     Invoking user script\n",
      "\u001b[0m\n",
      "\u001b[31mTraining Env:\n",
      "\u001b[0m\n",
      "\u001b[31m{\n",
      "    \"model_dir\": \"/opt/ml/model\",\n",
      "    \"input_config_dir\": \"/opt/ml/input/config\",\n",
      "    \"log_level\": 20,\n",
      "    \"additional_framework_parameters\": {},\n",
      "    \"output_dir\": \"/opt/ml/output\",\n",
      "    \"hosts\": [\n",
      "        \"algo-1\"\n",
      "    ],\n",
      "    \"input_data_config\": {\n",
      "        \"training\": {\n",
      "            \"TrainingInputMode\": \"File\",\n",
      "            \"S3DistributionType\": \"FullyReplicated\",\n",
      "            \"RecordWrapperType\": \"None\"\n",
      "        }\n",
      "    },\n",
      "    \"hyperparameters\": {\n",
      "        \"epochs\": 10,\n",
      "        \"hidden_dim\": 200\n",
      "    },\n",
      "    \"current_host\": \"algo-1\",\n",
      "    \"module_dir\": \"s3://sagemaker-us-east-2-693943398376/sagemaker-pytorch-2019-06-18-21-20-36-607/source/sourcedir.tar.gz\",\n",
      "    \"input_dir\": \"/opt/ml/input\",\n",
      "    \"channel_input_dirs\": {\n",
      "        \"training\": \"/opt/ml/input/data/training\"\n",
      "    },\n",
      "    \"output_data_dir\": \"/opt/ml/output/data\",\n",
      "    \"user_entry_point\": \"train.py\",\n",
      "    \"framework_module\": \"sagemaker_pytorch_container.training:main\",\n",
      "    \"module_name\": \"train\",\n",
      "    \"resource_config\": {\n",
      "        \"current_host\": \"algo-1\",\n",
      "        \"hosts\": [\n",
      "            \"algo-1\"\n",
      "        ],\n",
      "        \"network_interface_name\": \"eth0\"\n",
      "    },\n",
      "    \"num_gpus\": 1,\n",
      "    \"network_interface_name\": \"eth0\",\n",
      "    \"output_intermediate_dir\": \"/opt/ml/output/intermediate\",\n",
      "    \"job_name\": \"sagemaker-pytorch-2019-06-18-21-20-36-607\",\n",
      "    \"num_cpus\": 4\u001b[0m\n",
      "\u001b[31m}\n",
      "\u001b[0m\n",
      "\u001b[31mEnvironment variables:\n",
      "\u001b[0m\n",
      "\u001b[31mSM_HP_EPOCHS=10\u001b[0m\n",
      "\u001b[31mSM_MODULE_NAME=train\u001b[0m\n",
      "\u001b[31mSM_HOSTS=[\"algo-1\"]\u001b[0m\n",
      "\u001b[31mSM_CURRENT_HOST=algo-1\u001b[0m\n",
      "\u001b[31mSM_TRAINING_ENV={\"additional_framework_parameters\":{},\"channel_input_dirs\":{\"training\":\"/opt/ml/input/data/training\"},\"current_host\":\"algo-1\",\"framework_module\":\"sagemaker_pytorch_container.training:main\",\"hosts\":[\"algo-1\"],\"hyperparameters\":{\"epochs\":10,\"hidden_dim\":200},\"input_config_dir\":\"/opt/ml/input/config\",\"input_data_config\":{\"training\":{\"RecordWrapperType\":\"None\",\"S3DistributionType\":\"FullyReplicated\",\"TrainingInputMode\":\"File\"}},\"input_dir\":\"/opt/ml/input\",\"job_name\":\"sagemaker-pytorch-2019-06-18-21-20-36-607\",\"log_level\":20,\"model_dir\":\"/opt/ml/model\",\"module_dir\":\"s3://sagemaker-us-east-2-693943398376/sagemaker-pytorch-2019-06-18-21-20-36-607/source/sourcedir.tar.gz\",\"module_name\":\"train\",\"network_interface_name\":\"eth0\",\"num_cpus\":4,\"num_gpus\":1,\"output_data_dir\":\"/opt/ml/output/data\",\"output_dir\":\"/opt/ml/output\",\"output_intermediate_dir\":\"/opt/ml/output/intermediate\",\"resource_config\":{\"current_host\":\"algo-1\",\"hosts\":[\"algo-1\"],\"network_interface_name\":\"eth0\"},\"user_entry_point\":\"train.py\"}\u001b[0m\n",
      "\u001b[31mSM_OUTPUT_DATA_DIR=/opt/ml/output/data\u001b[0m\n",
      "\u001b[31mSM_NUM_GPUS=1\u001b[0m\n",
      "\u001b[31mSM_FRAMEWORK_MODULE=sagemaker_pytorch_container.training:main\u001b[0m\n",
      "\u001b[31mSM_CHANNEL_TRAINING=/opt/ml/input/data/training\u001b[0m\n",
      "\u001b[31mPYTHONPATH=/usr/local/bin:/usr/lib/python35.zip:/usr/lib/python3.5:/usr/lib/python3.5/plat-x86_64-linux-gnu:/usr/lib/python3.5/lib-dynload:/usr/local/lib/python3.5/dist-packages:/usr/lib/python3/dist-packages\u001b[0m\n",
      "\u001b[31mSM_INPUT_DATA_CONFIG={\"training\":{\"RecordWrapperType\":\"None\",\"S3DistributionType\":\"FullyReplicated\",\"TrainingInputMode\":\"File\"}}\u001b[0m\n",
      "\u001b[31mSM_OUTPUT_INTERMEDIATE_DIR=/opt/ml/output/intermediate\u001b[0m\n",
      "\u001b[31mSM_NETWORK_INTERFACE_NAME=eth0\u001b[0m\n",
      "\u001b[31mSM_INPUT_DIR=/opt/ml/input\u001b[0m\n",
      "\u001b[31mSM_INPUT_CONFIG_DIR=/opt/ml/input/config\u001b[0m\n",
      "\u001b[31mSM_LOG_LEVEL=20\u001b[0m\n",
      "\u001b[31mSM_HP_HIDDEN_DIM=200\u001b[0m\n",
      "\u001b[31mSM_CHANNELS=[\"training\"]\u001b[0m\n",
      "\u001b[31mSM_USER_ARGS=[\"--epochs\",\"10\",\"--hidden_dim\",\"200\"]\u001b[0m\n",
      "\u001b[31mSM_MODEL_DIR=/opt/ml/model\u001b[0m\n",
      "\u001b[31mSM_NUM_CPUS=4\u001b[0m\n",
      "\u001b[31mSM_HPS={\"epochs\":10,\"hidden_dim\":200}\u001b[0m\n",
      "\u001b[31mSM_FRAMEWORK_PARAMS={}\u001b[0m\n",
      "\u001b[31mSM_OUTPUT_DIR=/opt/ml/output\u001b[0m\n",
      "\u001b[31mSM_MODULE_DIR=s3://sagemaker-us-east-2-693943398376/sagemaker-pytorch-2019-06-18-21-20-36-607/source/sourcedir.tar.gz\u001b[0m\n",
      "\u001b[31mSM_USER_ENTRY_POINT=train.py\u001b[0m\n",
      "\u001b[31mSM_RESOURCE_CONFIG={\"current_host\":\"algo-1\",\"hosts\":[\"algo-1\"],\"network_interface_name\":\"eth0\"}\n",
      "\u001b[0m\n",
      "\u001b[31mInvoking script with the following command:\n",
      "\u001b[0m\n",
      "\u001b[31m/usr/bin/python -m train --epochs 10 --hidden_dim 200\n",
      "\n",
      "\u001b[0m\n",
      "\u001b[31mUsing device cuda.\u001b[0m\n",
      "\u001b[31mGet train data loader.\u001b[0m\n"
     ]
    },
    {
     "name": "stdout",
     "output_type": "stream",
     "text": [
      "\u001b[31mModel loaded with embedding_dim 32, hidden_dim 200, vocab_size 5000.\u001b[0m\n",
      "\u001b[31mEpoch: 1, BCELoss: 0.6698643540849492\u001b[0m\n",
      "\u001b[31mEpoch: 2, BCELoss: 0.5995602522577558\u001b[0m\n",
      "\u001b[31mEpoch: 3, BCELoss: 0.5344921575517071\u001b[0m\n",
      "\u001b[31mEpoch: 4, BCELoss: 0.45465717084553775\u001b[0m\n",
      "\u001b[31mEpoch: 5, BCELoss: 0.3916059762847667\u001b[0m\n",
      "\u001b[31mEpoch: 6, BCELoss: 0.36722653556843193\u001b[0m\n",
      "\u001b[31mEpoch: 7, BCELoss: 0.3310174297313301\u001b[0m\n",
      "\u001b[31mEpoch: 8, BCELoss: 0.3634569541532166\u001b[0m\n",
      "\u001b[31mEpoch: 9, BCELoss: 0.30407095077086466\u001b[0m\n",
      "\n",
      "2019-06-18 21:28:05 Uploading - Uploading generated training model\n",
      "2019-06-18 21:28:05 Completed - Training job completed\n",
      "\u001b[31mEpoch: 10, BCELoss: 0.28430355811605645\u001b[0m\n",
      "\u001b[31m2019-06-18 21:27:57,144 sagemaker-containers INFO     Reporting training SUCCESS\u001b[0m\n",
      "Billable seconds: 266\n"
     ]
    }
   ],
   "source": [
    "estimator.fit({'training': input_data})"
   ]
  },
  {
   "cell_type": "markdown",
   "metadata": {},
   "source": [
    "## Step 5: Testing the model\n",
    "\n",
    "As mentioned at the top of this notebook, we will be testing this model by first deploying it and then sending the testing data to the deployed endpoint. We will do this so that we can make sure that the deployed model is working correctly.\n",
    "\n",
    "## Step 6: Deploy the model for testing\n",
    "\n",
    "Now that we have trained our model, we would like to test it to see how it performs. Currently our model takes input of the form `review_length, review[500]` where `review[500]` is a sequence of `500` integers which describe the words present in the review, encoded using `word_dict`. Fortunately for us, SageMaker provides built-in inference code for models with simple inputs such as this.\n",
    "\n",
    "There is one thing that we need to provide, however, and that is a function which loads the saved model. This function must be called `model_fn()` and takes as its only parameter a path to the directory where the model artifacts are stored. This function must also be present in the python file which we specified as the entry point. In our case the model loading function has been provided and so no changes need to be made.\n",
    "\n",
    "**NOTE**: When the built-in inference code is run it must import the `model_fn()` method from the `train.py` file. This is why the training code is wrapped in a main guard ( ie, `if __name__ == '__main__':` )\n",
    "\n",
    "Since we don't need to change anything in the code that was uploaded during training, we can simply deploy the current model as-is.\n",
    "\n",
    "**NOTE:** When deploying a model you are asking SageMaker to launch an compute instance that will wait for data to be sent to it. As a result, this compute instance will continue to run until *you* shut it down. This is important to know since the cost of a deployed endpoint depends on how long it has been running for.\n",
    "\n",
    "In other words **If you are no longer using a deployed endpoint, shut it down!**\n",
    "\n",
    "**TODO:** Deploy the trained model."
   ]
  },
  {
   "cell_type": "code",
   "execution_count": 31,
   "metadata": {},
   "outputs": [
    {
     "name": "stdout",
     "output_type": "stream",
     "text": [
      "---------------------------------------------------------------------------------------!"
     ]
    }
   ],
   "source": [
    "# TODO: Deploy the trained model\n",
    "\n",
    "predictor = estimator.deploy(initial_instance_count = 1, instance_type = 'ml.m4.xlarge')"
   ]
  },
  {
   "cell_type": "markdown",
   "metadata": {},
   "source": [
    "## Step 7 - Use the model for testing\n",
    "\n",
    "Once deployed, we can read in the test data and send it off to our deployed model to get some results. Once we collect all of the results we can determine how accurate our model is."
   ]
  },
  {
   "cell_type": "code",
   "execution_count": 32,
   "metadata": {},
   "outputs": [],
   "source": [
    "test_X = pd.concat([pd.DataFrame(test_X_len), pd.DataFrame(test_X)], axis=1)"
   ]
  },
  {
   "cell_type": "code",
   "execution_count": 33,
   "metadata": {},
   "outputs": [],
   "source": [
    "# We split the data into chunks and send each chunk seperately, accumulating the results.\n",
    "\n",
    "def predict(data, rows=512):\n",
    "    split_array = np.array_split(data, int(data.shape[0] / float(rows) + 1))\n",
    "    predictions = np.array([])\n",
    "    for array in split_array:\n",
    "        predictions = np.append(predictions, predictor.predict(array))\n",
    "    \n",
    "    return predictions"
   ]
  },
  {
   "cell_type": "code",
   "execution_count": 34,
   "metadata": {},
   "outputs": [],
   "source": [
    "predictions = predict(test_X.values)\n",
    "predictions = [round(num) for num in predictions]"
   ]
  },
  {
   "cell_type": "code",
   "execution_count": 35,
   "metadata": {},
   "outputs": [
    {
     "data": {
      "text/plain": [
       "0.85388"
      ]
     },
     "execution_count": 35,
     "metadata": {},
     "output_type": "execute_result"
    }
   ],
   "source": [
    "from sklearn.metrics import accuracy_score\n",
    "accuracy_score(test_y, predictions)"
   ]
  },
  {
   "cell_type": "markdown",
   "metadata": {},
   "source": [
    "**Question:** How does this model compare to the XGBoost model you created earlier? Why might these two models perform differently on this dataset? Which do *you* think is better for sentiment analysis?"
   ]
  },
  {
   "cell_type": "markdown",
   "metadata": {},
   "source": [
    "**Answer:**\n",
    "\n",
    "In this particular case, the XGBoost and the RNN model seem get similar results. However, it is important to say that we have not done any parameter tuning yet, and that might improve RNN's performance quite a bit.\n",
    "\n",
    "The main difference between XGBoost model and the RNN one, is that the first does not take into account the order of the words, while RNNs do. In this case, it can be crucial.\n",
    "\n",
    "RNNs are widely used in sentiment analysis projects, because they are know to perform well there. Therefore I think the RNN might work better."
   ]
  },
  {
   "cell_type": "markdown",
   "metadata": {},
   "source": [
    "### (TODO) More testing\n",
    "\n",
    "We now have a trained model which has been deployed and which we can send processed reviews to and which returns the predicted sentiment. However, ultimately we would like to be able to send our model an unprocessed review. That is, we would like to send the review itself as a string. For example, suppose we wish to send the following review to our model."
   ]
  },
  {
   "cell_type": "code",
   "execution_count": 36,
   "metadata": {},
   "outputs": [],
   "source": [
    "test_review = 'The simplest pleasures in life are the best, and this film is one of them. Combining a rather basic storyline of love and adventure this movie transcends the usual weekend fair with wit and unmitigated charm.'"
   ]
  },
  {
   "cell_type": "markdown",
   "metadata": {},
   "source": [
    "The question we now need to answer is, how do we send this review to our model?\n",
    "\n",
    "Recall in the first section of this notebook we did a bunch of data processing to the IMDb dataset. In particular, we did two specific things to the provided reviews.\n",
    " - Removed any html tags and stemmed the input\n",
    " - Encoded the review as a sequence of integers using `word_dict`\n",
    " \n",
    "In order process the review we will need to repeat these two steps.\n",
    "\n",
    "**TODO**: Using the `review_to_words` and `convert_and_pad` methods from section one, convert `test_review` into a numpy array `test_data` suitable to send to our model. Remember that our model expects input of the form `review_length, review[500]`."
   ]
  },
  {
   "cell_type": "code",
   "execution_count": 37,
   "metadata": {},
   "outputs": [],
   "source": [
    "# TODO: Convert test_review into a form usable by the model and save the results in test_data\n",
    "test_data = review_to_words(test_review)\n",
    "\n",
    "test_data = [np.array(convert_and_pad(word_dict, test_data)[0])]"
   ]
  },
  {
   "cell_type": "markdown",
   "metadata": {},
   "source": [
    "Now that we have processed the review, we can send the resulting array to our model to predict the sentiment of the review."
   ]
  },
  {
   "cell_type": "code",
   "execution_count": 38,
   "metadata": {},
   "outputs": [
    {
     "data": {
      "text/plain": [
       "array(0.49216178, dtype=float32)"
      ]
     },
     "execution_count": 38,
     "metadata": {},
     "output_type": "execute_result"
    }
   ],
   "source": [
    "predictor.predict(test_data)"
   ]
  },
  {
   "cell_type": "markdown",
   "metadata": {},
   "source": [
    "Since the return value of our model is close to `1`, we can be certain that the review we submitted is positive."
   ]
  },
  {
   "cell_type": "markdown",
   "metadata": {},
   "source": [
    "### Delete the endpoint\n",
    "\n",
    "Of course, just like in the XGBoost notebook, once we've deployed an endpoint it continues to run until we tell it to shut down. Since we are done using our endpoint for now, we can delete it."
   ]
  },
  {
   "cell_type": "code",
   "execution_count": 39,
   "metadata": {},
   "outputs": [],
   "source": [
    "estimator.delete_endpoint()"
   ]
  },
  {
   "cell_type": "markdown",
   "metadata": {},
   "source": [
    "## Step 6 (again) - Deploy the model for the web app\n",
    "\n",
    "Now that we know that our model is working, it's time to create some custom inference code so that we can send the model a review which has not been processed and have it determine the sentiment of the review.\n",
    "\n",
    "As we saw above, by default the estimator which we created, when deployed, will use the entry script and directory which we provided when creating the model. However, since we now wish to accept a string as input and our model expects a processed review, we need to write some custom inference code.\n",
    "\n",
    "We will store the code that we write in the `serve` directory. Provided in this directory is the `model.py` file that we used to construct our model, a `utils.py` file which contains the `review_to_words` and `convert_and_pad` pre-processing functions which we used during the initial data processing, and `predict.py`, the file which will contain our custom inference code. Note also that `requirements.txt` is present which will tell SageMaker what Python libraries are required by our custom inference code.\n",
    "\n",
    "When deploying a PyTorch model in SageMaker, you are expected to provide four functions which the SageMaker inference container will use.\n",
    " - `model_fn`: This function is the same function that we used in the training script and it tells SageMaker how to load our model.\n",
    " - `input_fn`: This function receives the raw serialized input that has been sent to the model's endpoint and its job is to de-serialize and make the input available for the inference code.\n",
    " - `output_fn`: This function takes the output of the inference code and its job is to serialize this output and return it to the caller of the model's endpoint.\n",
    " - `predict_fn`: The heart of the inference script, this is where the actual prediction is done and is the function which you will need to complete.\n",
    "\n",
    "For the simple website that we are constructing during this project, the `input_fn` and `output_fn` methods are relatively straightforward. We only require being able to accept a string as input and we expect to return a single value as output. You might imagine though that in a more complex application the input or output may be image data or some other binary data which would require some effort to serialize.\n",
    "\n",
    "### (TODO) Writing inference code\n",
    "\n",
    "Before writing our custom inference code, we will begin by taking a look at the code which has been provided."
   ]
  },
  {
   "cell_type": "code",
   "execution_count": 40,
   "metadata": {},
   "outputs": [
    {
     "name": "stdout",
     "output_type": "stream",
     "text": [
      "\u001b[34mimport\u001b[39;49;00m \u001b[04m\u001b[36margparse\u001b[39;49;00m\r\n",
      "\u001b[34mimport\u001b[39;49;00m \u001b[04m\u001b[36mjson\u001b[39;49;00m\r\n",
      "\u001b[34mimport\u001b[39;49;00m \u001b[04m\u001b[36mos\u001b[39;49;00m\r\n",
      "\u001b[34mimport\u001b[39;49;00m \u001b[04m\u001b[36mpickle\u001b[39;49;00m\r\n",
      "\u001b[34mimport\u001b[39;49;00m \u001b[04m\u001b[36msys\u001b[39;49;00m\r\n",
      "\u001b[34mimport\u001b[39;49;00m \u001b[04m\u001b[36msagemaker_containers\u001b[39;49;00m\r\n",
      "\u001b[34mimport\u001b[39;49;00m \u001b[04m\u001b[36mpandas\u001b[39;49;00m \u001b[34mas\u001b[39;49;00m \u001b[04m\u001b[36mpd\u001b[39;49;00m\r\n",
      "\u001b[34mimport\u001b[39;49;00m \u001b[04m\u001b[36mnumpy\u001b[39;49;00m \u001b[34mas\u001b[39;49;00m \u001b[04m\u001b[36mnp\u001b[39;49;00m\r\n",
      "\u001b[34mimport\u001b[39;49;00m \u001b[04m\u001b[36mtorch\u001b[39;49;00m\r\n",
      "\u001b[34mimport\u001b[39;49;00m \u001b[04m\u001b[36mtorch.nn\u001b[39;49;00m \u001b[34mas\u001b[39;49;00m \u001b[04m\u001b[36mnn\u001b[39;49;00m\r\n",
      "\u001b[34mimport\u001b[39;49;00m \u001b[04m\u001b[36mtorch.optim\u001b[39;49;00m \u001b[34mas\u001b[39;49;00m \u001b[04m\u001b[36moptim\u001b[39;49;00m\r\n",
      "\u001b[34mimport\u001b[39;49;00m \u001b[04m\u001b[36mtorch.utils.data\u001b[39;49;00m\r\n",
      "\r\n",
      "\u001b[34mfrom\u001b[39;49;00m \u001b[04m\u001b[36mmodel\u001b[39;49;00m \u001b[34mimport\u001b[39;49;00m LSTMClassifier\r\n",
      "\r\n",
      "\u001b[34mfrom\u001b[39;49;00m \u001b[04m\u001b[36mutils\u001b[39;49;00m \u001b[34mimport\u001b[39;49;00m review_to_words, convert_and_pad\r\n",
      "\r\n",
      "\u001b[34mdef\u001b[39;49;00m \u001b[32mmodel_fn\u001b[39;49;00m(model_dir):\r\n",
      "    \u001b[33m\"\"\"Load the PyTorch model from the `model_dir` directory.\"\"\"\u001b[39;49;00m\r\n",
      "    \u001b[34mprint\u001b[39;49;00m(\u001b[33m\"\u001b[39;49;00m\u001b[33mLoading model.\u001b[39;49;00m\u001b[33m\"\u001b[39;49;00m)\r\n",
      "\r\n",
      "    \u001b[37m# First, load the parameters used to create the model.\u001b[39;49;00m\r\n",
      "    model_info = {}\r\n",
      "    model_info_path = os.path.join(model_dir, \u001b[33m'\u001b[39;49;00m\u001b[33mmodel_info.pth\u001b[39;49;00m\u001b[33m'\u001b[39;49;00m)\r\n",
      "    \u001b[34mwith\u001b[39;49;00m \u001b[36mopen\u001b[39;49;00m(model_info_path, \u001b[33m'\u001b[39;49;00m\u001b[33mrb\u001b[39;49;00m\u001b[33m'\u001b[39;49;00m) \u001b[34mas\u001b[39;49;00m f:\r\n",
      "        model_info = torch.load(f)\r\n",
      "\r\n",
      "    \u001b[34mprint\u001b[39;49;00m(\u001b[33m\"\u001b[39;49;00m\u001b[33mmodel_info: {}\u001b[39;49;00m\u001b[33m\"\u001b[39;49;00m.format(model_info))\r\n",
      "\r\n",
      "    \u001b[37m# Determine the device and construct the model.\u001b[39;49;00m\r\n",
      "    device = torch.device(\u001b[33m\"\u001b[39;49;00m\u001b[33mcuda\u001b[39;49;00m\u001b[33m\"\u001b[39;49;00m \u001b[34mif\u001b[39;49;00m torch.cuda.is_available() \u001b[34melse\u001b[39;49;00m \u001b[33m\"\u001b[39;49;00m\u001b[33mcpu\u001b[39;49;00m\u001b[33m\"\u001b[39;49;00m)\r\n",
      "    model = LSTMClassifier(model_info[\u001b[33m'\u001b[39;49;00m\u001b[33membedding_dim\u001b[39;49;00m\u001b[33m'\u001b[39;49;00m], model_info[\u001b[33m'\u001b[39;49;00m\u001b[33mhidden_dim\u001b[39;49;00m\u001b[33m'\u001b[39;49;00m], model_info[\u001b[33m'\u001b[39;49;00m\u001b[33mvocab_size\u001b[39;49;00m\u001b[33m'\u001b[39;49;00m])\r\n",
      "\r\n",
      "    \u001b[37m# Load the store model parameters.\u001b[39;49;00m\r\n",
      "    model_path = os.path.join(model_dir, \u001b[33m'\u001b[39;49;00m\u001b[33mmodel.pth\u001b[39;49;00m\u001b[33m'\u001b[39;49;00m)\r\n",
      "    \u001b[34mwith\u001b[39;49;00m \u001b[36mopen\u001b[39;49;00m(model_path, \u001b[33m'\u001b[39;49;00m\u001b[33mrb\u001b[39;49;00m\u001b[33m'\u001b[39;49;00m) \u001b[34mas\u001b[39;49;00m f:\r\n",
      "        model.load_state_dict(torch.load(f))\r\n",
      "\r\n",
      "    \u001b[37m# Load the saved word_dict.\u001b[39;49;00m\r\n",
      "    word_dict_path = os.path.join(model_dir, \u001b[33m'\u001b[39;49;00m\u001b[33mword_dict.pkl\u001b[39;49;00m\u001b[33m'\u001b[39;49;00m)\r\n",
      "    \u001b[34mwith\u001b[39;49;00m \u001b[36mopen\u001b[39;49;00m(word_dict_path, \u001b[33m'\u001b[39;49;00m\u001b[33mrb\u001b[39;49;00m\u001b[33m'\u001b[39;49;00m) \u001b[34mas\u001b[39;49;00m f:\r\n",
      "        model.word_dict = pickle.load(f)\r\n",
      "\r\n",
      "    model.to(device).eval()\r\n",
      "\r\n",
      "    \u001b[34mprint\u001b[39;49;00m(\u001b[33m\"\u001b[39;49;00m\u001b[33mDone loading model.\u001b[39;49;00m\u001b[33m\"\u001b[39;49;00m)\r\n",
      "    \u001b[34mreturn\u001b[39;49;00m model\r\n",
      "\r\n",
      "\u001b[34mdef\u001b[39;49;00m \u001b[32minput_fn\u001b[39;49;00m(serialized_input_data, content_type):\r\n",
      "    \u001b[34mprint\u001b[39;49;00m(\u001b[33m'\u001b[39;49;00m\u001b[33mDeserializing the input data.\u001b[39;49;00m\u001b[33m'\u001b[39;49;00m)\r\n",
      "    \u001b[34mif\u001b[39;49;00m content_type == \u001b[33m'\u001b[39;49;00m\u001b[33mtext/plain\u001b[39;49;00m\u001b[33m'\u001b[39;49;00m:\r\n",
      "        data = serialized_input_data.decode(\u001b[33m'\u001b[39;49;00m\u001b[33mutf-8\u001b[39;49;00m\u001b[33m'\u001b[39;49;00m)\r\n",
      "        \u001b[34mreturn\u001b[39;49;00m data\r\n",
      "    \u001b[34mraise\u001b[39;49;00m \u001b[36mException\u001b[39;49;00m(\u001b[33m'\u001b[39;49;00m\u001b[33mRequested unsupported ContentType in content_type: \u001b[39;49;00m\u001b[33m'\u001b[39;49;00m + content_type)\r\n",
      "\r\n",
      "\u001b[34mdef\u001b[39;49;00m \u001b[32moutput_fn\u001b[39;49;00m(prediction_output, accept):\r\n",
      "    \u001b[34mprint\u001b[39;49;00m(\u001b[33m'\u001b[39;49;00m\u001b[33mSerializing the generated output.\u001b[39;49;00m\u001b[33m'\u001b[39;49;00m)\r\n",
      "    \u001b[34mreturn\u001b[39;49;00m \u001b[36mstr\u001b[39;49;00m(prediction_output)\r\n",
      "\r\n",
      "\u001b[34mdef\u001b[39;49;00m \u001b[32mpredict_fn\u001b[39;49;00m(input_data, model):\r\n",
      "    \u001b[34mprint\u001b[39;49;00m(\u001b[33m'\u001b[39;49;00m\u001b[33mInferring sentiment of input data.\u001b[39;49;00m\u001b[33m'\u001b[39;49;00m)\r\n",
      "\r\n",
      "    device = torch.device(\u001b[33m\"\u001b[39;49;00m\u001b[33mcuda\u001b[39;49;00m\u001b[33m\"\u001b[39;49;00m \u001b[34mif\u001b[39;49;00m torch.cuda.is_available() \u001b[34melse\u001b[39;49;00m \u001b[33m\"\u001b[39;49;00m\u001b[33mcpu\u001b[39;49;00m\u001b[33m\"\u001b[39;49;00m)\r\n",
      "    \r\n",
      "    \u001b[34mif\u001b[39;49;00m model.word_dict \u001b[35mis\u001b[39;49;00m \u001b[36mNone\u001b[39;49;00m:\r\n",
      "        \u001b[34mraise\u001b[39;49;00m \u001b[36mException\u001b[39;49;00m(\u001b[33m'\u001b[39;49;00m\u001b[33mModel has not been loaded properly, no word_dict.\u001b[39;49;00m\u001b[33m'\u001b[39;49;00m)\r\n",
      "    \r\n",
      "    \u001b[37m# TODO: Process input_data so that it is ready to be sent to our model.\u001b[39;49;00m\r\n",
      "    \u001b[37m#       You should produce two variables:\u001b[39;49;00m\r\n",
      "    \u001b[37m#         data_X   - A sequence of length 500 which represents the converted review\u001b[39;49;00m\r\n",
      "    \u001b[37m#         data_len - The length of the review\u001b[39;49;00m\r\n",
      "\r\n",
      "    data_X = \u001b[36mNone\u001b[39;49;00m\r\n",
      "    data_len = \u001b[36mNone\u001b[39;49;00m\r\n",
      "\r\n",
      "    \u001b[37m# Using data_X and data_len we construct an appropriate input tensor. Remember\u001b[39;49;00m\r\n",
      "    \u001b[37m# that our model expects input data of the form 'len, review[500]'.\u001b[39;49;00m\r\n",
      "    data_pack = np.hstack((data_len, data_X))\r\n",
      "    data_pack = data_pack.reshape(\u001b[34m1\u001b[39;49;00m, -\u001b[34m1\u001b[39;49;00m)\r\n",
      "    \r\n",
      "    data = torch.from_numpy(data_pack)\r\n",
      "    data = data.to(device)\r\n",
      "\r\n",
      "    \u001b[37m# Make sure to put the model into evaluation mode\u001b[39;49;00m\r\n",
      "    model.eval()\r\n",
      "\r\n",
      "    \u001b[37m# TODO: Compute the result of applying the model to the input data. The variable `result` should\u001b[39;49;00m\r\n",
      "    \u001b[37m#       be a numpy array which contains a single integer which is either 1 or 0\u001b[39;49;00m\r\n",
      "\r\n",
      "    result = \u001b[36mNone\u001b[39;49;00m\r\n",
      "\r\n",
      "    \u001b[34mreturn\u001b[39;49;00m result\r\n"
     ]
    }
   ],
   "source": [
    "!pygmentize serve/predict.py"
   ]
  },
  {
   "cell_type": "markdown",
   "metadata": {},
   "source": [
    "As mentioned earlier, the `model_fn` method is the same as the one provided in the training code and the `input_fn` and `output_fn` methods are very simple and your task will be to complete the `predict_fn` method. Make sure that you save the completed file as `predict.py` in the `serve` directory.\n",
    "\n",
    "**TODO**: Complete the `predict_fn()` method in the `serve/predict.py` file."
   ]
  },
  {
   "cell_type": "markdown",
   "metadata": {},
   "source": [
    "### Deploying the model\n",
    "\n",
    "Now that the custom inference code has been written, we will create and deploy our model. To begin with, we need to construct a new PyTorchModel object which points to the model artifacts created during training and also points to the inference code that we wish to use. Then we can call the deploy method to launch the deployment container.\n",
    "\n",
    "**NOTE**: The default behaviour for a deployed PyTorch model is to assume that any input passed to the predictor is a `numpy` array. In our case we want to send a string so we need to construct a simple wrapper around the `RealTimePredictor` class to accomodate simple strings. In a more complicated situation you may want to provide a serialization object, for example if you wanted to sent image data."
   ]
  },
  {
   "cell_type": "code",
   "execution_count": 41,
   "metadata": {},
   "outputs": [
    {
     "name": "stdout",
     "output_type": "stream",
     "text": [
      "----------------------------------------------------------------------------------------!"
     ]
    }
   ],
   "source": [
    "from sagemaker.predictor import RealTimePredictor\n",
    "from sagemaker.pytorch import PyTorchModel\n",
    "\n",
    "class StringPredictor(RealTimePredictor):\n",
    "    def __init__(self, endpoint_name, sagemaker_session):\n",
    "        super(StringPredictor, self).__init__(endpoint_name, sagemaker_session, content_type='text/plain')\n",
    "\n",
    "model = PyTorchModel(model_data=estimator.model_data,\n",
    "                     role = role,\n",
    "                     framework_version='0.4.0',\n",
    "                     entry_point='predict.py',\n",
    "                     source_dir='serve',\n",
    "                     predictor_cls=StringPredictor)\n",
    "predictor = model.deploy(initial_instance_count=1, instance_type='ml.m4.xlarge')"
   ]
  },
  {
   "cell_type": "markdown",
   "metadata": {},
   "source": [
    "### Testing the model\n",
    "\n",
    "Now that we have deployed our model with the custom inference code, we should test to see if everything is working. Here we test our model by loading the first `250` positive and negative reviews and send them to the endpoint, then collect the results. The reason for only sending some of the data is that the amount of time it takes for our model to process the input and then perform inference is quite long and so testing the entire data set would be prohibitive."
   ]
  },
  {
   "cell_type": "code",
   "execution_count": 45,
   "metadata": {},
   "outputs": [],
   "source": [
    "import glob\n",
    "\n",
    "def test_reviews(data_dir='../data/aclImdb', stop=250):\n",
    "    \n",
    "    results = []\n",
    "    ground = []\n",
    "    \n",
    "    # We make sure to test both positive and negative reviews    \n",
    "    for sentiment in ['pos', 'neg']:\n",
    "        \n",
    "        path = os.path.join(data_dir, 'test', sentiment, '*.txt')\n",
    "        files = glob.glob(path)\n",
    "        \n",
    "        files_read = 0\n",
    "        \n",
    "        print('Starting ', sentiment, ' files')\n",
    "        \n",
    "        # Iterate through the files and send them to the predictor\n",
    "        for f in files:\n",
    "            with open(f) as review:\n",
    "                # First, we store the ground truth (was the review positive or negative)\n",
    "                if sentiment == 'pos':\n",
    "                    ground.append(1)\n",
    "                else:\n",
    "                    ground.append(0)\n",
    "                # Read in the review and convert to 'utf-8' for transmission via HTTP\n",
    "                review_input = review.read().encode('utf-8')\n",
    "                # Send the review to the predictor and store the results\n",
    "                results.append(int(predictor.predict(review_input)))\n",
    "                \n",
    "            # Sending reviews to our endpoint one at a time takes a while so we\n",
    "            # only send a small number of reviews\n",
    "            files_read += 1\n",
    "            if files_read == stop:\n",
    "                break\n",
    "            \n",
    "    return ground, results"
   ]
  },
  {
   "cell_type": "code",
   "execution_count": 46,
   "metadata": {},
   "outputs": [
    {
     "name": "stdout",
     "output_type": "stream",
     "text": [
      "Starting  pos  files\n"
     ]
    },
    {
     "ename": "ModelError",
     "evalue": "An error occurred (ModelError) when calling the InvokeEndpoint operation: Received server error (500) from model with message \"<!DOCTYPE HTML PUBLIC \"-//W3C//DTD HTML 3.2 Final//EN\">\n<title>500 Internal Server Error</title>\n<h1>Internal Server Error</h1>\n<p>The server encountered an internal error and was unable to complete your request.  Either the server is overloaded or there is an error in the application.</p>\n\". See https://us-east-2.console.aws.amazon.com/cloudwatch/home?region=us-east-2#logEventViewer:group=/aws/sagemaker/Endpoints/sagemaker-pytorch-2019-06-18-22-08-49-759 in account 693943398376 for more information.",
     "output_type": "error",
     "traceback": [
      "\u001b[0;31m---------------------------------------------------------------------------\u001b[0m",
      "\u001b[0;31mModelError\u001b[0m                                Traceback (most recent call last)",
      "\u001b[0;32m<ipython-input-46-27d1fd4b7c7b>\u001b[0m in \u001b[0;36m<module>\u001b[0;34m()\u001b[0m\n\u001b[0;32m----> 1\u001b[0;31m \u001b[0mground\u001b[0m\u001b[0;34m,\u001b[0m \u001b[0mresults\u001b[0m \u001b[0;34m=\u001b[0m \u001b[0mtest_reviews\u001b[0m\u001b[0;34m(\u001b[0m\u001b[0;34m)\u001b[0m\u001b[0;34m\u001b[0m\u001b[0m\n\u001b[0m",
      "\u001b[0;32m<ipython-input-45-4c56d4ff716b>\u001b[0m in \u001b[0;36mtest_reviews\u001b[0;34m(data_dir, stop)\u001b[0m\n\u001b[1;32m     27\u001b[0m                 \u001b[0mreview_input\u001b[0m \u001b[0;34m=\u001b[0m \u001b[0mreview\u001b[0m\u001b[0;34m.\u001b[0m\u001b[0mread\u001b[0m\u001b[0;34m(\u001b[0m\u001b[0;34m)\u001b[0m\u001b[0;34m.\u001b[0m\u001b[0mencode\u001b[0m\u001b[0;34m(\u001b[0m\u001b[0;34m'utf-8'\u001b[0m\u001b[0;34m)\u001b[0m\u001b[0;34m\u001b[0m\u001b[0m\n\u001b[1;32m     28\u001b[0m                 \u001b[0;31m# Send the review to the predictor and store the results\u001b[0m\u001b[0;34m\u001b[0m\u001b[0;34m\u001b[0m\u001b[0m\n\u001b[0;32m---> 29\u001b[0;31m                 \u001b[0mresults\u001b[0m\u001b[0;34m.\u001b[0m\u001b[0mappend\u001b[0m\u001b[0;34m(\u001b[0m\u001b[0mint\u001b[0m\u001b[0;34m(\u001b[0m\u001b[0mpredictor\u001b[0m\u001b[0;34m.\u001b[0m\u001b[0mpredict\u001b[0m\u001b[0;34m(\u001b[0m\u001b[0mreview_input\u001b[0m\u001b[0;34m)\u001b[0m\u001b[0;34m)\u001b[0m\u001b[0;34m)\u001b[0m\u001b[0;34m\u001b[0m\u001b[0m\n\u001b[0m\u001b[1;32m     30\u001b[0m \u001b[0;34m\u001b[0m\u001b[0m\n\u001b[1;32m     31\u001b[0m             \u001b[0;31m# Sending reviews to our endpoint one at a time takes a while so we\u001b[0m\u001b[0;34m\u001b[0m\u001b[0;34m\u001b[0m\u001b[0m\n",
      "\u001b[0;32m~/anaconda3/envs/pytorch_p36/lib/python3.6/site-packages/sagemaker/predictor.py\u001b[0m in \u001b[0;36mpredict\u001b[0;34m(self, data, initial_args)\u001b[0m\n\u001b[1;32m     78\u001b[0m \u001b[0;34m\u001b[0m\u001b[0m\n\u001b[1;32m     79\u001b[0m         \u001b[0mrequest_args\u001b[0m \u001b[0;34m=\u001b[0m \u001b[0mself\u001b[0m\u001b[0;34m.\u001b[0m\u001b[0m_create_request_args\u001b[0m\u001b[0;34m(\u001b[0m\u001b[0mdata\u001b[0m\u001b[0;34m,\u001b[0m \u001b[0minitial_args\u001b[0m\u001b[0;34m)\u001b[0m\u001b[0;34m\u001b[0m\u001b[0m\n\u001b[0;32m---> 80\u001b[0;31m         \u001b[0mresponse\u001b[0m \u001b[0;34m=\u001b[0m \u001b[0mself\u001b[0m\u001b[0;34m.\u001b[0m\u001b[0msagemaker_session\u001b[0m\u001b[0;34m.\u001b[0m\u001b[0msagemaker_runtime_client\u001b[0m\u001b[0;34m.\u001b[0m\u001b[0minvoke_endpoint\u001b[0m\u001b[0;34m(\u001b[0m\u001b[0;34m**\u001b[0m\u001b[0mrequest_args\u001b[0m\u001b[0;34m)\u001b[0m\u001b[0;34m\u001b[0m\u001b[0m\n\u001b[0m\u001b[1;32m     81\u001b[0m         \u001b[0;32mreturn\u001b[0m \u001b[0mself\u001b[0m\u001b[0;34m.\u001b[0m\u001b[0m_handle_response\u001b[0m\u001b[0;34m(\u001b[0m\u001b[0mresponse\u001b[0m\u001b[0;34m)\u001b[0m\u001b[0;34m\u001b[0m\u001b[0m\n\u001b[1;32m     82\u001b[0m \u001b[0;34m\u001b[0m\u001b[0m\n",
      "\u001b[0;32m~/anaconda3/envs/pytorch_p36/lib/python3.6/site-packages/botocore/client.py\u001b[0m in \u001b[0;36m_api_call\u001b[0;34m(self, *args, **kwargs)\u001b[0m\n\u001b[1;32m    355\u001b[0m                     \"%s() only accepts keyword arguments.\" % py_operation_name)\n\u001b[1;32m    356\u001b[0m             \u001b[0;31m# The \"self\" in this scope is referring to the BaseClient.\u001b[0m\u001b[0;34m\u001b[0m\u001b[0;34m\u001b[0m\u001b[0m\n\u001b[0;32m--> 357\u001b[0;31m             \u001b[0;32mreturn\u001b[0m \u001b[0mself\u001b[0m\u001b[0;34m.\u001b[0m\u001b[0m_make_api_call\u001b[0m\u001b[0;34m(\u001b[0m\u001b[0moperation_name\u001b[0m\u001b[0;34m,\u001b[0m \u001b[0mkwargs\u001b[0m\u001b[0;34m)\u001b[0m\u001b[0;34m\u001b[0m\u001b[0m\n\u001b[0m\u001b[1;32m    358\u001b[0m \u001b[0;34m\u001b[0m\u001b[0m\n\u001b[1;32m    359\u001b[0m         \u001b[0m_api_call\u001b[0m\u001b[0;34m.\u001b[0m\u001b[0m__name__\u001b[0m \u001b[0;34m=\u001b[0m \u001b[0mstr\u001b[0m\u001b[0;34m(\u001b[0m\u001b[0mpy_operation_name\u001b[0m\u001b[0;34m)\u001b[0m\u001b[0;34m\u001b[0m\u001b[0m\n",
      "\u001b[0;32m~/anaconda3/envs/pytorch_p36/lib/python3.6/site-packages/botocore/client.py\u001b[0m in \u001b[0;36m_make_api_call\u001b[0;34m(self, operation_name, api_params)\u001b[0m\n\u001b[1;32m    659\u001b[0m             \u001b[0merror_code\u001b[0m \u001b[0;34m=\u001b[0m \u001b[0mparsed_response\u001b[0m\u001b[0;34m.\u001b[0m\u001b[0mget\u001b[0m\u001b[0;34m(\u001b[0m\u001b[0;34m\"Error\"\u001b[0m\u001b[0;34m,\u001b[0m \u001b[0;34m{\u001b[0m\u001b[0;34m}\u001b[0m\u001b[0;34m)\u001b[0m\u001b[0;34m.\u001b[0m\u001b[0mget\u001b[0m\u001b[0;34m(\u001b[0m\u001b[0;34m\"Code\"\u001b[0m\u001b[0;34m)\u001b[0m\u001b[0;34m\u001b[0m\u001b[0m\n\u001b[1;32m    660\u001b[0m             \u001b[0merror_class\u001b[0m \u001b[0;34m=\u001b[0m \u001b[0mself\u001b[0m\u001b[0;34m.\u001b[0m\u001b[0mexceptions\u001b[0m\u001b[0;34m.\u001b[0m\u001b[0mfrom_code\u001b[0m\u001b[0;34m(\u001b[0m\u001b[0merror_code\u001b[0m\u001b[0;34m)\u001b[0m\u001b[0;34m\u001b[0m\u001b[0m\n\u001b[0;32m--> 661\u001b[0;31m             \u001b[0;32mraise\u001b[0m \u001b[0merror_class\u001b[0m\u001b[0;34m(\u001b[0m\u001b[0mparsed_response\u001b[0m\u001b[0;34m,\u001b[0m \u001b[0moperation_name\u001b[0m\u001b[0;34m)\u001b[0m\u001b[0;34m\u001b[0m\u001b[0m\n\u001b[0m\u001b[1;32m    662\u001b[0m         \u001b[0;32melse\u001b[0m\u001b[0;34m:\u001b[0m\u001b[0;34m\u001b[0m\u001b[0m\n\u001b[1;32m    663\u001b[0m             \u001b[0;32mreturn\u001b[0m \u001b[0mparsed_response\u001b[0m\u001b[0;34m\u001b[0m\u001b[0m\n",
      "\u001b[0;31mModelError\u001b[0m: An error occurred (ModelError) when calling the InvokeEndpoint operation: Received server error (500) from model with message \"<!DOCTYPE HTML PUBLIC \"-//W3C//DTD HTML 3.2 Final//EN\">\n<title>500 Internal Server Error</title>\n<h1>Internal Server Error</h1>\n<p>The server encountered an internal error and was unable to complete your request.  Either the server is overloaded or there is an error in the application.</p>\n\". See https://us-east-2.console.aws.amazon.com/cloudwatch/home?region=us-east-2#logEventViewer:group=/aws/sagemaker/Endpoints/sagemaker-pytorch-2019-06-18-22-08-49-759 in account 693943398376 for more information."
     ]
    }
   ],
   "source": [
    "ground, results = test_reviews()"
   ]
  },
  {
   "cell_type": "code",
   "execution_count": 47,
   "metadata": {},
   "outputs": [
    {
     "ename": "NameError",
     "evalue": "name 'ground' is not defined",
     "output_type": "error",
     "traceback": [
      "\u001b[0;31m---------------------------------------------------------------------------\u001b[0m",
      "\u001b[0;31mNameError\u001b[0m                                 Traceback (most recent call last)",
      "\u001b[0;32m<ipython-input-47-f3e6875633e1>\u001b[0m in \u001b[0;36m<module>\u001b[0;34m()\u001b[0m\n\u001b[1;32m      1\u001b[0m \u001b[0;32mfrom\u001b[0m \u001b[0msklearn\u001b[0m\u001b[0;34m.\u001b[0m\u001b[0mmetrics\u001b[0m \u001b[0;32mimport\u001b[0m \u001b[0maccuracy_score\u001b[0m\u001b[0;34m\u001b[0m\u001b[0m\n\u001b[0;32m----> 2\u001b[0;31m \u001b[0maccuracy_score\u001b[0m\u001b[0;34m(\u001b[0m\u001b[0mground\u001b[0m\u001b[0;34m,\u001b[0m \u001b[0mresults\u001b[0m\u001b[0;34m)\u001b[0m\u001b[0;34m\u001b[0m\u001b[0m\n\u001b[0m",
      "\u001b[0;31mNameError\u001b[0m: name 'ground' is not defined"
     ]
    }
   ],
   "source": [
    "from sklearn.metrics import accuracy_score\n",
    "accuracy_score(ground, results)"
   ]
  },
  {
   "cell_type": "markdown",
   "metadata": {},
   "source": [
    "As an additional test, we can try sending the `test_review` that we looked at earlier."
   ]
  },
  {
   "cell_type": "code",
   "execution_count": 48,
   "metadata": {},
   "outputs": [
    {
     "ename": "ModelError",
     "evalue": "An error occurred (ModelError) when calling the InvokeEndpoint operation: Received server error (500) from model with message \"<!DOCTYPE HTML PUBLIC \"-//W3C//DTD HTML 3.2 Final//EN\">\n<title>500 Internal Server Error</title>\n<h1>Internal Server Error</h1>\n<p>The server encountered an internal error and was unable to complete your request.  Either the server is overloaded or there is an error in the application.</p>\n\". See https://us-east-2.console.aws.amazon.com/cloudwatch/home?region=us-east-2#logEventViewer:group=/aws/sagemaker/Endpoints/sagemaker-pytorch-2019-06-18-22-08-49-759 in account 693943398376 for more information.",
     "output_type": "error",
     "traceback": [
      "\u001b[0;31m---------------------------------------------------------------------------\u001b[0m",
      "\u001b[0;31mModelError\u001b[0m                                Traceback (most recent call last)",
      "\u001b[0;32m<ipython-input-48-ccef8a3a2cb2>\u001b[0m in \u001b[0;36m<module>\u001b[0;34m()\u001b[0m\n\u001b[0;32m----> 1\u001b[0;31m \u001b[0mpredictor\u001b[0m\u001b[0;34m.\u001b[0m\u001b[0mpredict\u001b[0m\u001b[0;34m(\u001b[0m\u001b[0mtest_review\u001b[0m\u001b[0;34m)\u001b[0m\u001b[0;34m\u001b[0m\u001b[0m\n\u001b[0m",
      "\u001b[0;32m~/anaconda3/envs/pytorch_p36/lib/python3.6/site-packages/sagemaker/predictor.py\u001b[0m in \u001b[0;36mpredict\u001b[0;34m(self, data, initial_args)\u001b[0m\n\u001b[1;32m     78\u001b[0m \u001b[0;34m\u001b[0m\u001b[0m\n\u001b[1;32m     79\u001b[0m         \u001b[0mrequest_args\u001b[0m \u001b[0;34m=\u001b[0m \u001b[0mself\u001b[0m\u001b[0;34m.\u001b[0m\u001b[0m_create_request_args\u001b[0m\u001b[0;34m(\u001b[0m\u001b[0mdata\u001b[0m\u001b[0;34m,\u001b[0m \u001b[0minitial_args\u001b[0m\u001b[0;34m)\u001b[0m\u001b[0;34m\u001b[0m\u001b[0m\n\u001b[0;32m---> 80\u001b[0;31m         \u001b[0mresponse\u001b[0m \u001b[0;34m=\u001b[0m \u001b[0mself\u001b[0m\u001b[0;34m.\u001b[0m\u001b[0msagemaker_session\u001b[0m\u001b[0;34m.\u001b[0m\u001b[0msagemaker_runtime_client\u001b[0m\u001b[0;34m.\u001b[0m\u001b[0minvoke_endpoint\u001b[0m\u001b[0;34m(\u001b[0m\u001b[0;34m**\u001b[0m\u001b[0mrequest_args\u001b[0m\u001b[0;34m)\u001b[0m\u001b[0;34m\u001b[0m\u001b[0m\n\u001b[0m\u001b[1;32m     81\u001b[0m         \u001b[0;32mreturn\u001b[0m \u001b[0mself\u001b[0m\u001b[0;34m.\u001b[0m\u001b[0m_handle_response\u001b[0m\u001b[0;34m(\u001b[0m\u001b[0mresponse\u001b[0m\u001b[0;34m)\u001b[0m\u001b[0;34m\u001b[0m\u001b[0m\n\u001b[1;32m     82\u001b[0m \u001b[0;34m\u001b[0m\u001b[0m\n",
      "\u001b[0;32m~/anaconda3/envs/pytorch_p36/lib/python3.6/site-packages/botocore/client.py\u001b[0m in \u001b[0;36m_api_call\u001b[0;34m(self, *args, **kwargs)\u001b[0m\n\u001b[1;32m    355\u001b[0m                     \"%s() only accepts keyword arguments.\" % py_operation_name)\n\u001b[1;32m    356\u001b[0m             \u001b[0;31m# The \"self\" in this scope is referring to the BaseClient.\u001b[0m\u001b[0;34m\u001b[0m\u001b[0;34m\u001b[0m\u001b[0m\n\u001b[0;32m--> 357\u001b[0;31m             \u001b[0;32mreturn\u001b[0m \u001b[0mself\u001b[0m\u001b[0;34m.\u001b[0m\u001b[0m_make_api_call\u001b[0m\u001b[0;34m(\u001b[0m\u001b[0moperation_name\u001b[0m\u001b[0;34m,\u001b[0m \u001b[0mkwargs\u001b[0m\u001b[0;34m)\u001b[0m\u001b[0;34m\u001b[0m\u001b[0m\n\u001b[0m\u001b[1;32m    358\u001b[0m \u001b[0;34m\u001b[0m\u001b[0m\n\u001b[1;32m    359\u001b[0m         \u001b[0m_api_call\u001b[0m\u001b[0;34m.\u001b[0m\u001b[0m__name__\u001b[0m \u001b[0;34m=\u001b[0m \u001b[0mstr\u001b[0m\u001b[0;34m(\u001b[0m\u001b[0mpy_operation_name\u001b[0m\u001b[0;34m)\u001b[0m\u001b[0;34m\u001b[0m\u001b[0m\n",
      "\u001b[0;32m~/anaconda3/envs/pytorch_p36/lib/python3.6/site-packages/botocore/client.py\u001b[0m in \u001b[0;36m_make_api_call\u001b[0;34m(self, operation_name, api_params)\u001b[0m\n\u001b[1;32m    659\u001b[0m             \u001b[0merror_code\u001b[0m \u001b[0;34m=\u001b[0m \u001b[0mparsed_response\u001b[0m\u001b[0;34m.\u001b[0m\u001b[0mget\u001b[0m\u001b[0;34m(\u001b[0m\u001b[0;34m\"Error\"\u001b[0m\u001b[0;34m,\u001b[0m \u001b[0;34m{\u001b[0m\u001b[0;34m}\u001b[0m\u001b[0;34m)\u001b[0m\u001b[0;34m.\u001b[0m\u001b[0mget\u001b[0m\u001b[0;34m(\u001b[0m\u001b[0;34m\"Code\"\u001b[0m\u001b[0;34m)\u001b[0m\u001b[0;34m\u001b[0m\u001b[0m\n\u001b[1;32m    660\u001b[0m             \u001b[0merror_class\u001b[0m \u001b[0;34m=\u001b[0m \u001b[0mself\u001b[0m\u001b[0;34m.\u001b[0m\u001b[0mexceptions\u001b[0m\u001b[0;34m.\u001b[0m\u001b[0mfrom_code\u001b[0m\u001b[0;34m(\u001b[0m\u001b[0merror_code\u001b[0m\u001b[0;34m)\u001b[0m\u001b[0;34m\u001b[0m\u001b[0m\n\u001b[0;32m--> 661\u001b[0;31m             \u001b[0;32mraise\u001b[0m \u001b[0merror_class\u001b[0m\u001b[0;34m(\u001b[0m\u001b[0mparsed_response\u001b[0m\u001b[0;34m,\u001b[0m \u001b[0moperation_name\u001b[0m\u001b[0;34m)\u001b[0m\u001b[0;34m\u001b[0m\u001b[0m\n\u001b[0m\u001b[1;32m    662\u001b[0m         \u001b[0;32melse\u001b[0m\u001b[0;34m:\u001b[0m\u001b[0;34m\u001b[0m\u001b[0m\n\u001b[1;32m    663\u001b[0m             \u001b[0;32mreturn\u001b[0m \u001b[0mparsed_response\u001b[0m\u001b[0;34m\u001b[0m\u001b[0m\n",
      "\u001b[0;31mModelError\u001b[0m: An error occurred (ModelError) when calling the InvokeEndpoint operation: Received server error (500) from model with message \"<!DOCTYPE HTML PUBLIC \"-//W3C//DTD HTML 3.2 Final//EN\">\n<title>500 Internal Server Error</title>\n<h1>Internal Server Error</h1>\n<p>The server encountered an internal error and was unable to complete your request.  Either the server is overloaded or there is an error in the application.</p>\n\". See https://us-east-2.console.aws.amazon.com/cloudwatch/home?region=us-east-2#logEventViewer:group=/aws/sagemaker/Endpoints/sagemaker-pytorch-2019-06-18-22-08-49-759 in account 693943398376 for more information."
     ]
    }
   ],
   "source": [
    "predictor.predict(test_review)"
   ]
  },
  {
   "cell_type": "markdown",
   "metadata": {},
   "source": [
    "Now that we know our endpoint is working as expected, we can set up the web page that will interact with it. If you don't have time to finish the project now, make sure to skip down to the end of this notebook and shut down your endpoint. You can deploy it again when you come back."
   ]
  },
  {
   "cell_type": "markdown",
   "metadata": {},
   "source": [
    "## Step 7 (again): Use the model for the web app\n",
    "\n",
    "> **TODO:** This entire section and the next contain tasks for you to complete, mostly using the AWS console.\n",
    "\n",
    "So far we have been accessing our model endpoint by constructing a predictor object which uses the endpoint and then just using the predictor object to perform inference. What if we wanted to create a web app which accessed our model? The way things are set up currently makes that not possible since in order to access a SageMaker endpoint the app would first have to authenticate with AWS using an IAM role which included access to SageMaker endpoints. However, there is an easier way! We just need to use some additional AWS services.\n",
    "\n",
    "<img src=\"Web App Diagram.svg\">\n",
    "\n",
    "The diagram above gives an overview of how the various services will work together. On the far right is the model which we trained above and which is deployed using SageMaker. On the far left is our web app that collects a user's movie review, sends it off and expects a positive or negative sentiment in return.\n",
    "\n",
    "In the middle is where some of the magic happens. We will construct a Lambda function, which you can think of as a straightforward Python function that can be executed whenever a specified event occurs. We will give this function permission to send and recieve data from a SageMaker endpoint.\n",
    "\n",
    "Lastly, the method we will use to execute the Lambda function is a new endpoint that we will create using API Gateway. This endpoint will be a url that listens for data to be sent to it. Once it gets some data it will pass that data on to the Lambda function and then return whatever the Lambda function returns. Essentially it will act as an interface that lets our web app communicate with the Lambda function.\n",
    "\n",
    "### Setting up a Lambda function\n",
    "\n",
    "The first thing we are going to do is set up a Lambda function. This Lambda function will be executed whenever our public API has data sent to it. When it is executed it will receive the data, perform any sort of processing that is required, send the data (the review) to the SageMaker endpoint we've created and then return the result.\n",
    "\n",
    "#### Part A: Create an IAM Role for the Lambda function\n",
    "\n",
    "Since we want the Lambda function to call a SageMaker endpoint, we need to make sure that it has permission to do so. To do this, we will construct a role that we can later give the Lambda function.\n",
    "\n",
    "Using the AWS Console, navigate to the **IAM** page and click on **Roles**. Then, click on **Create role**. Make sure that the **AWS service** is the type of trusted entity selected and choose **Lambda** as the service that will use this role, then click **Next: Permissions**.\n",
    "\n",
    "In the search box type `sagemaker` and select the check box next to the **AmazonSageMakerFullAccess** policy. Then, click on **Next: Review**.\n",
    "\n",
    "Lastly, give this role a name. Make sure you use a name that you will remember later on, for example `LambdaSageMakerRole`. Then, click on **Create role**.\n",
    "\n",
    "#### Part B: Create a Lambda function\n",
    "\n",
    "Now it is time to actually create the Lambda function.\n",
    "\n",
    "Using the AWS Console, navigate to the AWS Lambda page and click on **Create a function**. When you get to the next page, make sure that **Author from scratch** is selected. Now, name your Lambda function, using a name that you will remember later on, for example `sentiment_analysis_func`. Make sure that the **Python 3.6** runtime is selected and then choose the role that you created in the previous part. Then, click on **Create Function**.\n",
    "\n",
    "On the next page you will see some information about the Lambda function you've just created. If you scroll down you should see an editor in which you can write the code that will be executed when your Lambda function is triggered. In our example, we will use the code below. \n",
    "\n",
    "```python\n",
    "# We need to use the low-level library to interact with SageMaker since the SageMaker API\n",
    "# is not available natively through Lambda.\n",
    "import boto3\n",
    "\n",
    "def lambda_handler(event, context):\n",
    "\n",
    "    # The SageMaker runtime is what allows us to invoke the endpoint that we've created.\n",
    "    runtime = boto3.Session().client('sagemaker-runtime')\n",
    "\n",
    "    # Now we use the SageMaker runtime to invoke our endpoint, sending the review we were given\n",
    "    response = runtime.invoke_endpoint(EndpointName = '**ENDPOINT NAME HERE**',    # The name of the endpoint we created\n",
    "                                       ContentType = 'text/plain',                 # The data format that is expected\n",
    "                                       Body = event['body'])                       # The actual review\n",
    "\n",
    "    # The response is an HTTP response whose body contains the result of our inference\n",
    "    result = response['Body'].read().decode('utf-8')\n",
    "\n",
    "    return {\n",
    "        'statusCode' : 200,\n",
    "        'headers' : { 'Content-Type' : 'text/plain', 'Access-Control-Allow-Origin' : '*' },\n",
    "        'body' : result\n",
    "    }\n",
    "```\n",
    "\n",
    "Once you have copy and pasted the code above into the Lambda code editor, replace the `**ENDPOINT NAME HERE**` portion with the name of the endpoint that we deployed earlier. You can determine the name of the endpoint using the code cell below."
   ]
  },
  {
   "cell_type": "code",
   "execution_count": 42,
   "metadata": {},
   "outputs": [
    {
     "data": {
      "text/plain": [
       "'sagemaker-pytorch-2019-06-18-22-08-49-759'"
      ]
     },
     "execution_count": 42,
     "metadata": {},
     "output_type": "execute_result"
    }
   ],
   "source": [
    "predictor.endpoint"
   ]
  },
  {
   "cell_type": "markdown",
   "metadata": {},
   "source": [
    "Once you have added the endpoint name to the Lambda function, click on **Save**. Your Lambda function is now up and running. Next we need to create a way for our web app to execute the Lambda function.\n",
    "\n",
    "### Setting up API Gateway\n",
    "\n",
    "Now that our Lambda function is set up, it is time to create a new API using API Gateway that will trigger the Lambda function we have just created.\n",
    "\n",
    "Using AWS Console, navigate to **Amazon API Gateway** and then click on **Get started**.\n",
    "\n",
    "On the next page, make sure that **New API** is selected and give the new api a name, for example, `sentiment_analysis_api`. Then, click on **Create API**.\n",
    "\n",
    "Now we have created an API, however it doesn't currently do anything. What we want it to do is to trigger the Lambda function that we created earlier.\n",
    "\n",
    "Select the **Actions** dropdown menu and click **Create Method**. A new blank method will be created, select its dropdown menu and select **POST**, then click on the check mark beside it.\n",
    "\n",
    "For the integration point, make sure that **Lambda Function** is selected and click on the **Use Lambda Proxy integration**. This option makes sure that the data that is sent to the API is then sent directly to the Lambda function with no processing. It also means that the return value must be a proper response object as it will also not be processed by API Gateway.\n",
    "\n",
    "Type the name of the Lambda function you created earlier into the **Lambda Function** text entry box and then click on **Save**. Click on **OK** in the pop-up box that then appears, giving permission to API Gateway to invoke the Lambda function you created.\n",
    "\n",
    "The last step in creating the API Gateway is to select the **Actions** dropdown and click on **Deploy API**. You will need to create a new Deployment stage and name it anything you like, for example `prod`.\n",
    "\n",
    "You have now successfully set up a public API to access your SageMaker model. Make sure to copy or write down the URL provided to invoke your newly created public API as this will be needed in the next step. This URL can be found at the top of the page, highlighted in blue next to the text **Invoke URL**."
   ]
  },
  {
   "cell_type": "markdown",
   "metadata": {},
   "source": [
    "## Step 4: Deploying our web app\n",
    "\n",
    "Now that we have a publicly available API, we can start using it in a web app. For our purposes, we have provided a simple static html file which can make use of the public api you created earlier.\n",
    "\n",
    "In the `website` folder there should be a file called `index.html`. Download the file to your computer and open that file up in a text editor of your choice. There should be a line which contains **\\*\\*REPLACE WITH PUBLIC API URL\\*\\***. Replace this string with the url that you wrote down in the last step and then save the file.\n",
    "\n",
    "Now, if you open `index.html` on your local computer, your browser will behave as a local web server and you can use the provided site to interact with your SageMaker model.\n",
    "\n",
    "If you'd like to go further, you can host this html file anywhere you'd like, for example using github or hosting a static site on Amazon's S3. Once you have done this you can share the link with anyone you'd like and have them play with it too!\n",
    "\n",
    "> **Important Note** In order for the web app to communicate with the SageMaker endpoint, the endpoint has to actually be deployed and running. This means that you are paying for it. Make sure that the endpoint is running when you want to use the web app but that you shut it down when you don't need it, otherwise you will end up with a surprisingly large AWS bill.\n",
    "\n",
    "**TODO:** Make sure that you include the edited `index.html` file in your project submission."
   ]
  },
  {
   "cell_type": "code",
   "execution_count": null,
   "metadata": {},
   "outputs": [],
   "source": [
    "https://l094m4bbj5.execute-api.us-east-2.amazonaws.com/sentiment_analysis_func"
   ]
  },
  {
   "cell_type": "markdown",
   "metadata": {},
   "source": [
    "Now that your web app is working, trying playing around with it and see how well it works.\n",
    "\n",
    "**Question**: Give an example of a review that you entered into your web app. What was the predicted sentiment of your example review?"
   ]
  },
  {
   "cell_type": "markdown",
   "metadata": {},
   "source": [
    "**Answer:**\n",
    "\n",
    "I loved the movie! It is a great movie and I want to watch it a million times.\n",
    "\n",
    "Prediction: POSITIVE."
   ]
  },
  {
   "cell_type": "markdown",
   "metadata": {},
   "source": [
    "### Delete the endpoint\n",
    "\n",
    "Remember to always shut down your endpoint if you are no longer using it. You are charged for the length of time that the endpoint is running so if you forget and leave it on you could end up with an unexpectedly large bill."
   ]
  },
  {
   "cell_type": "code",
   "execution_count": null,
   "metadata": {},
   "outputs": [],
   "source": [
    "predictor.delete_endpoint()"
   ]
  }
 ],
 "metadata": {
  "kernelspec": {
   "display_name": "conda_pytorch_p36",
   "language": "python",
   "name": "conda_pytorch_p36"
  },
  "language_info": {
   "codemirror_mode": {
    "name": "ipython",
    "version": 3
   },
   "file_extension": ".py",
   "mimetype": "text/x-python",
   "name": "python",
   "nbconvert_exporter": "python",
   "pygments_lexer": "ipython3",
   "version": "3.6.5"
  }
 },
 "nbformat": 4,
 "nbformat_minor": 2
}
